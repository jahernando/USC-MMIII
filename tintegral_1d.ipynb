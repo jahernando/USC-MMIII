{
 "cells": [
  {
   "cell_type": "markdown",
   "metadata": {
    "slideshow": {
     "slide_type": "slide"
    }
   },
   "source": [
    "# Métodos III - Integrales\n",
    "\n",
    "\n",
    "## Integrales en una demisión\n",
    "\n",
    "\n",
    "Jose A. Hernando\n",
    "\n",
    "*Departamento de Física de Partículas. Universidade de Santiago de Compostela*\n",
    "\n",
    "Marzo 2021\n"
   ]
  },
  {
   "cell_type": "code",
   "execution_count": 19,
   "metadata": {
    "slideshow": {
     "slide_type": "fragment"
    }
   },
   "outputs": [
    {
     "name": "stdout",
     "output_type": "stream",
     "text": [
      " Last version  Mon Mar 22 10:06:38 2021\n"
     ]
    }
   ],
   "source": [
    "import time\n",
    "print(' Last version ', time.asctime() )"
   ]
  },
  {
   "cell_type": "markdown",
   "metadata": {
    "slideshow": {
     "slide_type": "slide"
    }
   },
   "source": [
    "### Objectivos\n",
    "\n",
    "Introducir el concepto de suma de Riemman\n",
    "\n",
    "Mostrar algunos ejemplos\n",
    "\n",
    "Recordad los métodos de Integración\n",
    "\n"
   ]
  },
  {
   "cell_type": "code",
   "execution_count": 20,
   "metadata": {
    "slideshow": {
     "slide_type": "slide"
    }
   },
   "outputs": [],
   "source": [
    "# general imports\n",
    "%matplotlib inline\n",
    "%reload_ext autoreload\n",
    "%autoreload 2\n",
    "\n",
    "# numpy and matplotlib\n",
    "import numpy as np\n",
    "import matplotlib\n",
    "import matplotlib.pyplot as plt\n",
    "from mpl_toolkits.mplot3d import Axes3D\n",
    "matplotlib.style.use('ggplot')\n",
    "import graph_utils as gf\n",
    "\n",
    "figsize = 6, 3.8\n",
    "cmap    = 'hot'"
   ]
  },
  {
   "cell_type": "markdown",
   "metadata": {
    "slideshow": {
     "slide_type": "slide"
    }
   },
   "source": [
    "## Integrales \n",
    "\n",
    "En la siguiente figura, ¿Cómo calcularías el área bajo la gráfica y el eje x?"
   ]
  },
  {
   "cell_type": "code",
   "execution_count": 23,
   "metadata": {
    "slideshow": {
     "slide_type": "fragment"
    }
   },
   "outputs": [
    {
     "data": {
      "image/png": "[encoded data removed]",
      "text/plain": [
       "<Figure size 432x288 with 1 Axes>"
      ]
     },
     "metadata": {},
     "output_type": "display_data"
    }
   ],
   "source": [
    "fun = lambda x : np.sin(x) \n",
    "a, b, size = 0., np.pi, 100\n",
    "xs  = np.linspace(a, b, size)\n",
    "plt.plot(xs, fun(xs), 'black'); plt.plot(xs, np.zeros(100), 'black');\n",
    "plt.fill_between(xs, fun(xs), alpha = 0.5); plt.xlabel(r'$x$'); plt.ylabel(r'$f(x)$');"
   ]
  },
  {
   "cell_type": "markdown",
   "metadata": {
    "slideshow": {
     "slide_type": "slide"
    }
   },
   "source": [
    "Vamos a definir primero qué es una partición de un intervalo\n",
    "\n",
    "####  Partición\n",
    "\n",
    "Una partición, $P$ es un conjunto finito, $x_0, \\; i = 0, \\dots, n$, de puntos consecutivos en el intervalo $[a, b]$, de tal forma que $x_0 = a, \\; x_n = b$ y $x_i < x_{i +1} \\; \\forall i$\n",
    "\n",
    "El tamaño o  norma, $\\| P \\|$, de una partición será el tamaño del mayor de sus subintervalos, $\\mathrm{máx}\\{x_{i} - x_{i-1}; \\; i = 1, \\dots, n \\}$\n",
    "\n",
    "Una partición es más pequeña o más fina que otra si su norma es más pequeña.\n",
    "\n",
    "Una partición es regular si $\\Delta x_i = \\delta, \\; i = 1, \\dots, n$"
   ]
  },
  {
   "cell_type": "markdown",
   "metadata": {
    "slideshow": {
     "slide_type": "slide"
    }
   },
   "source": [
    "### Suma de Riemann  \n",
    "\n",
    "Sea $P$ una partición del intervalo $[a, b]$, y $t_i$ un punto en el subintervalo $[x_{i-1}, x_i]$ y $\\Delta x_i = x_{i} - x_{i-1}$ con $i = 0, \\dots, n$, y $f(x)$ una función, $\\mathcal{R} \\to \\mathcal{R}$; llamamos suma de Rienmman a la cantidad:\n",
    "\n",
    "$$\n",
    "\\mathcal{S}(f, P) = \\sum_{i=1}^n f(t_i) \\, \\Delta x_i\n",
    "$$\n"
   ]
  },
  {
   "cell_type": "code",
   "execution_count": 25,
   "metadata": {
    "slideshow": {
     "slide_type": "slide"
    }
   },
   "outputs": [],
   "source": [
    "def riemann_sum(fun, a, b, size = 100, draw = False):\n",
    "    xs   = np.linspace(a, b, size)\n",
    "    dx   = xs[1] - xs[0]  \n",
    "    ts   = [xi + dx * np.random.uniform() for xi in xs[:-1]]\n",
    "    sr   = sum([fun(ti) * dx for ti in ts])\n",
    "    if (draw): \n",
    "        plt.bar(xs[:-1] + 0.5 * dx, fun(ts), dx)\n",
    "        plt.plot(xs, fun(xs), c= 'black')\n",
    "    return sr"
   ]
  },
  {
   "cell_type": "markdown",
   "metadata": {
    "slideshow": {
     "slide_type": "slide"
    }
   },
   "source": [
    "*Explora:* Modifica en la siguiente celda la función, el intervalo, y especialmente el número de subintervalos de la partición regular."
   ]
  },
  {
   "cell_type": "code",
   "execution_count": 31,
   "metadata": {
    "slideshow": {
     "slide_type": "fragment"
    }
   },
   "outputs": [
    {
     "name": "stdout",
     "output_type": "stream",
     "text": [
      "Riemann Sum 2.06727\n"
     ]
    },
    {
     "data": {
      "image/png": "[encoded data removed]",
      "text/plain": [
       "<Figure size 432x288 with 1 Axes>"
      ]
     },
     "metadata": {},
     "output_type": "display_data"
    }
   ],
   "source": [
    "rsum = riemann_sum(np.sin, 0, np.pi, size = 10, draw = True)\n",
    "print('Riemann Sum {:6.5f}'.format(rsum))"
   ]
  },
  {
   "cell_type": "markdown",
   "metadata": {
    "slideshow": {
     "slide_type": "slide"
    }
   },
   "source": [
    "En la siguiente celda estudiamos la evolución de la suma de Riemman para particiones regulares cada vez más finas."
   ]
  },
  {
   "cell_type": "code",
   "execution_count": 30,
   "metadata": {
    "slideshow": {
     "slide_type": "fragment"
    }
   },
   "outputs": [
    {
     "data": {
      "image/png": "[encoded data removed]",
      "text/plain": [
       "<Figure size 432x288 with 1 Axes>"
      ]
     },
     "metadata": {},
     "output_type": "display_data"
    }
   ],
   "source": [
    "fun   = lambda x : np.sin(x)\n",
    "a, b  = 0., np.pi\n",
    "sizes = [int(2**i) for i in range(1, 11)]\n",
    "srs   = [riemann_sum(fun, a, b, int(size)) for size in sizes]\n",
    "plt.plot(sizes, srs); plt.xscale('log'); plt.ylabel('Suma de Riemann'); plt.xlabel('subintervalos');"
   ]
  },
  {
   "cell_type": "markdown",
   "metadata": {
    "slideshow": {
     "slide_type": "fragment"
    }
   },
   "source": [
    "Comprobamos que la suma de Riemann para particiones cada vez más finas converte a un determinado valor $S$"
   ]
  },
  {
   "cell_type": "markdown",
   "metadata": {
    "slideshow": {
     "slide_type": "slide"
    }
   },
   "source": [
    "### Integral de Riemman\n",
    "\n",
    "\n",
    "Decimos que la función $f(x)$ es integrable Rienmann si existe un número $S$, o integral de Riemman, tal que $\\forall \\epsilon >0$, existe una partición $P_\\epsilon$ del intervalo $[a, b]$, tal que para una partición más fina que $P_\\epsilon$, y para cada elección de puntos $t_i$ del subintervalo $[x_{i-1}, \\, x_i]$, se cumple:\n",
    "\n",
    "$$\n",
    "| \\mathcal{S}(f, P) - S | < \\epsilon\n",
    "$$\n",
    "\n",
    "El número $S$ se representa por:\n",
    "\n",
    "$$\n",
    "S = \\int_a^b f(x) \\; \\mathrm{d}x\n",
    "$$"
   ]
  },
  {
   "cell_type": "markdown",
   "metadata": {
    "slideshow": {
     "slide_type": "slide"
    }
   },
   "source": [
    "La suma superior de Riemann se define:\n",
    "\n",
    "$$\n",
    "\\mathcal{U}(f, \\mathcal{P}) = \\sum_{i=1}^n f(x'_i) \\; \\Delta x_i \n",
    "$$\n",
    "\n",
    "donde ahora $x'_i$ es el valor del subintervalo $[x_{i-1}, \\,x_{i}]$ donde la función $f(x)$ es *máxima*.\n",
    "\n",
    "Y la suma inferior de Riemann:\n",
    "\n",
    "$$\n",
    "\\mathcal{L}(f, \\mathcal{P}) = \\sum_{i=1}^n f(x'_i) \\, \\Delta x_i  \n",
    "$$\n",
    "\n",
    "donde ahora $x'_i$ es el valor del intervalo $[x_{i-1}, x_{i}]$ donde la función $f(x)$ es *mínima*."
   ]
  },
  {
   "cell_type": "markdown",
   "metadata": {
    "slideshow": {
     "slide_type": "fragment"
    }
   },
   "source": [
    "Siempre se cumple:\n",
    "\n",
    "$$\n",
    "\\mathcal{L}(f, \\mathcal{P}) \\le \\mathcal{S}(f, \\mathcal{P}) \\le \\mathcal{U}(f, \\mathcal{P}) \n",
    "$$\n",
    "\n",
    "\n"
   ]
  },
  {
   "cell_type": "markdown",
   "metadata": {
    "slideshow": {
     "slide_type": "slide"
    }
   },
   "source": [
    "### Primer teorema fundamental del cálculo integral\n",
    "\n",
    "Sea $f(x)$ una función integrable Riemann en el intervalo $[a,b]$, definimos la función: \n",
    "\n",
    "\n",
    "$$\n",
    "F(x) = \\int_a^x f(x) \\; \\mathrm{d}x\n",
    "$$\n",
    "\n",
    "Si $f(x)$ es continua en $c \\in (a, b)$, $F(x)$ es derivable en $c$ con derivada: $F'(c) = f(c)$\n"
   ]
  },
  {
   "cell_type": "markdown",
   "metadata": {
    "slideshow": {
     "slide_type": "slide"
    }
   },
   "source": [
    "*Demostración:*\n",
    "\n",
    "Por definición de derivada:\n",
    "    \n",
    "$$\n",
    "F'(c) = \\lim_{h\\to0} \\frac{F(c+h)-F(c)}{h} \n",
    "$$\n",
    "\n",
    "En este caso, donde $h$ es pequeño.\n",
    "\n",
    "$$\n",
    "F(c+h)-F(c)  = \\int_a^{c+h} f(x) \\; \\mathrm{d}x - \\int_a^{c} f(x) \\; \\mathrm{d}x \\simeq f(t) \\, h\n",
    "= \\int_c^{c+h} f(x) \\; \\mathrm{d}x \\simeq f(t) \\, h\n",
    "$$\n",
    "\n",
    "Si consideramos $h$ suficientemente pequeño, damos la integral como la suma de Riemann en un intervalo $[c, c+h]$ con punto aletaorio $t$. Al hacer $h \\to 0, \\; t \\to c$, y:\n",
    "\n",
    "$$\n",
    "F'(c) = f(c)\n",
    "$$"
   ]
  },
  {
   "cell_type": "markdown",
   "metadata": {
    "slideshow": {
     "slide_type": "slide"
    }
   },
   "source": [
    "### Segundo teorema fundamental del cálculo integral\n",
    "\n",
    "\n",
    "Una función $F(x)$ se llama *primitiva* de una función $f(x)$ en un intervalo abierto $(a,b)$ si $F'(x) = f(x)$ para todo $x \\in (a,b)$.\n",
    "\n",
    "Dos primitivas de una funci\\'on solo pueden diferir en una constante: $P(x) = F(x) + C$ \n",
    "\n"
   ]
  },
  {
   "cell_type": "markdown",
   "metadata": {
    "slideshow": {
     "slide_type": "fragment"
    }
   },
   "source": [
    "**Teorema:** Sea $f(x)$ integrable Riemann en $[a,b]$, sea $P(x)$ una función definida en $(a,b)$, tal que exista la derivada $P'(x)$ en $(a,b)$ y cuyo valor sea $P'(x) = f(x)$, se cumple: \n",
    "\n",
    "$$\n",
    "\\int_a^b f(x) \\, \\mathrm{d}x = \\int_a^b P'(x) \\;\\mathrm{d}x = P(b) - P(a)\n",
    "$$ \n",
    "\n",
    "O lo que es lo mismo, sea $P(x)$ una primitiva cualquiera de $f(x)$, se cumple\n",
    "\n",
    "$$\n",
    "\\int_a^b f(x) \\, \\mathrm{d}x = P(b)-P(a)\n",
    "$$"
   ]
  },
  {
   "cell_type": "markdown",
   "metadata": {
    "slideshow": {
     "slide_type": "slide"
    }
   },
   "source": [
    "\n",
    "*Demostración:*\n",
    "\n",
    "Sea \n",
    "$$\n",
    "F(x) = \\int_a^x f(x) \\, \\mathrm{d}x\n",
    "$$\n",
    "\n",
    "Se cumple por el teorema anterior $F'(x)=f(x)$ o que $F(x)$ es una primitiva de $f(x)$.\n",
    "\n",
    "Dos primitivas difieren por una constante $C$:\n",
    "\n",
    "$$\n",
    "F(a) = P(a) +C = 0 \\\\\n",
    "F(b) = P(b) + C\n",
    "$$\n",
    "\n",
    "luego: \n",
    "$$\n",
    "C = - P(a) \\\\\n",
    "F(b) = P(b) - P(a)\n",
    "$$\n"
   ]
  },
  {
   "cell_type": "markdown",
   "metadata": {
    "slideshow": {
     "slide_type": "slide"
    }
   },
   "source": [
    "## Métodos de Integración\n",
    "\n",
    "\n",
    "Derivas es una tarea casi mecánica en Matemáticas, pero integrar, encontrar la primitiva, no lo es.\n",
    "\n",
    "Existen diversos métodos de integración que aplican en diferentes casos:\n",
    "\n",
    " * Integrales inmediatas.\n",
    " \n",
    " * Integración por partes.\n",
    " \n",
    " * Integración por sustitución.\n",
    " \n",
    " * Integración de fracciones de polinomios\n",
    " \n",
    " * Integración de funciones trigonométicas.\n",
    " \n",
    " * Integrales impropias.\n",
    " \n",
    "[Aquí](./pdfs/tintegrales_metodos.pdf) tienes un resumen de los métodos de integración con algunos ejemplos"
   ]
  }
 ],
 "metadata": {
  "anaconda-cloud": {},
  "celltoolbar": "Slideshow",
  "kernelspec": {
   "display_name": "Python 3",
   "language": "python",
   "name": "python3"
  },
  "language_info": {
   "codemirror_mode": {
    "name": "ipython",
    "version": 3
   },
   "file_extension": ".py",
   "mimetype": "text/x-python",
   "name": "python",
   "nbconvert_exporter": "python",
   "pygments_lexer": "ipython3",
   "version": "3.7.9"
  }
 },
 "nbformat": 4,
 "nbformat_minor": 1
}
