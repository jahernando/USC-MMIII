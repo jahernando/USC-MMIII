{
 "cells": [
  {
   "cell_type": "markdown",
   "metadata": {
    "slideshow": {
     "slide_type": "slide"
    }
   },
   "source": [
    "# Métodos III - Indice\n",
    "\n",
    "\n",
    "## Índice del curso\n",
    "\n",
    "\n",
    "Jose A. Hernando\n",
    "\n",
    "*Departamento de Física de Partículas. Universidade de Santiago de Compostela*\n",
    "\n",
    "Enero 2020\n"
   ]
  },
  {
   "cell_type": "code",
   "execution_count": 1,
   "metadata": {
    "slideshow": {
     "slide_type": "fragment"
    }
   },
   "outputs": [
    {
     "name": "stdout",
     "output_type": "stream",
     "text": [
      " Last version  Fri Feb 12 12:56:51 2021\n"
     ]
    }
   ],
   "source": [
    "import time\n",
    "print(' Last version ', time.asctime() )"
   ]
  },
  {
   "cell_type": "markdown",
   "metadata": {
    "slideshow": {
     "slide_type": "slide"
    }
   },
   "source": [
    "### Tema I - Derivadas en varias dimensiones\n",
    "\n",
    "* [Introducción](./tderivadas_introduccion.ipynb).\n",
    "    \n",
    "* [Funciones escalares y vectoriales](./tderivadas_funcion_escalar_vectorial.ipynb)\n",
    "\n",
    "* [Límites y Continuidad](./tderivadas_limites_continuidad.ipynb)\n",
    "\n",
    "* [Parametrización de líneas y superficies](tderivadas_parametrizacion_lineas_superficies.ipynb)\n",
    "\n",
    "* [Derivada direccional](./tderivadas_direccional_diferencial.ipynb)\n",
    "\n",
    "* [Gradiente y Jacobiana](./tderivadas_gradiante_jacobiana.ipynb)\n",
    "\n",
    "* [Cambio de coordenadas y Regla de la cadena](./tderivadas_coordenadas_cadena.ipynb)\n",
    "    \n",
    "* [Mínimos y Máximos](./tderivadas_min_max.ipynb)"
   ]
  },
  {
   "cell_type": "markdown",
   "metadata": {
    "slideshow": {
     "slide_type": "slide"
    }
   },
   "source": [
    "### Tema II - Integrales en varias dimensiones\n",
    "\n",
    "* Introducción\n",
    "    \n",
    "* [Integrales en 1 dimensión](./tintegral_1d.ipynb)\n",
    "\n",
    "* [Integrales en 2 dimensiones](./tintegral_2d.ipynb)\n",
    "\n",
    "* [Integrales en 3 dimensiones](./tintegral_3d.ipynb)"
   ]
  },
  {
   "cell_type": "markdown",
   "metadata": {
    "slideshow": {
     "slide_type": "slide"
    }
   },
   "source": [
    "### Tema III - Cálculo Vectorial\n",
    "\n",
    "* Introducción\n",
    "    \n",
    "* [Integral de línea](./tcalvec_integral_linea.ipynb)\n",
    "\n",
    "* [Integral de superficie](./tcalvec_integral_superficie.ipynb)\n",
    "\n",
    "* [Teorema de Green](./tcalvec_green.ipynb)\n",
    "\n",
    "* [Campos conservativos, rotacional, divergencia](./tcalvec_rotdiv_conservativos.ipynb)\n",
    "\n",
    "* [Teorema de Stockes. Teorema de Gauss](./tcalvec_stockes_gauss.ipynb)\n",
    "   "
   ]
  },
  {
   "cell_type": "markdown",
   "metadata": {
    "slideshow": {
     "slide_type": "slide"
    }
   },
   "source": [
    "### Tema IV - Series de Fourier\n",
    "\n",
    "* Introducción\n",
    "    \n",
    "* [Series de Fourier](./tfourier.ipynb)"
   ]
  },
  {
   "cell_type": "markdown",
   "metadata": {
    "slideshow": {
     "slide_type": "slide"
    }
   },
   "source": [
    "### Bibliografía\n",
    "\n",
    "* Marsden, Tromba, \"Cálculo vectorial\" 2004 Pearson, Addison Wesley\n",
    "\n",
    "* Apostol, \"Análisis Matemático\", 1991 Reverte\n",
    "\n",
    "* Apostol, \"Calculus\",1992 Reverte\n",
    "\n",
    "* Demidovich, \"Problemas y ejercicios del análisis matemáticos\" 1993 Paraninfo"
   ]
  },
  {
   "cell_type": "code",
   "execution_count": null,
   "metadata": {},
   "outputs": [],
   "source": []
  }
 ],
 "metadata": {
  "anaconda-cloud": {},
  "celltoolbar": "Slideshow",
  "kernelspec": {
   "display_name": "Python 3",
   "language": "python",
   "name": "python3"
  },
  "language_info": {
   "codemirror_mode": {
    "name": "ipython",
    "version": 3
   },
   "file_extension": ".py",
   "mimetype": "text/x-python",
   "name": "python",
   "nbconvert_exporter": "python",
   "pygments_lexer": "ipython3",
   "version": "3.7.9"
  }
 },
 "nbformat": 4,
 "nbformat_minor": 1
}
