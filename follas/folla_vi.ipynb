{
 "cells": [
  {
   "cell_type": "markdown",
   "metadata": {},
   "source": [
    "### Folla 1 - Trayectorias y superficies\n",
    "\n",
    "Marzo 2020"
   ]
  },
  {
   "cell_type": "code",
   "execution_count": 1,
   "metadata": {},
   "outputs": [
    {
     "name": "stdout",
     "output_type": "stream",
     "text": [
      " Last version  Tue Mar 31 09:15:06 2020\n"
     ]
    }
   ],
   "source": [
    "import time\n",
    "print(' Last version ', time.asctime() )"
   ]
  },
  {
   "cell_type": "code",
   "execution_count": 2,
   "metadata": {},
   "outputs": [],
   "source": [
    "# general imports\n",
    "%matplotlib inline\n",
    "%load_ext autoreload\n",
    "%autoreload 2\n",
    "\n",
    "# numpy and matplotlib\n",
    "import numpy as np\n",
    "import matplotlib\n",
    "import matplotlib.pyplot as plt\n",
    "from mpl_toolkits.mplot3d import Axes3D\n",
    "\n",
    "plt.style.context('seaborn-colorblind');\n",
    "import graph_utils as gf"
   ]
  },
  {
   "cell_type": "code",
   "execution_count": 26,
   "metadata": {},
   "outputs": [],
   "source": [
    "def line(ts, xfun, yfun, name = ''):\n",
    "    xs = xfun(ts)\n",
    "    ys = yfun(ts)\n",
    "    plt.plot(xs, ys)\n",
    "    plt.grid(True); plt.xlabel(r'$x$'); plt.ylabel(r'$y$')\n",
    "    if name != '': plt.title(name)\n",
    "    return"
   ]
  },
  {
   "cell_type": "code",
   "execution_count": 92,
   "metadata": {},
   "outputs": [],
   "source": [
    "x, t, u, v = sp.symbols('x t u v')\n",
    "a, b       = sp.symbols('a b')\n",
    "n, m       = sp.symbols('n m')"
   ]
  },
  {
   "cell_type": "code",
   "execution_count": 88,
   "metadata": {},
   "outputs": [
    {
     "data": {
      "text/latex": [
       "$\\displaystyle \\frac{5 a^{2} x^{7}}{7}$"
      ],
      "text/plain": [
       "5*a**2*x**7/7"
      ]
     },
     "execution_count": 88,
     "metadata": {},
     "output_type": "execute_result"
    }
   ],
   "source": [
    "### ejercicio 1\n",
    "sp.integrate(5*a**2*x**6, x)"
   ]
  },
  {
   "cell_type": "code",
   "execution_count": 89,
   "metadata": {},
   "outputs": [
    {
     "data": {
      "text/latex": [
       "$\\displaystyle a^{2} x + \\frac{a b x^{4}}{2} + \\frac{b^{2} x^{7}}{7}$"
      ],
      "text/plain": [
       "a**2*x + a*b*x**4/2 + b**2*x**7/7"
      ]
     },
     "execution_count": 89,
     "metadata": {},
     "output_type": "execute_result"
    }
   ],
   "source": [
    "sp.integrate((a+b*x**3)**2, x)"
   ]
  },
  {
   "cell_type": "code",
   "execution_count": 90,
   "metadata": {},
   "outputs": [
    {
     "data": {
      "text/latex": [
       "$\\displaystyle 1.28571428571429 a^{0.666666666666667} x^{2.33333333333333} - 1.8 a^{1.33333333333333} x^{1.66666666666667} + 1.0 a^{2.0} x^{1.0} - 0.333333333333333 x^{3.0}$"
      ],
      "text/plain": [
       "1.28571428571429*a**0.666666666666667*x**2.33333333333333 - 1.8*a**1.33333333333333*x**1.66666666666667 + 1.0*a**2.0*x**1.0 - 0.333333333333333*x**3.0"
      ]
     },
     "execution_count": 90,
     "metadata": {},
     "output_type": "execute_result"
    }
   ],
   "source": [
    "sp.integrate((a**(2/3)- x**(2/3))**3, x)"
   ]
  },
  {
   "cell_type": "code",
   "execution_count": 93,
   "metadata": {},
   "outputs": [
    {
     "data": {
      "text/latex": [
       "$\\displaystyle \\begin{cases} \\frac{\\sqrt{x} x^{m} \\Gamma\\left(m + \\frac{1}{2}\\right)}{\\Gamma\\left(m + \\frac{3}{2}\\right)} & \\text{for}\\: \\left|{x}\\right| > 1 \\vee \\left|{x}\\right| < 1 \\\\{G_{2, 2}^{1, 1}\\left(\\begin{matrix} 1 & m + \\frac{3}{2} \\\\m + \\frac{1}{2} & 0 \\end{matrix} \\middle| {x} \\right)} + {G_{2, 2}^{0, 2}\\left(\\begin{matrix} m + \\frac{3}{2}, 1 &  \\\\ & m + \\frac{1}{2}, 0 \\end{matrix} \\middle| {x} \\right)} & \\text{otherwise} \\end{cases} - \\begin{cases} \\frac{\\sqrt{x} x^{n} \\Gamma\\left(n + \\frac{1}{2}\\right)}{\\Gamma\\left(n + \\frac{3}{2}\\right)} & \\text{for}\\: \\left|{x}\\right| > 1 \\vee \\left|{x}\\right| < 1 \\\\{G_{2, 2}^{1, 1}\\left(\\begin{matrix} 1 & n + \\frac{3}{2} \\\\n + \\frac{1}{2} & 0 \\end{matrix} \\middle| {x} \\right)} + {G_{2, 2}^{0, 2}\\left(\\begin{matrix} n + \\frac{3}{2}, 1 &  \\\\ & n + \\frac{1}{2}, 0 \\end{matrix} \\middle| {x} \\right)} & \\text{otherwise} \\end{cases}$"
      ],
      "text/plain": [
       "Piecewise((sqrt(x)*x**m*gamma(m + 1/2)/gamma(m + 3/2), (Abs(x) > 1) | (Abs(x) < 1)), (meijerg(((1,), (m + 3/2,)), ((m + 1/2,), (0,)), x) + meijerg(((m + 3/2, 1), ()), ((), (m + 1/2, 0)), x), True)) - Piecewise((sqrt(x)*x**n*gamma(n + 1/2)/gamma(n + 3/2), (Abs(x) > 1) | (Abs(x) < 1)), (meijerg(((1,), (n + 3/2,)), ((n + 1/2,), (0,)), x) + meijerg(((n + 3/2, 1), ()), ((), (n + 1/2, 0)), x), True))"
      ]
     },
     "execution_count": 93,
     "metadata": {},
     "output_type": "execute_result"
    }
   ],
   "source": [
    "sp.integrate((x**m-x**n)/sp.sqrt(x), x)"
   ]
  },
  {
   "cell_type": "code",
   "execution_count": 30,
   "metadata": {},
   "outputs": [
    {
     "data": {
      "text/latex": [
       "$\\displaystyle \\frac{\\sqrt{15} \\operatorname{atan}{\\left(\\frac{\\sqrt{15} x}{5} \\right)}}{15}$"
      ],
      "text/plain": [
       "sqrt(15)*atan(sqrt(15)*x/5)/15"
      ]
     },
     "execution_count": 30,
     "metadata": {},
     "output_type": "execute_result"
    }
   ],
   "source": [
    "sp.integrate(1/(3*x*x +5))"
   ]
  },
  {
   "cell_type": "code",
   "execution_count": 94,
   "metadata": {},
   "outputs": [
    {
     "data": {
      "text/latex": [
       "$\\displaystyle \\frac{\\begin{cases} - i \\operatorname{acosh}{\\left(\\frac{x}{a^{2}} \\right)} & \\text{for}\\: \\frac{\\left|{x^{2}}\\right|}{\\left|{a^{4}}\\right|} > 1 \\\\\\operatorname{asin}{\\left(\\frac{x}{a^{2}} \\right)} & \\text{otherwise} \\end{cases}}{2}$"
      ],
      "text/plain": [
       "Piecewise((-I*acosh(x/a**2), Abs(x**2)/Abs(a**4) > 1), (asin(x/a**2), True))/2"
      ]
     },
     "execution_count": 94,
     "metadata": {},
     "output_type": "execute_result"
    }
   ],
   "source": [
    "a = sp.symbols('a')\n",
    "sp.integrate(1/(2*sp.sqrt(a**4-x*x)), x)"
   ]
  },
  {
   "cell_type": "code",
   "execution_count": 19,
   "metadata": {},
   "outputs": [
    {
     "data": {
      "text/latex": [
       "$\\displaystyle - e^{\\frac{1}{x}}$"
      ],
      "text/plain": [
       "-exp(1/x)"
      ]
     },
     "execution_count": 19,
     "metadata": {},
     "output_type": "execute_result"
    }
   ],
   "source": [
    "sp.integrate(sp.exp(1/x)/x**2)"
   ]
  },
  {
   "cell_type": "code",
   "execution_count": 18,
   "metadata": {},
   "outputs": [
    {
     "data": {
      "text/latex": [
       "$\\displaystyle \\frac{x}{2} + \\frac{\\sin{\\left(x \\right)} \\cos{\\left(x \\right)}}{2}$"
      ],
      "text/plain": [
       "x/2 + sin(x)*cos(x)/2"
      ]
     },
     "execution_count": 18,
     "metadata": {},
     "output_type": "execute_result"
    }
   ],
   "source": [
    "sp.integrate(sp.cos(x)**2)"
   ]
  },
  {
   "cell_type": "code",
   "execution_count": 14,
   "metadata": {},
   "outputs": [
    {
     "data": {
      "text/latex": [
       "$\\displaystyle - \\frac{\\log{\\left(\\sin^{2}{\\left(x \\right)} - 1 \\right)}}{2} + \\log{\\left(\\sin{\\left(x \\right)} \\right)}$"
      ],
      "text/plain": [
       "-log(sin(x)**2 - 1)/2 + log(sin(x))"
      ]
     },
     "execution_count": 14,
     "metadata": {},
     "output_type": "execute_result"
    }
   ],
   "source": [
    "sp.integrate(1/(sp.sin(x)*sp.cos(x)))"
   ]
  },
  {
   "cell_type": "code",
   "execution_count": 11,
   "metadata": {},
   "outputs": [
    {
     "data": {
      "text/latex": [
       "$\\displaystyle \\log{\\left(x - 1 \\right)} - \\log{\\left(x + 1 \\right)}$"
      ],
      "text/plain": [
       "log(x - 1) - log(x + 1)"
      ]
     },
     "execution_count": 11,
     "metadata": {},
     "output_type": "execute_result"
    }
   ],
   "source": [
    "sp.integrate(2/(x*x-1))"
   ]
  },
  {
   "cell_type": "code",
   "execution_count": 17,
   "metadata": {},
   "outputs": [
    {
     "data": {
      "text/latex": [
       "$\\displaystyle \\frac{\\tan^{2}{\\left(x \\right)} + 1}{\\tan{\\left(x \\right)}}$"
      ],
      "text/plain": [
       "(tan(x)**2 + 1)/tan(x)"
      ]
     },
     "execution_count": 17,
     "metadata": {},
     "output_type": "execute_result"
    }
   ],
   "source": [
    "sp.diff(sp.log(sp.tan(x)))"
   ]
  },
  {
   "cell_type": "markdown",
   "metadata": {},
   "source": [
    "### Ejercicio 2"
   ]
  },
  {
   "cell_type": "code",
   "execution_count": 31,
   "metadata": {},
   "outputs": [
    {
     "data": {
      "text/latex": [
       "$\\displaystyle \\frac{x^{2} \\log{\\left(x \\right)}}{2} - \\frac{x^{2}}{4}$"
      ],
      "text/plain": [
       "x**2*log(x)/2 - x**2/4"
      ]
     },
     "execution_count": 31,
     "metadata": {},
     "output_type": "execute_result"
    }
   ],
   "source": [
    "sp.integrate(x*sp.log(x))"
   ]
  },
  {
   "cell_type": "code",
   "execution_count": 32,
   "metadata": {},
   "outputs": [
    {
     "data": {
      "text/latex": [
       "$\\displaystyle \\frac{x \\sin{\\left(3 x \\right)}}{3} + \\frac{\\cos{\\left(3 x \\right)}}{9}$"
      ],
      "text/plain": [
       "x*sin(3*x)/3 + cos(3*x)/9"
      ]
     },
     "execution_count": 32,
     "metadata": {},
     "output_type": "execute_result"
    }
   ],
   "source": [
    "sp.integrate(x*sp.cos(3*x))"
   ]
  },
  {
   "cell_type": "code",
   "execution_count": 33,
   "metadata": {},
   "outputs": [
    {
     "data": {
      "text/latex": [
       "$\\displaystyle \\frac{x \\sin^{2}{\\left(x \\right)}}{4} - \\frac{x \\cos^{2}{\\left(x \\right)}}{4} + \\frac{\\sin{\\left(x \\right)} \\cos{\\left(x \\right)}}{4}$"
      ],
      "text/plain": [
       "x*sin(x)**2/4 - x*cos(x)**2/4 + sin(x)*cos(x)/4"
      ]
     },
     "execution_count": 33,
     "metadata": {},
     "output_type": "execute_result"
    }
   ],
   "source": [
    "sp.integrate(x*sp.sin(x)*sp.cos(x))"
   ]
  },
  {
   "cell_type": "code",
   "execution_count": 39,
   "metadata": {},
   "outputs": [
    {
     "data": {
      "text/latex": [
       "$\\displaystyle \\frac{x \\tan{\\left(\\frac{x}{2} \\right)}}{2} - \\frac{x}{2 \\tan{\\left(\\frac{x}{2} \\right)}} - \\log{\\left(\\frac{1}{\\cos{\\left(x \\right)} + 1} \\right)} + \\log{\\left(\\tan{\\left(\\frac{x}{2} \\right)} \\right)} - \\log{\\left(2 \\right)}$"
      ],
      "text/plain": [
       "x*tan(x/2)/2 - x/(2*tan(x/2)) - log(1/(cos(x) + 1)) + log(tan(x/2)) - log(2)"
      ]
     },
     "execution_count": 39,
     "metadata": {},
     "output_type": "execute_result"
    }
   ],
   "source": [
    "sp.simplify(sp.integrate(x/sp.sin(x)**2))"
   ]
  },
  {
   "cell_type": "code",
   "execution_count": 45,
   "metadata": {},
   "outputs": [
    {
     "data": {
      "text/latex": [
       "$\\displaystyle x + \\frac{x \\cos^{2}{\\left(x \\right)}}{\\sin^{2}{\\left(x \\right)}}$"
      ],
      "text/plain": [
       "x + x*cos(x)**2/sin(x)**2"
      ]
     },
     "execution_count": 45,
     "metadata": {},
     "output_type": "execute_result"
    }
   ],
   "source": [
    "sp.diff(-x*sp.cos(x)/sp.sin(x) + sp.log(sp.sin(x)))"
   ]
  },
  {
   "cell_type": "code",
   "execution_count": 36,
   "metadata": {},
   "outputs": [
    {
     "data": {
      "text/latex": [
       "$\\displaystyle x \\log{\\left(x \\right)}^{2} - 2 x \\log{\\left(x \\right)} + 2 x$"
      ],
      "text/plain": [
       "x*log(x)**2 - 2*x*log(x) + 2*x"
      ]
     },
     "execution_count": 36,
     "metadata": {},
     "output_type": "execute_result"
    }
   ],
   "source": [
    "sp.integrate(sp.log(x)**2)"
   ]
  },
  {
   "cell_type": "code",
   "execution_count": 38,
   "metadata": {},
   "outputs": [
    {
     "data": {
      "text/latex": [
       "$\\displaystyle \\left(x^{2} - 2 x + 2\\right) e^{x}$"
      ],
      "text/plain": [
       "(x**2 - 2*x + 2)*exp(x)"
      ]
     },
     "execution_count": 38,
     "metadata": {},
     "output_type": "execute_result"
    }
   ],
   "source": [
    "sp.integrate(x**2*sp.exp(x))"
   ]
  },
  {
   "cell_type": "markdown",
   "metadata": {},
   "source": [
    "### Ejercicio 3"
   ]
  },
  {
   "cell_type": "code",
   "execution_count": 46,
   "metadata": {},
   "outputs": [
    {
     "data": {
      "text/latex": [
       "$\\displaystyle - \\cos{\\left(e^{x} \\right)}$"
      ],
      "text/plain": [
       "-cos(exp(x))"
      ]
     },
     "execution_count": 46,
     "metadata": {},
     "output_type": "execute_result"
    }
   ],
   "source": [
    "sp.integrate(sp.exp(x)*sp.sin(sp.exp(x)))"
   ]
  },
  {
   "cell_type": "code",
   "execution_count": 47,
   "metadata": {},
   "outputs": [
    {
     "data": {
      "text/latex": [
       "$\\displaystyle - \\frac{e^{- x^{2}}}{2}$"
      ],
      "text/plain": [
       "-exp(-x**2)/2"
      ]
     },
     "execution_count": 47,
     "metadata": {},
     "output_type": "execute_result"
    }
   ],
   "source": [
    "sp.integrate(x*sp.exp(-x**2))"
   ]
  },
  {
   "cell_type": "code",
   "execution_count": 48,
   "metadata": {},
   "outputs": [
    {
     "data": {
      "text/latex": [
       "$\\displaystyle \\frac{\\log{\\left(x \\right)}^{2}}{2}$"
      ],
      "text/plain": [
       "log(x)**2/2"
      ]
     },
     "execution_count": 48,
     "metadata": {},
     "output_type": "execute_result"
    }
   ],
   "source": [
    "sp.integrate(sp.log(x)/x)"
   ]
  },
  {
   "cell_type": "code",
   "execution_count": 49,
   "metadata": {},
   "outputs": [
    {
     "data": {
      "text/latex": [
       "$\\displaystyle e^{e^{x}}$"
      ],
      "text/plain": [
       "exp(exp(x))"
      ]
     },
     "execution_count": 49,
     "metadata": {},
     "output_type": "execute_result"
    }
   ],
   "source": [
    "sp.integrate(sp.exp(sp.exp(x))*sp.exp(x))"
   ]
  },
  {
   "cell_type": "code",
   "execution_count": 50,
   "metadata": {},
   "outputs": [
    {
     "data": {
      "text/latex": [
       "$\\displaystyle \\begin{cases} - \\frac{i \\operatorname{acosh}{\\left(x^{2} \\right)}}{2} & \\text{for}\\: \\left|{x^{4}}\\right| > 1 \\\\\\frac{\\operatorname{asin}{\\left(x^{2} \\right)}}{2} & \\text{otherwise} \\end{cases}$"
      ],
      "text/plain": [
       "Piecewise((-I*acosh(x**2)/2, Abs(x**4) > 1), (asin(x**2)/2, True))"
      ]
     },
     "execution_count": 50,
     "metadata": {},
     "output_type": "execute_result"
    }
   ],
   "source": [
    "sp.integrate(x/sp.sqrt(1-x**4))"
   ]
  },
  {
   "cell_type": "code",
   "execution_count": 52,
   "metadata": {},
   "outputs": [
    {
     "data": {
      "text/latex": [
       "$\\displaystyle 2 e^{\\sqrt{x}}$"
      ],
      "text/plain": [
       "2*exp(sqrt(x))"
      ]
     },
     "execution_count": 52,
     "metadata": {},
     "output_type": "execute_result"
    }
   ],
   "source": [
    "sp.integrate(sp.exp(sp.sqrt(x))/sp.sqrt(x))"
   ]
  },
  {
   "cell_type": "code",
   "execution_count": 53,
   "metadata": {},
   "outputs": [
    {
     "data": {
      "text/latex": [
       "$\\displaystyle \\frac{x^{2} \\sqrt{1 - x^{2}}}{3} - \\frac{\\sqrt{1 - x^{2}}}{3}$"
      ],
      "text/plain": [
       "x**2*sqrt(1 - x**2)/3 - sqrt(1 - x**2)/3"
      ]
     },
     "execution_count": 53,
     "metadata": {},
     "output_type": "execute_result"
    }
   ],
   "source": [
    "sp.integrate(x*sp.sqrt(1-x**2))"
   ]
  },
  {
   "cell_type": "code",
   "execution_count": 54,
   "metadata": {},
   "outputs": [
    {
     "data": {
      "text/latex": [
       "$\\displaystyle - \\frac{\\log{\\left(\\cos{\\left(x \\right)} \\right)}^{2}}{2}$"
      ],
      "text/plain": [
       "-log(cos(x))**2/2"
      ]
     },
     "execution_count": 54,
     "metadata": {},
     "output_type": "execute_result"
    }
   ],
   "source": [
    "sp.integrate(sp.log(sp.cos(x))*sp.tan(x))"
   ]
  },
  {
   "cell_type": "code",
   "execution_count": 55,
   "metadata": {},
   "outputs": [
    {
     "data": {
      "text/latex": [
       "$\\displaystyle \\frac{\\log{\\left(\\log{\\left(x \\right)} \\right)}^{2}}{2}$"
      ],
      "text/plain": [
       "log(log(x))**2/2"
      ]
     },
     "execution_count": 55,
     "metadata": {},
     "output_type": "execute_result"
    }
   ],
   "source": [
    "sp.integrate(sp.log(sp.log(x))/(x*sp.log(x)))"
   ]
  },
  {
   "cell_type": "markdown",
   "metadata": {},
   "source": [
    "### Ejercicio 4"
   ]
  },
  {
   "cell_type": "code",
   "execution_count": 56,
   "metadata": {},
   "outputs": [
    {
     "data": {
      "text/latex": [
       "$\\displaystyle \\frac{\\operatorname{atan}{\\left(x^{2} \\right)}}{2}$"
      ],
      "text/plain": [
       "atan(x**2)/2"
      ]
     },
     "execution_count": 56,
     "metadata": {},
     "output_type": "execute_result"
    }
   ],
   "source": [
    "sp.integrate(x/(1+x**4))"
   ]
  },
  {
   "cell_type": "code",
   "execution_count": 57,
   "metadata": {},
   "outputs": [
    {
     "data": {
      "text/latex": [
       "$\\displaystyle \\log{\\left(x - 2 \\right)} - \\log{\\left(x - 1 \\right)}$"
      ],
      "text/plain": [
       "log(x - 2) - log(x - 1)"
      ]
     },
     "execution_count": 57,
     "metadata": {},
     "output_type": "execute_result"
    }
   ],
   "source": [
    "sp.integrate(1/((x-1)*(x-2)))"
   ]
  },
  {
   "cell_type": "code",
   "execution_count": 58,
   "metadata": {},
   "outputs": [
    {
     "data": {
      "text/latex": [
       "$\\displaystyle \\frac{2 \\sin{\\left(x \\right)} \\sin{\\left(2 x \\right)}}{3} + \\frac{\\cos{\\left(x \\right)} \\cos{\\left(2 x \\right)}}{3}$"
      ],
      "text/plain": [
       "2*sin(x)*sin(2*x)/3 + cos(x)*cos(2*x)/3"
      ]
     },
     "execution_count": 58,
     "metadata": {},
     "output_type": "execute_result"
    }
   ],
   "source": [
    "sp.integrate(sp.sin(x)*sp.cos(2*x))"
   ]
  },
  {
   "cell_type": "code",
   "execution_count": 59,
   "metadata": {},
   "outputs": [
    {
     "data": {
      "text/latex": [
       "$\\displaystyle - x^{2} \\cos{\\left(x \\right)} + 2 x \\sin{\\left(x \\right)} + 2 \\cos{\\left(x \\right)}$"
      ],
      "text/plain": [
       "-x**2*cos(x) + 2*x*sin(x) + 2*cos(x)"
      ]
     },
     "execution_count": 59,
     "metadata": {},
     "output_type": "execute_result"
    }
   ],
   "source": [
    "sp.integrate(x**2*sp.sin(x))"
   ]
  },
  {
   "cell_type": "code",
   "execution_count": 60,
   "metadata": {},
   "outputs": [
    {
     "data": {
      "text/latex": [
       "$\\displaystyle \\frac{\\log{\\left(x - 3 \\right)}}{4} - \\frac{\\log{\\left(x + 1 \\right)}}{4}$"
      ],
      "text/plain": [
       "log(x - 3)/4 - log(x + 1)/4"
      ]
     },
     "execution_count": 60,
     "metadata": {},
     "output_type": "execute_result"
    }
   ],
   "source": [
    "sp.integrate(1/(x**2-2*x-3))"
   ]
  },
  {
   "cell_type": "code",
   "execution_count": 61,
   "metadata": {},
   "outputs": [
    {
     "data": {
      "text/latex": [
       "$\\displaystyle x \\operatorname{atan}{\\left(x \\right)} - \\frac{\\log{\\left(x^{2} + 1 \\right)}}{2}$"
      ],
      "text/plain": [
       "x*atan(x) - log(x**2 + 1)/2"
      ]
     },
     "execution_count": 61,
     "metadata": {},
     "output_type": "execute_result"
    }
   ],
   "source": [
    "sp.integrate(sp.atan(x))"
   ]
  },
  {
   "cell_type": "code",
   "execution_count": 62,
   "metadata": {},
   "outputs": [
    {
     "data": {
      "text/latex": [
       "$\\displaystyle \\frac{x^{2} \\log{\\left(x \\right)}^{2}}{2} - \\frac{x^{2} \\log{\\left(x \\right)}}{2} + \\frac{x^{2}}{4}$"
      ],
      "text/plain": [
       "x**2*log(x)**2/2 - x**2*log(x)/2 + x**2/4"
      ]
     },
     "execution_count": 62,
     "metadata": {},
     "output_type": "execute_result"
    }
   ],
   "source": [
    "sp.integrate(x*sp.log(x)**2)"
   ]
  },
  {
   "cell_type": "code",
   "execution_count": 63,
   "metadata": {},
   "outputs": [
    {
     "data": {
      "text/latex": [
       "$\\displaystyle \\int \\frac{\\log{\\left(\\tan{\\left(x \\right)} \\right)}}{\\cos^{2}{\\left(x \\right)}}\\, dx$"
      ],
      "text/plain": [
       "Integral(log(tan(x))/cos(x)**2, x)"
      ]
     },
     "execution_count": 63,
     "metadata": {},
     "output_type": "execute_result"
    }
   ],
   "source": [
    "sp.integrate(sp.log(sp.tan(x))/sp.cos(x)**2)"
   ]
  },
  {
   "cell_type": "code",
   "execution_count": 64,
   "metadata": {},
   "outputs": [
    {
     "data": {
      "text/latex": [
       "$\\displaystyle \\int \\frac{\\tan{\\left(x \\right)}}{\\log{\\left(\\cos{\\left(x \\right)} \\right)}^{2}}\\, dx$"
      ],
      "text/plain": [
       "Integral(tan(x)/log(cos(x))**2, x)"
      ]
     },
     "execution_count": 64,
     "metadata": {},
     "output_type": "execute_result"
    }
   ],
   "source": [
    "sp.integrate(sp.tan(x)/(sp.log(sp.cos(x))**2))"
   ]
  },
  {
   "cell_type": "code",
   "execution_count": 65,
   "metadata": {},
   "outputs": [
    {
     "data": {
      "text/latex": [
       "$\\displaystyle - \\sqrt{x} + x \\operatorname{atan}{\\left(\\sqrt{x} \\right)} + \\operatorname{atan}{\\left(\\sqrt{x} \\right)}$"
      ],
      "text/plain": [
       "-sqrt(x) + x*atan(sqrt(x)) + atan(sqrt(x))"
      ]
     },
     "execution_count": 65,
     "metadata": {},
     "output_type": "execute_result"
    }
   ],
   "source": [
    "sp.integrate(sp.atan(sp.sqrt(x)))"
   ]
  },
  {
   "cell_type": "code",
   "execution_count": 66,
   "metadata": {},
   "outputs": [
    {
     "data": {
      "text/latex": [
       "$\\displaystyle \\frac{x^{2} \\sin^{2}{\\left(x \\right)}}{4} + \\frac{x^{2} \\cos^{2}{\\left(x \\right)}}{4} - \\frac{x \\sin{\\left(x \\right)} \\cos{\\left(x \\right)}}{2} + \\frac{\\sin^{2}{\\left(x \\right)}}{4}$"
      ],
      "text/plain": [
       "x**2*sin(x)**2/4 + x**2*cos(x)**2/4 - x*sin(x)*cos(x)/2 + sin(x)**2/4"
      ]
     },
     "execution_count": 66,
     "metadata": {},
     "output_type": "execute_result"
    }
   ],
   "source": [
    "sp.integrate(x*sp.sin(x)**2)"
   ]
  },
  {
   "cell_type": "code",
   "execution_count": 67,
   "metadata": {},
   "outputs": [
    {
     "data": {
      "text/latex": [
       "$\\displaystyle - \\frac{1.0}{1.0 e^{x} + 1.0}$"
      ],
      "text/plain": [
       "-1.0/(1.0*exp(x) + 1.0)"
      ]
     },
     "execution_count": 67,
     "metadata": {},
     "output_type": "execute_result"
    }
   ],
   "source": [
    "sp.integrate(sp.exp(x)/(2.*sp.exp(x)+ sp.exp(2*x)+1))"
   ]
  },
  {
   "cell_type": "code",
   "execution_count": 68,
   "metadata": {},
   "outputs": [
    {
     "data": {
      "text/latex": [
       "$\\displaystyle \\frac{2 x^{3} \\sqrt{x^{3} + 3}}{9} - \\frac{4 \\sqrt{x^{3} + 3}}{3}$"
      ],
      "text/plain": [
       "2*x**3*sqrt(x**3 + 3)/9 - 4*sqrt(x**3 + 3)/3"
      ]
     },
     "execution_count": 68,
     "metadata": {},
     "output_type": "execute_result"
    }
   ],
   "source": [
    "sp.integrate(x**5/(sp.sqrt(x**3+3)))"
   ]
  },
  {
   "cell_type": "code",
   "execution_count": 70,
   "metadata": {},
   "outputs": [
    {
     "data": {
      "text/latex": [
       "$\\displaystyle \\frac{\\left(9 x^{2} - 6 x + 2\\right) e^{3 x}}{27}$"
      ],
      "text/plain": [
       "(9*x**2 - 6*x + 2)*exp(3*x)/27"
      ]
     },
     "execution_count": 70,
     "metadata": {},
     "output_type": "execute_result"
    }
   ],
   "source": [
    "sp.integrate(x**2*sp.exp(3*x))"
   ]
  },
  {
   "cell_type": "code",
   "execution_count": 72,
   "metadata": {},
   "outputs": [
    {
     "data": {
      "text/latex": [
       "$\\displaystyle \\frac{\\log{\\left(x - 7 \\right)}}{12} - \\frac{\\log{\\left(x + 5 \\right)}}{12}$"
      ],
      "text/plain": [
       "log(x - 7)/12 - log(x + 5)/12"
      ]
     },
     "execution_count": 72,
     "metadata": {},
     "output_type": "execute_result"
    }
   ],
   "source": [
    "sp.integrate(1/(x**2-2*x-35))"
   ]
  },
  {
   "cell_type": "code",
   "execution_count": 73,
   "metadata": {},
   "outputs": [
    {
     "data": {
      "text/latex": [
       "$\\displaystyle \\frac{x^{2} \\operatorname{atan}{\\left(x \\right)}}{2} - \\frac{x}{2} + \\frac{\\operatorname{atan}{\\left(x \\right)}}{2}$"
      ],
      "text/plain": [
       "x**2*atan(x)/2 - x/2 + atan(x)/2"
      ]
     },
     "execution_count": 73,
     "metadata": {},
     "output_type": "execute_result"
    }
   ],
   "source": [
    "sp.integrate(x*sp.atan(x))"
   ]
  },
  {
   "cell_type": "code",
   "execution_count": 74,
   "metadata": {},
   "outputs": [
    {
     "data": {
      "text/latex": [
       "$\\displaystyle \\frac{2 x^{\\frac{3}{2}}}{3}$"
      ],
      "text/plain": [
       "2*x**(3/2)/3"
      ]
     },
     "execution_count": 74,
     "metadata": {},
     "output_type": "execute_result"
    }
   ],
   "source": [
    "sp.integrate(x/(1*sp.sqrt(x)))"
   ]
  },
  {
   "cell_type": "code",
   "execution_count": 76,
   "metadata": {},
   "outputs": [
    {
     "data": {
      "text/latex": [
       "$\\displaystyle - x + \\frac{\\sin{\\left(x \\right)}}{\\cos{\\left(x \\right)}}$"
      ],
      "text/plain": [
       "-x + sin(x)/cos(x)"
      ]
     },
     "execution_count": 76,
     "metadata": {},
     "output_type": "execute_result"
    }
   ],
   "source": [
    "sp.integrate(sp.tan(x)**2)"
   ]
  },
  {
   "cell_type": "code",
   "execution_count": 78,
   "metadata": {},
   "outputs": [
    {
     "data": {
      "text/latex": [
       "$\\displaystyle \\log{\\left(x^{2} - x + 6 \\right)} + \\frac{40 \\sqrt{23} \\operatorname{atan}{\\left(\\frac{2 \\sqrt{23} x}{23} - \\frac{\\sqrt{23}}{23} \\right)}}{23}$"
      ],
      "text/plain": [
       "log(x**2 - x + 6) + 40*sqrt(23)*atan(2*sqrt(23)*x/23 - sqrt(23)/23)/23"
      ]
     },
     "execution_count": 78,
     "metadata": {},
     "output_type": "execute_result"
    }
   ],
   "source": [
    "sp.integrate((2*x+19)/(x*x-x+6))"
   ]
  },
  {
   "cell_type": "code",
   "execution_count": 80,
   "metadata": {},
   "outputs": [
    {
     "data": {
      "text/latex": [
       "$\\displaystyle 3 \\sqrt{x^{2} + 1}$"
      ],
      "text/plain": [
       "3*sqrt(x**2 + 1)"
      ]
     },
     "execution_count": 80,
     "metadata": {},
     "output_type": "execute_result"
    }
   ],
   "source": [
    "sp.integrate(3*x/sp.sqrt(x**2+1))"
   ]
  },
  {
   "cell_type": "code",
   "execution_count": 81,
   "metadata": {},
   "outputs": [
    {
     "data": {
      "text/latex": [
       "$\\displaystyle \\frac{x \\sin{\\left(\\log{\\left(x \\right)} \\right)}}{2} + \\frac{x \\cos{\\left(\\log{\\left(x \\right)} \\right)}}{2}$"
      ],
      "text/plain": [
       "x*sin(log(x))/2 + x*cos(log(x))/2"
      ]
     },
     "execution_count": 81,
     "metadata": {},
     "output_type": "execute_result"
    }
   ],
   "source": [
    "sp.integrate(sp.cos(sp.log(x)))"
   ]
  },
  {
   "cell_type": "code",
   "execution_count": 82,
   "metadata": {},
   "outputs": [
    {
     "data": {
      "text/latex": [
       "$\\displaystyle - \\frac{x \\cos{\\left(6 x - 6 \\right)}}{6} + \\frac{\\sin{\\left(6 x - 6 \\right)}}{36} - \\frac{\\cos{\\left(6 x - 6 \\right)}}{3}$"
      ],
      "text/plain": [
       "-x*cos(6*x - 6)/6 + sin(6*x - 6)/36 - cos(6*x - 6)/3"
      ]
     },
     "execution_count": 82,
     "metadata": {},
     "output_type": "execute_result"
    }
   ],
   "source": [
    "sp.integrate((x+2)*sp.sin(x*2+4*x-6))"
   ]
  },
  {
   "cell_type": "code",
   "execution_count": 83,
   "metadata": {},
   "outputs": [
    {
     "data": {
      "text/latex": [
       "$\\displaystyle - \\frac{1}{2 \\log{\\left(x \\right)}^{2}}$"
      ],
      "text/plain": [
       "-1/(2*log(x)**2)"
      ]
     },
     "execution_count": 83,
     "metadata": {},
     "output_type": "execute_result"
    }
   ],
   "source": [
    "sp.integrate(1/(x*sp.log(x)**3))"
   ]
  },
  {
   "cell_type": "code",
   "execution_count": 84,
   "metadata": {},
   "outputs": [
    {
     "data": {
      "text/latex": [
       "$\\displaystyle \\frac{\\sqrt{3} \\operatorname{atan}{\\left(\\frac{\\sqrt{3} x}{3} + \\frac{\\sqrt{3}}{3} \\right)}}{3}$"
      ],
      "text/plain": [
       "sqrt(3)*atan(sqrt(3)*x/3 + sqrt(3)/3)/3"
      ]
     },
     "execution_count": 84,
     "metadata": {},
     "output_type": "execute_result"
    }
   ],
   "source": [
    "sp.integrate(1/(x*x+2*x+4))"
   ]
  },
  {
   "cell_type": "code",
   "execution_count": 85,
   "metadata": {},
   "outputs": [
    {
     "data": {
      "text/latex": [
       "$\\displaystyle \\frac{2^{\\sqrt{2 x + 1}} \\sqrt{2 x + 1}}{\\log{\\left(2 \\right)}} - \\frac{2^{\\sqrt{2 x + 1}}}{\\log{\\left(2 \\right)}^{2}}$"
      ],
      "text/plain": [
       "2**(sqrt(2*x + 1))*sqrt(2*x + 1)/log(2) - 2**(sqrt(2*x + 1))/log(2)**2"
      ]
     },
     "execution_count": 85,
     "metadata": {},
     "output_type": "execute_result"
    }
   ],
   "source": [
    "sp.integrate(2**(sp.sqrt(2*x+1)))"
   ]
  },
  {
   "cell_type": "code",
   "execution_count": null,
   "metadata": {},
   "outputs": [],
   "source": []
  }
 ],
 "metadata": {
  "celltoolbar": "Slideshow",
  "kernelspec": {
   "display_name": "Python 3",
   "language": "python",
   "name": "python3"
  },
  "language_info": {
   "codemirror_mode": {
    "name": "ipython",
    "version": 3
   },
   "file_extension": ".py",
   "mimetype": "text/x-python",
   "name": "python",
   "nbconvert_exporter": "python",
   "pygments_lexer": "ipython3",
   "version": "3.7.9"
  }
 },
 "nbformat": 4,
 "nbformat_minor": 2
}
