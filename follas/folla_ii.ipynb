{
 "cells": [
  {
   "cell_type": "markdown",
   "metadata": {},
   "source": [
    "## Folla 2 \n",
    "\n",
    "## Límites y derivadas direccionales\n",
    "\n",
    "February 2021"
   ]
  },
  {
   "cell_type": "code",
   "execution_count": 1,
   "metadata": {},
   "outputs": [
    {
     "name": "stdout",
     "output_type": "stream",
     "text": [
      " Last version  Tue Feb 23 09:20:14 2021\n"
     ]
    }
   ],
   "source": [
    "import time\n",
    "print(' Last version ', time.asctime() )"
   ]
  },
  {
   "cell_type": "code",
   "execution_count": 4,
   "metadata": {},
   "outputs": [],
   "source": [
    "import os\n",
    "import sys\n",
    "mypath = os.getcwd()\n",
    "mypath = '/Users/hernando/docencia/grado/Metodos-III/USC-MMIII/'\n",
    "sys.path.insert(0, os.path.abspath(mypath))"
   ]
  },
  {
   "cell_type": "code",
   "execution_count": 5,
   "metadata": {},
   "outputs": [
    {
     "name": "stdout",
     "output_type": "stream",
     "text": [
      "The autoreload extension is already loaded. To reload it, use:\n",
      "  %reload_ext autoreload\n"
     ]
    }
   ],
   "source": [
    "# general imports\n",
    "%matplotlib inline\n",
    "%load_ext autoreload\n",
    "%autoreload 2\n",
    "\n",
    "# numpy and matplotlib\n",
    "import numpy as np\n",
    "import sympy as sp\n",
    "\n",
    "import matplotlib\n",
    "import matplotlib.pyplot as plt\n",
    "from mpl_toolkits.mplot3d import Axes3D\n",
    "plt.style.context('seaborn-colorblind')\n",
    "#matplotlib.style.use('ggplot')\n",
    "import graph_utils as gf\n",
    "\n"
   ]
  },
  {
   "cell_type": "code",
   "execution_count": 39,
   "metadata": {},
   "outputs": [],
   "source": [
    "from sympy import init_printing\n",
    "init_printing() \n",
    "\n",
    "x, y, z, r, phi = sp.symbols('x y z r phi')"
   ]
  },
  {
   "cell_type": "markdown",
   "metadata": {},
   "source": [
    "## Ejercicio 1\n",
    "\n",
    "\n",
    "* 1.1 $ \\lim_{(x,y) \\rightarrow (0,0)}\\; \\frac{ x^2}{(x^2+1)(y^2+1)}$\n",
    "* 1.2 $ \\lim_{(x,y) \\rightarrow (0,0)}\\; (x^2+y^2) \\sin\\left(\\frac{1}{xy}\\right)$\n",
    "* 1.3 $ \\lim_{(x,y) \\rightarrow (0,2)}\\; \\frac{\\sin(x y)}{x}$\n",
    "* 1.4 $ \\lim_{(x,y) \\rightarrow (0,0)}\\; \\frac{2x-y^2}{2x^2+y}$\n",
    "* 1.5 $ \\lim_{(x,y) \\rightarrow (0,0)}\\; \\frac{x}{x-y^3}$\n",
    "* 1.6 $ \\lim_{(x,y) \\rightarrow (0,0)}\\; \\frac{\\sin(xy)}{x^2+y^2}$\n",
    "* 1.7 $ \\lim_{(x,y) \\rightarrow (0,0)}\\; \\frac{x^3 - xy^2}{x^2 + y^2}$\n",
    "* 1.8 $ \\lim_{(x,y) \\rightarrow (0,0)}\\; \\cos\\left(\\frac{x^3 - y^3}{x^2 + y^2}\\right)$\n",
    "* 1.9 $ \\lim_{(x,y) \\rightarrow (0,0)}\\; \\frac{x^2y}{x^4 + y^2}$\n"
   ]
  },
  {
   "cell_type": "markdown",
   "metadata": {},
   "source": [
    "### 1.1\n",
    "\n",
    "$ \\lim_{(x,y) \\rightarrow (0,0)}\\; \\frac{ x^2}{(x^2+1)(y^2+1)}$\n",
    "\n",
    "Es 0, porque el denomidad vale 1, y el numerador 0\n"
   ]
  },
  {
   "cell_type": "code",
   "execution_count": 38,
   "metadata": {},
   "outputs": [
    {
     "name": "stdout",
     "output_type": "stream",
     "text": [
      "lim x, 0 :  0\n",
      "lim y, 0 :  x**2/(x**2 + 1)\n"
     ]
    }
   ],
   "source": [
    "\n",
    "print('lim x, 0 : ', sp.limit(x**2 / ((x**2 + 1) * (y**2 +1)), x, 0))\n",
    "print('lim y, 0 : ', sp.limit(x**2 / ((x**2 + 1) * (y**2 +1)), y, 0))\n"
   ]
  },
  {
   "cell_type": "markdown",
   "metadata": {
    "slideshow": {
     "slide_type": "slide"
    }
   },
   "source": [
    "1.2 $ \\lim_{(x,y) \\rightarrow (0,0)}\\; (x^2+y^2) \\sin\\left(\\frac{1}{xy}\\right)$\n",
    "\n",
    "Es 0, porque el $sin$ está acotado y el factor $x^+y^2$ tiende a 0.\n"
   ]
  },
  {
   "cell_type": "code",
   "execution_count": 34,
   "metadata": {},
   "outputs": [
    {
     "data": {
      "text/latex": [
       "$\\displaystyle \\lim_{r \\to 0^+}\\left(r^{2} \\sin{\\left(\\frac{1}{r^{2} \\sin{\\left(\\phi \\right)} \\cos{\\left(\\phi \\right)}} \\right)}\\right)$"
      ],
      "text/plain": [
       "Limit(r**2*sin(1/(r**2*sin(phi)*cos(phi))), r, 0)"
      ]
     },
     "execution_count": 34,
     "metadata": {},
     "output_type": "execute_result"
    }
   ],
   "source": [
    "exp = sp.Limit(r**2 * sp.sin(1/(r**2 * sp.sin(phi) * sp.cos(phi))), r, 0, '+')\n",
    "exp.doit()"
   ]
  },
  {
   "cell_type": "markdown",
   "metadata": {},
   "source": [
    "### 1.3 \n",
    "\n",
    "$ \\lim_{(x,y) \\rightarrow (0,2)}\\; \\frac{\\sin(x y)}{x}$\n",
    "\n",
    "Como $y=2$, da 2."
   ]
  },
  {
   "cell_type": "markdown",
   "metadata": {},
   "source": [
    "### 1.4\n",
    "\n",
    " $ \\lim_{(x,y) \\rightarrow (0,0)}\\; \\frac{2x-y^2}{2x^2+y}$\n",
    " \n",
    "En polares, depende del ángulo\n",
    "\n",
    "$$\n",
    "\\lim_{r \\to 0} = \\frac{2 r \\cos \\phi - r^2 \\cos^2 \\phi}{2 r^2 \\cos^2 \\phi + r \\sin \\phi} = \\frac{2 \\cos \\phi}{\\sin \\phi}\n",
    "$$\n",
    " "
   ]
  },
  {
   "cell_type": "code",
   "execution_count": 47,
   "metadata": {},
   "outputs": [
    {
     "data": {
      "image/png": "[encoded data removed]",
      "text/latex": [
       "$\\displaystyle \\left( \\lim_{x \\to 0^+}\\left(\\frac{2 x - y^{2}}{2 x^{2} + y}\\right), \\  - y\\right)$"
      ],
      "text/plain": [
       "⎛     ⎛       2⎞    ⎞\n",
       "⎜     ⎜2⋅x - y ⎟    ⎟\n",
       "⎜ lim ⎜────────⎟, -y⎟\n",
       "⎜x─→0⁺⎜   2    ⎟    ⎟\n",
       "⎝     ⎝2⋅x  + y⎠    ⎠"
      ]
     },
     "execution_count": 47,
     "metadata": {},
     "output_type": "execute_result"
    }
   ],
   "source": [
    "exp = sp.Limit(( 2* x - y**2) / (2 * x**2 + y), x, 0)\n",
    "exp, exp.doit()"
   ]
  },
  {
   "cell_type": "code",
   "execution_count": 48,
   "metadata": {},
   "outputs": [
    {
     "data": {
      "image/png": "[encoded data removed]",
      "text/latex": [
       "$\\displaystyle \\left( \\lim_{y \\to 0^+}\\left(\\frac{2 x - y^{2}}{2 x^{2} + y}\\right), \\  \\frac{1}{x}\\right)$"
      ],
      "text/plain": [
       "⎛     ⎛       2⎞   ⎞\n",
       "⎜     ⎜2⋅x - y ⎟  1⎟\n",
       "⎜ lim ⎜────────⎟, ─⎟\n",
       "⎜y─→0⁺⎜   2    ⎟  x⎟\n",
       "⎝     ⎝2⋅x  + y⎠   ⎠"
      ]
     },
     "execution_count": 48,
     "metadata": {},
     "output_type": "execute_result"
    }
   ],
   "source": [
    "exp = sp.Limit(( 2* x - y**2) / (2 * x**2 + y), y, 0)\n",
    "exp, exp.doit()"
   ]
  },
  {
   "cell_type": "code",
   "execution_count": 61,
   "metadata": {},
   "outputs": [
    {
     "data": {
      "image/png": "[encoded data removed]",
      "text/latex": [
       "$\\displaystyle \\left( \\lim_{r \\to 0^+}\\left(\\frac{- r^{2} \\sin^{2}{\\left(\\phi \\right)} + 2 r \\cos{\\left(\\phi \\right)}}{2 r^{2} \\cos^{2}{\\left(\\phi \\right)} + r \\sin{\\left(\\phi \\right)}}\\right), \\  \\frac{2 \\cos{\\left(\\phi \\right)}}{\\sin{\\left(\\phi \\right)}}\\right)$"
      ],
      "text/plain": [
       "⎛     ⎛   2    2                ⎞          ⎞\n",
       "⎜     ⎜- r ⋅sin (φ) + 2⋅r⋅cos(φ)⎟  2⋅cos(φ)⎟\n",
       "⎜ lim ⎜─────────────────────────⎟, ────────⎟\n",
       "⎜r─→0⁺⎜    2    2               ⎟   sin(φ) ⎟\n",
       "⎝     ⎝ 2⋅r ⋅cos (φ) + r⋅sin(φ) ⎠          ⎠"
      ]
     },
     "execution_count": 61,
     "metadata": {},
     "output_type": "execute_result"
    }
   ],
   "source": [
    "exp = sp.Limit( (2 * r * sp.cos(phi) - r**2 * sp.sin(phi) * sp.sin(phi))\n",
    "               /(2 * r**2 * sp.cos(phi)**2 + r * sp.sin(phi)) , r, 0)\n",
    "exp, exp.doit()"
   ]
  },
  {
   "cell_type": "markdown",
   "metadata": {},
   "source": [
    "### 1.5\n",
    "\n",
    " $ \\lim_{(x,y) \\rightarrow (0,0)}\\; \\frac{x}{x-y^3}$\n",
    " \n",
    "En polares, no depende del ángulo\n",
    "\n",
    "$$\n",
    "\\lim_{r \\to 0} = \\frac{r \\cos \\phi}{r \\cos \\phi - r^3 \\sin^3 \\phi} = 1\n",
    "$$\n",
    " "
   ]
  },
  {
   "cell_type": "code",
   "execution_count": 62,
   "metadata": {},
   "outputs": [
    {
     "data": {
      "image/png": "[encoded data removed]",
      "text/latex": [
       "$\\displaystyle \\left( \\lim_{r \\to 0^+}\\left(\\frac{r \\cos{\\left(\\phi \\right)}}{- r^{3} \\sin^{3}{\\left(\\phi \\right)} + r \\cos{\\left(\\phi \\right)}}\\right), \\  1\\right)$"
      ],
      "text/plain": [
       "⎛     ⎛        r⋅cos(φ)       ⎞   ⎞\n",
       "⎜ lim ⎜───────────────────────⎟, 1⎟\n",
       "⎜r─→0⁺⎜   3    3              ⎟   ⎟\n",
       "⎝     ⎝- r ⋅sin (φ) + r⋅cos(φ)⎠   ⎠"
      ]
     },
     "execution_count": 62,
     "metadata": {},
     "output_type": "execute_result"
    }
   ],
   "source": [
    "exp = sp.Limit( r * sp.cos(phi)\n",
    "               /(r * sp.cos(phi) - r**3 * sp.sin(phi)**3) , r, 0)\n",
    "exp, exp.doit()"
   ]
  },
  {
   "cell_type": "markdown",
   "metadata": {},
   "source": [
    "### 1.6\n",
    "\n",
    "$ \\lim_{(x,y) \\rightarrow (0,0)}\\; \\frac{\\sin(xy)}{x^2+y^2}$\n",
    " \n",
    "En polares, depende del ángulo, no tiene límite\n",
    "\n",
    "$$\n",
    "\\lim_{r \\to 0} = \\frac{\\sin( r^2 \\cos \\phi \\sin \\phi)}{r^2} = \\cos \\phi \\sin \\phi\n",
    "$$"
   ]
  },
  {
   "cell_type": "code",
   "execution_count": 63,
   "metadata": {},
   "outputs": [
    {
     "data": {
      "image/png": "[encoded data removed]",
      "text/latex": [
       "$\\displaystyle \\left( \\lim_{r \\to 0^+}\\left(\\frac{\\sin{\\left(r^{2} \\sin{\\left(\\phi \\right)} \\cos{\\left(\\phi \\right)} \\right)}}{r^{2}}\\right), \\  \\sin{\\left(\\phi \\right)} \\cos{\\left(\\phi \\right)}\\right)$"
      ],
      "text/plain": [
       "⎛     ⎛   ⎛ 2              ⎞⎞               ⎞\n",
       "⎜     ⎜sin⎝r ⋅sin(φ)⋅cos(φ)⎠⎟               ⎟\n",
       "⎜ lim ⎜─────────────────────⎟, sin(φ)⋅cos(φ)⎟\n",
       "⎜r─→0⁺⎜           2         ⎟               ⎟\n",
       "⎝     ⎝          r          ⎠               ⎠"
      ]
     },
     "execution_count": 63,
     "metadata": {},
     "output_type": "execute_result"
    }
   ],
   "source": [
    "exp = sp.Limit( sp.sin(r**2 * sp.cos(phi) * sp.sin(phi))/r**2 , r, 0)\n",
    "exp, exp.doit()"
   ]
  },
  {
   "cell_type": "markdown",
   "metadata": {},
   "source": [
    "### 1.7\n",
    "\n",
    "$ \\lim_{(x,y) \\rightarrow (0,0)}\\; \\frac{x^3 - xy^2}{x^2 + y^2}$\n",
    " \n",
    "En polares, depende del ángulo, no tiene límite\n",
    "\n",
    "$$\n",
    "\\lim_{r \\to 0} = \\frac{r^3 \\cos^3\\phi - r^3 \\cos\\phi \\sin^2\\phi}{r^2} = 0\n",
    "$$"
   ]
  },
  {
   "cell_type": "code",
   "execution_count": 64,
   "metadata": {},
   "outputs": [
    {
     "data": {
      "image/png": "[encoded data removed]",
      "text/latex": [
       "$\\displaystyle \\left( \\lim_{r \\to 0^+}\\left(\\frac{- r^{3} \\sin^{2}{\\left(\\phi \\right)} \\cos{\\left(\\phi \\right)} + r^{3} \\cos^{3}{\\left(\\phi \\right)}}{r^{2}}\\right), \\  0\\right)$"
      ],
      "text/plain": [
       "⎛     ⎛   3    2              3    3   ⎞   ⎞\n",
       "⎜     ⎜- r ⋅sin (φ)⋅cos(φ) + r ⋅cos (φ)⎟   ⎟\n",
       "⎜ lim ⎜────────────────────────────────⎟, 0⎟\n",
       "⎜r─→0⁺⎜                2               ⎟   ⎟\n",
       "⎝     ⎝               r                ⎠   ⎠"
      ]
     },
     "execution_count": 64,
     "metadata": {},
     "output_type": "execute_result"
    }
   ],
   "source": [
    "exp = sp.Limit( (r**3 * sp.cos(phi)**3 - r**3 * sp.cos(phi) * sp.sin(phi)**2)/r**2 , r, 0)\n",
    "exp, exp.doit()"
   ]
  },
  {
   "cell_type": "markdown",
   "metadata": {},
   "source": [
    "### 1.8\n",
    "\n",
    "$ \\lim_{(x,y) \\rightarrow (0,0)}\\; \\cos\\left(\\frac{x^3 - y^3}{x^2 + y^2}\\right)$\n",
    "\n",
    " \n",
    "En polares, depende del ángulo, no tiene límite\n",
    "\n",
    "$$\n",
    "\\lim_{r \\to 0} \\cos \\left( \\frac{r^3 \\cos^3\\phi - r^3 \\sin^3\\phi}{r^2} \\right) = 1\n",
    "$$"
   ]
  },
  {
   "cell_type": "code",
   "execution_count": 67,
   "metadata": {},
   "outputs": [
    {
     "data": {
      "image/png": "[encoded data removed]",
      "text/latex": [
       "$\\displaystyle \\left( \\lim_{r \\to 0^+} \\cos{\\left(\\frac{- r^{3} \\sin^{2}{\\left(\\phi \\right)} \\cos{\\left(\\phi \\right)} + r^{3} \\cos^{3}{\\left(\\phi \\right)}}{r^{2}} \\right)}, \\  1\\right)$"
      ],
      "text/plain": [
       "⎛        ⎛   3    2              3    3   ⎞   ⎞\n",
       "⎜        ⎜- r ⋅sin (φ)⋅cos(φ) + r ⋅cos (φ)⎟   ⎟\n",
       "⎜ lim cos⎜────────────────────────────────⎟, 1⎟\n",
       "⎜r─→0⁺   ⎜                2               ⎟   ⎟\n",
       "⎝        ⎝               r                ⎠   ⎠"
      ]
     },
     "execution_count": 67,
     "metadata": {},
     "output_type": "execute_result"
    }
   ],
   "source": [
    "exp = sp.Limit( sp.cos((r**3 * sp.cos(phi)**3 - r**3 * sp.cos(phi) * sp.sin(phi)**2)/r**2), r, 0)\n",
    "exp, exp.doit()"
   ]
  },
  {
   "cell_type": "markdown",
   "metadata": {},
   "source": [
    "### 1.9\n",
    "\n",
    "$ \\lim_{(x,y) \\rightarrow (0,0)}\\; \\frac{x^2y}{x^4 + y^2}$\n",
    "\n",
    " \n",
    "En polares, depende del ángulo, no tiene límite\n",
    "\n",
    "$$\n",
    "\\lim_{r \\to 0} \\frac{r^3 \\cos^2\\phi \\sin\\phi}{r^4 \\cos^4 \\phi + r^2 \\sin^2 \\phi} = 0\n",
    "$$"
   ]
  },
  {
   "cell_type": "code",
   "execution_count": 69,
   "metadata": {},
   "outputs": [
    {
     "data": {
      "image/png": "[encoded data removed]",
      "text/latex": [
       "$\\displaystyle \\left( \\lim_{r \\to 0^+}\\left(\\frac{r^{3} \\sin{\\left(\\phi \\right)} \\cos^{2}{\\left(\\phi \\right)}}{r^{4} \\cos^{4}{\\left(\\phi \\right)} + r^{2} \\sin^{2}{\\left(\\phi \\right)}}\\right), \\  0\\right)$"
      ],
      "text/plain": [
       "⎛     ⎛    3           2      ⎞   ⎞\n",
       "⎜     ⎜   r ⋅sin(φ)⋅cos (φ)   ⎟   ⎟\n",
       "⎜ lim ⎜───────────────────────⎟, 0⎟\n",
       "⎜r─→0⁺⎜ 4    4       2    2   ⎟   ⎟\n",
       "⎝     ⎝r ⋅cos (φ) + r ⋅sin (φ)⎠   ⎠"
      ]
     },
     "execution_count": 69,
     "metadata": {},
     "output_type": "execute_result"
    }
   ],
   "source": [
    "exp = sp.Limit(r**3 * sp.cos(phi)**2 * sp.sin(phi)/(r**4 * sp.cos(phi)**4 + r**2 * sp.sin(phi)**2), r, 0)\n",
    "exp, exp.doit()"
   ]
  },
  {
   "cell_type": "markdown",
   "metadata": {},
   "source": [
    "## Ejercicio 2\n",
    "\n",
    "Dar los puntos de discontinuidad\n",
    "\n",
    "1) \n",
    "$\n",
    "f(x,y)\n",
    "\\begin{cases}\n",
    "\\log\\left(\\frac{3x^2 - x^2 y^2 + 3 y^2}{x^2 + y^2}\\right) \\text{  si $(x,y) \\neq (0,0)$,} \\\\\n",
    "\\log 3, \\text{  si $(x,y) = (0,0)$}.\n",
    "\\end{cases}\n",
    "$\n",
    "\n",
    "\n",
    "2) $ f(x,y)= \\frac{1}{(x-y)^2}$ \n",
    "\n",
    "3) $ f(x,y,z)= \\frac{z}{x^2+y^2-4}$ \n",
    "\n",
    "4) $ f(x,y)= \\cos\\left(\\frac{1}{x y}\\right)$ \n",
    "\n"
   ]
  },
  {
   "cell_type": "markdown",
   "metadata": {},
   "source": [
    "### 2.1\n",
    "\n",
    "El argumento del logaritmo siempre es positivao. El único problema puede ser (0, 0)\n",
    "\n",
    "Si calculamos el límite en el origen de la función, \n",
    "\n",
    "$\n",
    "\\lim_{(x, y) \\to (0, 0)} \\log\\left(\\frac{3x^2 - x^2 y^2 + 3 y^2}{x^2 + y^2}\\right) = \\log \\, 3\n",
    "$\n",
    "\n",
    "Por lo tanto la función es continua\n"
   ]
  },
  {
   "cell_type": "code",
   "execution_count": 14,
   "metadata": {},
   "outputs": [
    {
     "data": {
      "image/png": "[encoded data removed]",
      "text/latex": [
       "$\\displaystyle \\left( \\lim_{r \\to 0^+} \\log{\\left(\\frac{- r^{4} \\sin{\\left(\\phi \\right)} \\cos^{2}{\\left(\\phi \\right)} + 3 r^{2}}{r^{2}} \\right)}, \\  \\log{\\left(3 \\right)}\\right)$"
      ],
      "text/plain": [
       "⎛        ⎛   4           2         2⎞        ⎞\n",
       "⎜        ⎜- r ⋅sin(φ)⋅cos (φ) + 3⋅r ⎟        ⎟\n",
       "⎜ lim log⎜──────────────────────────⎟, log(3)⎟\n",
       "⎜r─→0⁺   ⎜             2            ⎟        ⎟\n",
       "⎝        ⎝            r             ⎠        ⎠"
      ]
     },
     "execution_count": 14,
     "metadata": {},
     "output_type": "execute_result"
    }
   ],
   "source": [
    "exp = sp.Limit(sp.log( ( 3 * r**2 - r**4 * sp.cos(phi)**2 * sp.sin(phi))/r**2), r, 0)\n",
    "exp, exp.doit()"
   ]
  },
  {
   "cell_type": "markdown",
   "metadata": {},
   "source": [
    "### 2.2\n",
    "\n",
    "$ f(x,y)= \\frac{1}{(x-y)^2}$\n",
    "\n",
    "Los puntos que no pertenecen al dominio son $(x-y)^2 = 0$, esto es la recta $y = x$"
   ]
  },
  {
   "cell_type": "markdown",
   "metadata": {},
   "source": [
    "### 2.3\n",
    "\n",
    "$ f(x,y,z)= \\frac{z}{x^2+y^2-4}$\n",
    "\n",
    "Los puntos de discontinuidad son aquellos en los que el denominador es nulo.\n",
    "\n",
    "$x^2 + y^2 -4 = 0$, esto es, $x^2 + y^2 = 4$, la circunferencia en $(x, y)$ de radio 2 centrada en el origen.\n",
    "\n"
   ]
  },
  {
   "cell_type": "markdown",
   "metadata": {},
   "source": [
    "### 2.4\n",
    "\n",
    "$ f(x,y)= \\cos\\left(\\frac{1}{x y}\\right)$\n",
    "\n",
    "Los puntos de discontinuidad son aquellos donde se anula el denominador, $x y = 0$, esto es los ejes coordenador $x = 0 \\; \\mathrm{o} \\, y = 0$."
   ]
  },
  {
   "cell_type": "markdown",
   "metadata": {},
   "source": [
    "## Ejercicio 3\n",
    "\n",
    "\n",
    "Calcula los límites:\n",
    "\n",
    "a)  $\\lim_{\\Delta x \\to 0} \\frac{f(x+\\Delta x,y)-f(x,y)}{\\Delta x}$\n",
    "\n",
    "b) $\\lim_{\\Delta y \\to 0} \\frac{f(x,y+\\Delta y)-f(x,y)}{\\Delta y}$\n",
    "\n",
    "En las funciones:\n",
    "\n",
    "1) $f(x,y) = x^2 + y^2$ \n",
    "\n",
    "2) $f(x,y) = 1/(x+y)$ \n",
    "\n",
    "3) $f(x,y) = \\log(x+y)$ \n",
    "\n",
    "4) $f(x,y) = \\sqrt{y}(y+1)$ \n"
   ]
  },
  {
   "cell_type": "markdown",
   "metadata": {},
   "source": [
    "### 3.1\n",
    "\n",
    "$f(x,y) = x^2 + y^2$ \n",
    "\n",
    "$f'_x(x, y) = 2x, \\; f'_y(x, y) = 2y$\n",
    "\n",
    "$$\n",
    "\\lim_{\\Delta x \\to 0} \\frac{(x + \\Delta x)^2 + y^2 - (x^2 + y^2)}{\\Delta x} = \n",
    "\\lim_{\\Delta x \\to 0} \\frac{2 x \\Delta x + (\\Delta x)^2}{\\Delta x} = 2\n",
    "$$\n",
    "Y de forma similar para $y$"
   ]
  },
  {
   "cell_type": "code",
   "execution_count": 13,
   "metadata": {},
   "outputs": [
    {
     "data": {
      "image/png": "[encoded data removed]",
      "text/latex": [
       "$\\displaystyle 2 x$"
      ],
      "text/plain": [
       "2⋅x"
      ]
     },
     "execution_count": 13,
     "metadata": {},
     "output_type": "execute_result"
    }
   ],
   "source": [
    "exp = sp.Derivative(x**2 + y**2, x)\n",
    "exp.doit()"
   ]
  },
  {
   "cell_type": "markdown",
   "metadata": {},
   "source": [
    "### 3.2\n",
    "\n",
    "$f(x,y) = 1/(x+y)$ \n",
    "\n",
    "$f'_x(x, y)  = - \\frac{1}{(x+y)^2}, \\; f'_y(x, y) = - \\frac{1}{(x+y)^2}$\n"
   ]
  },
  {
   "cell_type": "code",
   "execution_count": 11,
   "metadata": {},
   "outputs": [
    {
     "data": {
      "image/png": "[encoded data removed]",
      "text/latex": [
       "$\\displaystyle - \\frac{1}{\\left(x + y\\right)^{2}}$"
      ],
      "text/plain": [
       "  -1    \n",
       "────────\n",
       "       2\n",
       "(x + y) "
      ]
     },
     "execution_count": 11,
     "metadata": {},
     "output_type": "execute_result"
    }
   ],
   "source": [
    "exp = sp.Derivative(1/(x+y), x)\n",
    "exp.doit()"
   ]
  },
  {
   "cell_type": "markdown",
   "metadata": {},
   "source": [
    "### 3.3\n",
    "\n",
    "$f(x,y) = \\log(x+y)$\n",
    "\n",
    "$f'_x(x, y) = \\frac{1}{x + y}, \\; f'_y(x, y) = \\frac{1}{x+y}$\n"
   ]
  },
  {
   "cell_type": "code",
   "execution_count": 10,
   "metadata": {},
   "outputs": [
    {
     "data": {
      "image/png": "[encoded data removed]",
      "text/latex": [
       "$\\displaystyle \\frac{1}{x + y}$"
      ],
      "text/plain": [
       "  1  \n",
       "─────\n",
       "x + y"
      ]
     },
     "execution_count": 10,
     "metadata": {},
     "output_type": "execute_result"
    }
   ],
   "source": [
    "exp = sp.Derivative(sp.log(x + y), x)\n",
    "exp.doit()"
   ]
  },
  {
   "cell_type": "markdown",
   "metadata": {},
   "source": [
    "### 3.4\n",
    "\n",
    "$f(x,y) = \\sqrt{y}(y+1)$\n",
    "\n",
    "$f'_x(x, y) = 0$\n",
    "\n",
    "$f'_y(x, y) = \\frac{1}{2\\sqrt{y}}(y+1) + \\sqrt{y} = \\frac{3y + 1}{2\\sqrt{y}}$\n"
   ]
  },
  {
   "cell_type": "code",
   "execution_count": 9,
   "metadata": {},
   "outputs": [
    {
     "data": {
      "image/png": "[encoded data removed]",
      "text/latex": [
       "$\\displaystyle \\frac{3 y + 1}{2 \\sqrt{y}}$"
      ],
      "text/plain": [
       "3⋅y + 1\n",
       "───────\n",
       "  2⋅√y "
      ]
     },
     "execution_count": 9,
     "metadata": {},
     "output_type": "execute_result"
    }
   ],
   "source": [
    "exp = sp.Derivative(sp.sqrt(y) * (y +1), y)\n",
    "sp.simplify(exp.doit())"
   ]
  },
  {
   "cell_type": "markdown",
   "metadata": {},
   "source": [
    "### Ejercicio 4\n",
    "\n",
    "Calcula las derivadas direccionales de las siguientes funciones en los puntos indicados.\n",
    "\n",
    "1) $ f(x,y)= x+ 2 x y - 3 y^2,\\; (x_0,y_0)= (1,2),\\; {\\vec v}=(\\frac{3}{5}, \\frac{4}{5})$\n",
    "\n",
    "2) $f(x,y,z)= x y z, \\;(x_0,y_0,z_0) = (1,0,1),\\; {\\vec v}=(1/\\sqrt{2}, 0,-1/\\sqrt{2})$\n",
    "\n",
    "3)$f(x,y,z)= xy^2-4x^2y+z^2, \\;(x_0,y_0,z_0) = (1,-1,2),\\; {\\vec v}=(6,2,3)$ \n",
    "\n"
   ]
  },
  {
   "cell_type": "markdown",
   "metadata": {},
   "source": [
    "### 4.1\n",
    "\n",
    "$f(x,y)= x+ 2 x y - 3 y^2,\\; (x_0,y_0)= (1,2),\\; {\\vec v}=(\\frac{3}{5}, \\frac{4}{5})$\n",
    "\n",
    "\n",
    "$f'_x(x, y) = 2 y + 1; f'_y(x, y) = -6 y + 2x$\n",
    "\n",
    "$\\nabla f(1, 2) = (5, -10)$\n",
    "\n",
    "$(5, -10) \\; (\\frac{3}{5}, \\frac{4}{5}) = 3 - 8 = -5$"
   ]
  },
  {
   "cell_type": "code",
   "execution_count": 37,
   "metadata": {},
   "outputs": [
    {
     "name": "stdout",
     "output_type": "stream",
     "text": [
      "2*y + 1 ,  2*x - 6*y\n",
      "[5.00000000000000 -10.0000000000000] [0.6 0.8]  =  -5.00000000000000\n"
     ]
    }
   ],
   "source": [
    "fun = (x + 2 * x * y - 3 * y**2)\n",
    "fpx, fpy = sp.Derivative(fun, x), sp.Derivative(fun, y)\n",
    "print(fpx.doit(), ', ', fpy.doit())\n",
    "fx = fpx.doit().subs(x, 1).subs(y, 2).evalf()\n",
    "fy = fpy.doit().subs(x, 1).subs(y, 2).evalf()\n",
    "grad = np.array((fx, fy))\n",
    "vec  = np.array((3./5., 4./5.))\n",
    "print(grad, vec, ' = ',  np.dot(grad,vec))"
   ]
  },
  {
   "cell_type": "markdown",
   "metadata": {},
   "source": [
    "### 4.2\n",
    "\n",
    "$f(x,y,z)= x y z, \\;(x_0,y_0,z_0) = (1,0,1),\\; {\\vec v}=(1/\\sqrt{2}, 0,-1/\\sqrt{2})$\n",
    "\n",
    "$\\nabla f(x, y, x) = ( y z, x z, x y )$\n",
    "\n",
    "$\\nabla f(1, 0, 1) = (0, 1, 0)$\n",
    "\n",
    "$\\nabla f (1, 0, 1) \\; (1/\\sqrt{2}, 0,-1/\\sqrt{2}) = 0$\n"
   ]
  },
  {
   "cell_type": "code",
   "execution_count": 44,
   "metadata": {},
   "outputs": [
    {
     "name": "stdout",
     "output_type": "stream",
     "text": [
      "( y*z ,  x*z ,  x*y )\n",
      "[0 1.00000000000000 0] [ 0.70710678  0.         -0.70710678]  =  0\n"
     ]
    }
   ],
   "source": [
    "fun = x * y * z\n",
    "fpx, fpy, fpz = sp.Derivative(fun, x), sp.Derivative(fun, y), sp.Derivative(fun, z)\n",
    "print('(', fpx.doit(), ', ', fpy.doit(), ', ', fpz.doit(), ')')\n",
    "grad = np.array([fp.doit().subs({x:1, y:0, z:1}).evalf() for fp in [fpx, fpy, fpz]])\n",
    "vec  = np.array((1/np.sqrt(2.), 0, -1/np.sqrt(2.)))\n",
    "print(grad, vec, ' = ',  np.dot(grad,vec))"
   ]
  },
  {
   "cell_type": "markdown",
   "metadata": {},
   "source": [
    "### 4.3\n",
    "\n",
    "$f(x,y,z)= xy^2-4x^2y+z^2, \\;(x_0,y_0,z_0) = (1,-1,2),\\; {\\vec v}=(6,2,3)$ \n",
    "\n",
    "$\\nabla f(x, y, z) = (y^2 - 8 x y, 2 x y - 4 x^2, 2z)$\n",
    "\n",
    "$\\nabla f(1, -1, 2) = (1 + 8, -2 -4, 4) = (9, -6, 4)$\n",
    "\n",
    "$\\nabla f(1, -1, 2) (6, 2, 3)= 54 -12 +12 = 54$\n",
    "\n",
    "\n"
   ]
  },
  {
   "cell_type": "code",
   "execution_count": 58,
   "metadata": {},
   "outputs": [
    {
     "name": "stdout",
     "output_type": "stream",
     "text": [
      "[9.00000000000000 -6.00000000000000 4.00000000000000] [6 2 3]  =  54.0000000000000\n"
     ]
    },
    {
     "data": {
      "image/png": "[encoded data removed]",
      "text/latex": [
       "$\\displaystyle \\left( - 8 x y + y^{2}, \\  - 4 x^{2} + 2 x y, \\  2 z\\right)$"
      ],
      "text/plain": [
       "⎛          2       2             ⎞\n",
       "⎝-8⋅x⋅y + y , - 4⋅x  + 2⋅x⋅y, 2⋅z⎠"
      ]
     },
     "execution_count": 58,
     "metadata": {},
     "output_type": "execute_result"
    }
   ],
   "source": [
    "fun = x * y**2 - 4 * x**2 * y + z**2\n",
    "dat = {x:1, y:-1, z:2}\n",
    "vec = np.array((6, 2, 3))\n",
    "fpx, fpy, fpz = sp.Derivative(fun, x), sp.Derivative(fun, y), sp.Derivative(fun, z)\n",
    "grad = np.array([fp.doit().subs(dat).evalf() for fp in [fpx, fpy, fpz]])\n",
    "print(grad, vec, ' = ',  np.dot(grad,vec))\n",
    "fpx.doit(), fpy.doit(), fpz.doit()"
   ]
  },
  {
   "cell_type": "markdown",
   "metadata": {},
   "source": [
    "## Ejercicio 5\n",
    "\n",
    "Calcula la derivada direccional de las seguientes funciones en el origen $(0,0)$ y en la dirección $\\vec{v} = (\\cos \\theta, \\sin \\theta)$:\n",
    "\n",
    "$f(x,y) = \\frac{\\sin x^2 - \\sin y^2}{x-y}$ si $x\\not=y$ e $f(x,y) = 0$ si $x=y$. \n",
    "\n",
    "$f(x,y) = \\frac{\\ln (x^2+y^2+1)}{x-y}$ si $x\\not=y$ e $f(x,y) = 0$ si $x=y$. \n"
   ]
  },
  {
   "cell_type": "markdown",
   "metadata": {
    "slideshow": {
     "slide_type": "slide"
    }
   },
   "source": [
    "### 5.1\n",
    "\n",
    "\n",
    "$f(x,y) = \\frac{\\sin x^2 - \\sin y^2}{x-y}$ si $x\\not=y$ e $f(x,y) = 0$ si $x=y$. \n",
    "\n",
    "Sea el vector $(\\cos \\theta, \\sin \\theta)$\n",
    "\n",
    "La derivada direccional:\n",
    "\n",
    "i) en $\\theta \\not= \\pi/4$, $x \\not= y$\n",
    "\n",
    "$\n",
    "\\lim_{h \\to 0 } \\frac{ \\frac{\\sin( h^2 \\cos^2 \\theta) - \\sin(h^2 \\sin^2 \\theta)}{h (\\cos \\theta - \\sin \\theta)}} {h}\n",
    "$\n",
    "\n",
    "$\n",
    "\\lim_{h \\to 0} \\frac{h^2 (\\sin^2 \\theta - \\sin^2 \\theta)}{ h^2 (\\cos \\theta - \\sin \\theta)} = \\cos \\theta + \\sin \\theta\n",
    "$\n",
    "\n",
    "ii) en $ \\theta = \\pi/4, \\;\\; x = y$\n",
    "\n",
    "La derivada direccional es nula por la definición de la función\n",
    "\n"
   ]
  },
  {
   "cell_type": "markdown",
   "metadata": {},
   "source": [
    "### 5.2\n",
    "\n",
    "$f(x,y) = \\frac{\\ln (x^2+y^2+1)}{x-y}$ si $x\\not=y$ e $f(x,y) = 0$ si $x=y$. \n",
    "\n",
    "las derivadas direccionales,\n",
    "\n",
    "i)  en $x = y$, $\\theta \\not= \\pi/4$\n",
    "\n",
    "\n",
    "$\n",
    "\\lim_{h \\to 0 } \\frac{\\log\\left( h^2 \\cos^2 \\theta + h^2 \\sin^2 \\theta + 1\\right)}{h^2 (\\cos \\theta - \\sin \\theta)}\n",
    "= \\frac{1}{\\cos \\theta - \\sin \\theta}\n",
    "$\n",
    "\n",
    "\n",
    "ii) en $x = y$, $\\theta = \\pi/4$\n",
    "\n",
    "La derivada en esta dirección es nula por definición de la función."
   ]
  },
  {
   "cell_type": "markdown",
   "metadata": {},
   "source": [
    "## Ejercicio 6\n",
    "\n",
    "Calcula la derivada direccional de la función $f(x,y) = x-y$ en cualquier punto de la dirección $\\frac{1}{\\sqrt{2}}  (1,1)$ ¿Qué significa que la derivada direccional sea nula?"
   ]
  },
  {
   "cell_type": "markdown",
   "metadata": {},
   "source": [
    "### 6.\n",
    "\n",
    "$f(x, y) = x - y$\n",
    "\n",
    "$\\nabla f(x, y) = (1, -1)$\n",
    "\n",
    "$\\nabla f(x, y) \\, (1, 1) / \\sqrt{2} = 0$\n",
    "\n",
    "Significa que los conjuntos de nivel son rectas con $y = x - c$, que la gráfica es un plano y que en la dirección $(1, 1)$ el plano no sube ni baja."
   ]
  },
  {
   "cell_type": "markdown",
   "metadata": {},
   "source": [
    "### Ejercicio 7\n",
    "\n",
    "Dada la función definida en $\\mathbb{R}^2$ como:\n",
    "\n",
    "$\n",
    "f(x,y) = \n",
    "\\frac{x-y}{x+y} \\text{si $x+y\\neq 0$ y 0 si $x+y =0$}.\n",
    "$\n",
    "\n",
    "Estudiar el $\\lim_{(x,y)\\to (0,0)} f(x,y)$.\n",
    "\n",
    "Calcula las derivadas parciales en el origen.\n",
    "\n",
    "¿Es diferenciable esta función?\n"
   ]
  },
  {
   "cell_type": "markdown",
   "metadata": {},
   "source": [
    "La condición $x +y = 0$, implica los puntos de la diagonal o de la recta $ y = -x$, con dirección $(1, -1)$\n",
    "\n",
    "i) No existe el límite porque el límite depende del ángulo.\n",
    "\n",
    "$\\lim_{r \\to 0} \\frac{\\cos \\phi - \\sin \\phi}{\\cos \\phi + \\sin \\phi}$, menos para $y = -x$ que vale 0.\n",
    "\n",
    "ii) Las derivadas parciales no existen:\n",
    "\n",
    "$\n",
    "\\lim_{\\Delta x \\to 0}  \\frac{\\frac{\\Delta x}{\\Delta x} - 0}{\\Delta x}\n",
    "$\n",
    "No existe\n",
    "\n",
    "$\n",
    "\\lim_{\\Delta y \\to 0}  \\frac{-\\frac{\\Delta y}{\\Delta y} - 0}{\\Delta y}\n",
    "$\n",
    "No existe\n",
    "\n",
    "\n",
    "iii) La función no es diferenciable, no es continua en el origen, ni tiene derivadas parciales.\n",
    "\n",
    "\n",
    "Notar que de la derivación habitual tampoco nos daría derivadas con límite en el origen.\n",
    "\n",
    "$\n",
    "f'_x(x, y) = \\frac{1}{x+y} - \\frac{x-y}{(x+y)^2} = \\frac{2y}{(x+y)^2}\n",
    "$\n",
    "\n",
    "$\n",
    "f'_y(x, y) = \\frac{-1}{x+y} - \\frac{x-y}{(x+y)^2} = \\frac{-2x}{(x+y)^2}\n",
    "$\n",
    "\n",
    "\n"
   ]
  },
  {
   "cell_type": "code",
   "execution_count": 66,
   "metadata": {},
   "outputs": [
    {
     "data": {
      "image/png": "[encoded data removed]",
      "text/latex": [
       "$\\displaystyle \\left( \\frac{2 y}{\\left(x + y\\right)^{2}}, \\  - \\frac{2 x}{\\left(x + y\\right)^{2}}\\right)$"
      ],
      "text/plain": [
       "⎛  2⋅y      -2⋅x   ⎞\n",
       "⎜────────, ────────⎟\n",
       "⎜       2         2⎟\n",
       "⎝(x + y)   (x + y) ⎠"
      ]
     },
     "execution_count": 66,
     "metadata": {},
     "output_type": "execute_result"
    }
   ],
   "source": [
    "fun      = (x - y) / (x + y)\n",
    "fpx, fpy = sp.Derivative(fun, x), sp.Derivative(fun, y)\n",
    "sp.simplify(fpx.doit()), sp.simplify(fpy.doit())"
   ]
  }
 ],
 "metadata": {
  "celltoolbar": "Slideshow",
  "kernelspec": {
   "display_name": "Python 3",
   "language": "python",
   "name": "python3"
  },
  "language_info": {
   "codemirror_mode": {
    "name": "ipython",
    "version": 3
   },
   "file_extension": ".py",
   "mimetype": "text/x-python",
   "name": "python",
   "nbconvert_exporter": "python",
   "pygments_lexer": "ipython3",
   "version": "3.8.8"
  }
 },
 "nbformat": 4,
 "nbformat_minor": 2
}
