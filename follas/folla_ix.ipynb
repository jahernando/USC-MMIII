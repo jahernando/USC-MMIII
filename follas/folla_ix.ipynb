{
 "cells": [
  {
   "cell_type": "markdown",
   "metadata": {},
   "source": [
    "### Folla 8- Integrales en varias dimensiones\n",
    "\n",
    "Abril 2020"
   ]
  },
  {
   "cell_type": "code",
   "execution_count": 1,
   "metadata": {},
   "outputs": [
    {
     "name": "stdout",
     "output_type": "stream",
     "text": [
      " Last version  Mon May  9 21:56:15 2022\n"
     ]
    }
   ],
   "source": [
    "import time\n",
    "print(' Last version ', time.asctime() )"
   ]
  },
  {
   "cell_type": "code",
   "execution_count": 2,
   "metadata": {},
   "outputs": [],
   "source": [
    "# general imports\n",
    "%matplotlib inline\n",
    "%load_ext autoreload\n",
    "%autoreload 2\n",
    "\n",
    "# numpy and matplotlib\n",
    "import numpy as np\n",
    "import sympy as sp\n",
    "\n",
    "import matplotlib\n",
    "import matplotlib.pyplot as plt\n",
    "from mpl_toolkits.mplot3d import Axes3D\n",
    "\n",
    "plt.style.context('seaborn-colorblind');\n",
    "import graph_utils as gf\n",
    "\n",
    "sp.init_printing()"
   ]
  },
  {
   "cell_type": "code",
   "execution_count": 3,
   "metadata": {},
   "outputs": [],
   "source": [
    "x, y, z, t = sp.symbols('x y z t')\n",
    "n, m       = sp.symbols('n m ', integer = True)\n",
    "X          = sp.symbols('X')"
   ]
  },
  {
   "cell_type": "code",
   "execution_count": 4,
   "metadata": {},
   "outputs": [],
   "source": [
    "def sfourier(xfun, L = sp.pi):\n",
    "    sc  = fun / L * sp.cos( n * sp.pi * x / L)\n",
    "    ss  = fun / L * sp.sin( n * sp.pi * x / L)\n",
    "    sas = sp.integrate(sc, (x, -L, L))\n",
    "    sbs = sp.integrate(ss, (x, -L, L))\n",
    "    return sas, sbs"
   ]
  },
  {
   "cell_type": "markdown",
   "metadata": {},
   "source": [
    "**Ejercicio 1** Sea la función $f(x) = 0$ si $-\\pi \\le x \\le 0$ y $f(x) = 1$ si $0 \\lt x \\lt \\pi$. Calcula la serie de Fourier y el valor de la serie:\n",
    "\n",
    "$$\n",
    "1 - \\frac{1}{3} + \\frac{1}{5} - \\frac{1}{7} = \\frac{\\pi}{4}\n",
    "$$"
   ]
  },
  {
   "cell_type": "markdown",
   "metadata": {},
   "source": [
    "Los coeficientes de Fourier:\n",
    "\n",
    "$$\n",
    "a_0 = \\frac{1}{\\pi} \\int_0^\\pi \\mathrm{d}x = \\frac{x}{\\pi} \\Big|^{\\pi}_0 = 1\n",
    "$$\n",
    "\n",
    "$$\n",
    "a_n = \\frac{1}{\\pi} \\int_0^\\pi \\cos nx \\, \\mathrm{d}x = \\frac{1}{n\\pi} \\sin nx \\Big|^{\\pi}_0 = 0\n",
    "$$\n",
    "\n",
    "$$\n",
    "b_n = \\frac{1}{\\pi} \\int_0^\\pi \\sin nx \\, \\mathrm{d}x = \\frac{-1}{n \\pi} \\cos nx \\Big|^{\\pi}_0 = \\frac{1 - (-1)^n}{n \\pi}\n",
    "$$\n",
    "\n",
    "La serie de Fourier es:\n",
    "\n",
    "$$\n",
    "S(x) = \\frac{1}{2} + \\frac{2}{\\pi} \\sum_{k = 0, 1}^{\\infty} \\frac{1}{(2k+1)} \\sin (2k+1) x\n",
    "$$\n",
    "\n",
    "Si la valoramos en $x = \\pi/2$, $f(\\pi/2) = 1$\n",
    "\n",
    "$$\n",
    "\\sum_{k=0, 1}^{\\infty} \\frac{1}{(2k+1)} \\sin \\frac{(2k+1)\\pi}{2} = \\sum_{k=0, 1}^\\infty \\frac{(-1)^k}{2k+1} = \\frac{\\pi}{4}\n",
    "$$\n",
    "\n",
    "Esto es:\n",
    "\n",
    "$$\n",
    "1 - \\frac{1}{3} + \\frac{1}{5} + \\dots = \\frac{\\pi}{4}\n",
    "$$\n",
    "\n",
    "\n",
    "\n"
   ]
  },
  {
   "cell_type": "code",
   "execution_count": 5,
   "metadata": {},
   "outputs": [
    {
     "data": {
      "image/png": "[encoded data removed]",
      "text/latex": [
       "$\\displaystyle \\left( \\begin{cases} 0 & \\text{for}\\: n \\neq 0 \\\\1 & \\text{otherwise} \\end{cases}, \\  \\begin{cases} - \\frac{\\left(-1\\right)^{n}}{\\pi n} + \\frac{1}{\\pi n} & \\text{for}\\: n \\neq 0 \\\\0 & \\text{otherwise} \\end{cases}\\right)$"
      ],
      "text/plain": [
       "⎛               ⎧      n                 ⎞\n",
       "⎜               ⎪  (-1)     1            ⎟\n",
       "⎜⎧0  for n ≠ 0  ⎪- ───── + ───  for n ≠ 0⎟\n",
       "⎜⎨            , ⎨   π⋅n    π⋅n           ⎟\n",
       "⎜⎩1  otherwise  ⎪                        ⎟\n",
       "⎜               ⎪      0        otherwise⎟\n",
       "⎝               ⎩                        ⎠"
      ]
     },
     "execution_count": 5,
     "metadata": {},
     "output_type": "execute_result"
    },
    {
     "data": {
      "image/png": "[encoded data removed]",
      "text/plain": [
       "<Figure size 432x288 with 1 Axes>"
      ]
     },
     "metadata": {},
     "output_type": "display_data"
    }
   ],
   "source": [
    "fun = sp.Piecewise((0, x <0), (1, x >= 0))\n",
    "xs = np.linspace(-np.pi, np.pi, 100)\n",
    "ys = np.array([fun.subs(x, xi) for xi in xs])\n",
    "plt.plot(xs, ys); plt.title(fun)\n",
    "sas, sbs = sfourier(fun)\n",
    "sas, sbs"
   ]
  },
  {
   "cell_type": "markdown",
   "metadata": {},
   "source": [
    "**Ejercicio 2** Calcula la serie de Fourier $f(x) = - (\\pi+x)/2$ si $-\\pi \\le x \\le 0$, $f(x) = (\\pi + x)/2$ si $0 \\lt x \\lt \\pi$."
   ]
  },
  {
   "cell_type": "markdown",
   "metadata": {},
   "source": [
    "$f(x)$ es impar, solo hace falta calcular los coeficientes $b_n$\n",
    "\n",
    "$$\n",
    "b_n = \\frac{1}{\\pi} \\int_{-\\pi}^{\\pi} f(x) \\sin n x\\; \\mathrm{d}x = \\frac{2}{\\pi} \\int_0^\\pi \\frac{(\\pi-x)}{2} \\sin nx \\,  \\mathrm{d} x = \\\\\n",
    "\\frac{2}{\\pi} \\left[\\frac{\\pi}{2} \\frac{(- \\cos n \\pi)}{n} \\Big|_0^\\pi - \\int_0^\\pi  \\frac{x}{2} \\sin n x \\, \\mathrm{d}x \\right]\n",
    "$$\n",
    "\n",
    "La primera integral es:\n",
    "$$\n",
    "\\frac{-(-1)^n +1}{n}\n",
    "$$\n",
    "\n",
    "La segunda integral, si la hacemos por partes\n",
    "\n",
    "$$\n",
    "\\frac{2}{\\pi }\\int_0^\\pi \\frac{x}{2} (-\\sin nx) \\, \\mathrm{d}x = \n",
    "\\frac{2}{\\pi} \\left[\\frac{x}{2n} \\cos nx \\Big|_0^\\pi -  \\int_0^\\pi \\frac{1}{2n} \\cos nx \\, \\mathrm{d}x\\right] = \\\\\n",
    "\\frac{2}{\\pi} \\left[\\frac{x}{2n} \\cos nx \\Big|_0^\\pi  - \\frac{1}{2n^2} \\sin nx \\Big|_0^\\pi \\right] = \\frac{(-1)^n}{n}\n",
    "$$\n",
    "\n",
    "Por lo tanto:\n",
    "$$\n",
    "b_n = \\frac{1}{n}\n",
    "$$\n",
    "\n",
    "Y la serie:\n",
    "$$\n",
    "S(x) = \\sum_{n=1}^\\infty \\frac{1}{n} \\sin n x\n",
    "$$\n",
    "\n",
    "Estudiamos la convergencia en $x = \\{-\\pi, 0, \\pi \\}$, en $x = \\pm \\pi$ converge a 0, y en $x = 0$ la serie converge al punto medio de la función en los $0^-, 0^-$, que es también 0."
   ]
  },
  {
   "cell_type": "code",
   "execution_count": 6,
   "metadata": {},
   "outputs": [
    {
     "data": {
      "image/png": "[encoded data removed]",
      "text/latex": [
       "$\\displaystyle \\left( 0, \\  \\begin{cases} \\frac{1}{n} & \\text{for}\\: n \\neq 0 \\\\0 & \\text{otherwise} \\end{cases}\\right)$"
      ],
      "text/plain": [
       "⎛   ⎧1           ⎞\n",
       "⎜   ⎪─  for n ≠ 0⎟\n",
       "⎜0, ⎨n           ⎟\n",
       "⎜   ⎪            ⎟\n",
       "⎝   ⎩0  otherwise⎠"
      ]
     },
     "execution_count": 6,
     "metadata": {},
     "output_type": "execute_result"
    },
    {
     "data": {
      "image/png": "[encoded data removed]",
      "text/plain": [
       "<Figure size 432x288 with 1 Axes>"
      ]
     },
     "metadata": {},
     "output_type": "display_data"
    }
   ],
   "source": [
    "fun = sp.Piecewise((-(sp.pi+x)/2, x <= 0), ((sp.pi-x)/2, x >= 0))\n",
    "xs = np.linspace(-np.pi, np.pi, 100)\n",
    "ys = np.array([fun.subs(x, xi) for xi in xs])\n",
    "plt.plot(xs, ys); plt.title(fun)\n",
    "sas, sbs = sfourier(fun)\n",
    "sas, sbs"
   ]
  },
  {
   "cell_type": "markdown",
   "metadata": {},
   "source": [
    "**Ejercicio 3** Calcula la serie que vale 1 si $0 \\lt x \\lt \\pi/2$ y en el resto 0."
   ]
  },
  {
   "cell_type": "markdown",
   "metadata": {},
   "source": [
    "$$\n",
    "a_0 = \\frac{1}{\\pi} \\int_0^{\\pi/2} \\, \\mathrm{d}x = \\frac{x}{\\pi} \\Big|^{\\pi/2}_0 = \\frac{1}{2}\n",
    "$$\n",
    "\n",
    "$$\n",
    "a_n = \\frac{1}{\\pi} \\int_0^{\\pi/2} \\cos nx \\, \\mathrm{d}x = \\frac{1}{\\pi n} \\sin nx \\Big|^{\\pi/2}_0 = \\frac{1}{\\pi n} \\sin \\frac{n\\pi}{2}\n",
    "$$\n",
    "\n",
    "si $n$ es par $a_n = 0$, si n es impar, $n = 2k+1$ con $k=0, 1, ...$\n",
    "\n",
    "$$\n",
    "a_k = \\frac{1}{(2k+1) \\pi} \\sin (2k+1) \\frac{\\pi}{2} = \\frac{1}{(2k+1) \\pi} (-1)^k\n",
    "$$\n",
    "\n",
    "Los coeficientes:\n",
    "\n",
    "$$\n",
    "b_n = \\frac{1}{\\pi} \\int_0^{\\pi/2} \\sin nx \\, \\mathrm{d}x = - \\frac{1}{\\pi n} \\cos nx \\Big|^{\\pi/2}_0 = \\left(1 - \\cos \\frac{n\\pi}{2} \\right) \\frac{1}{\\pi n}\n",
    "$$\n",
    "\n",
    "Si $n$ es par $n = 2k$, con $k= 1, 2, ...$:\n",
    "\n",
    "$$\n",
    "\\cos \\frac{2k\\pi}{2} = (-1)^k, \\;\\;\\; b_k = \\frac{(1 - (-1)^k)}{2k \\pi } \n",
    "$$\n",
    "\n",
    "Si $n$ es impar $n = 2k +1$ con $k= 0, 1, 2$\n",
    "\n",
    "$$\n",
    "\\cos \\frac{(2k+1) \\pi}{2} = 0, \\;\\;\\; b_k = \\frac{1}{(2k+1) \\pi}\n",
    "$$\n",
    "\n",
    "Por lo tanto la serie queda:\n",
    "\n",
    "$$\n",
    "S(x) = \\frac{1}{4} + \\sum_{k=0,1}^\\infty \\frac{(-1)^k}{(2k+1) \\pi}\\cos (2k+1) x+ \\sum_{k = 0,1}^\\infty \\frac{(1 - (-1)^k)}{2k \\pi}\\sin(2k)x + \\sum_{k=0, 1}^\\infty \\frac{1}{(2k+1) \\pi}\\sin (2k+1) x\n",
    "$$"
   ]
  },
  {
   "cell_type": "code",
   "execution_count": 7,
   "metadata": {},
   "outputs": [
    {
     "data": {
      "image/png": "[encoded data removed]",
      "text/latex": [
       "$\\displaystyle \\left( \\begin{cases} \\frac{\\sin{\\left(\\frac{\\pi n}{2} \\right)}}{\\pi n} & \\text{for}\\: n \\neq 0 \\\\\\frac{1}{2} & \\text{otherwise} \\end{cases}, \\  \\begin{cases} - \\frac{\\cos{\\left(\\frac{\\pi n}{2} \\right)}}{\\pi n} + \\frac{1}{\\pi n} & \\text{for}\\: n \\neq 0 \\\\0 & \\text{otherwise} \\end{cases}\\right)$"
      ],
      "text/plain": [
       "⎛⎧   ⎛π⋅n⎞             ⎧     ⎛π⋅n⎞                 ⎞\n",
       "⎜⎪sin⎜───⎟             ⎪  cos⎜───⎟                 ⎟\n",
       "⎜⎪   ⎝ 2 ⎠             ⎪     ⎝ 2 ⎠    1            ⎟\n",
       "⎜⎨────────  for n ≠ 0, ⎨- ──────── + ───  for n ≠ 0⎟\n",
       "⎜⎪  π⋅n                ⎪    π⋅n      π⋅n           ⎟\n",
       "⎜⎪                     ⎪                           ⎟\n",
       "⎝⎩  1/2     otherwise  ⎩       0          otherwise⎠"
      ]
     },
     "execution_count": 7,
     "metadata": {},
     "output_type": "execute_result"
    },
    {
     "data": {
      "image/png": "[encoded data removed]",
      "text/plain": [
       "<Figure size 432x288 with 1 Axes>"
      ]
     },
     "metadata": {},
     "output_type": "display_data"
    }
   ],
   "source": [
    "fun = sp.Piecewise((0, x <= 0), (1, x < sp.pi/2), (0, True))\n",
    "xs = np.linspace(-np.pi, np.pi, 100)\n",
    "ys = np.array([fun.subs(x, xi) for xi in xs])\n",
    "plt.plot(xs, ys); plt.title(fun)\n",
    "sas, sbs = sfourier(fun)\n",
    "sas, sbs"
   ]
  },
  {
   "cell_type": "markdown",
   "metadata": {},
   "source": [
    "**Ejercicio 4** Calcula la seriede de Fourier para $f(x) = x^2$ definida en $\\pi \\le x \\lt \\pi$, y calcula:\n",
    "\n",
    "$$\n",
    "\\sum_n \\frac{1}{n^2} = \\frac{\\pi^2}{6}\n",
    "$$"
   ]
  },
  {
   "cell_type": "markdown",
   "metadata": {},
   "source": [
    "La función es par, calculamos $a_0, a_n$:\n",
    "\n",
    "$$\n",
    "a_0 = \\frac{2}{\\pi} \\int_0^\\pi x^2 \\, \\mathrm{d}x = \\frac{2}{3\\pi} x^3 \\Big|^\\pi_0 = \\frac{2\\pi^2}{3}\n",
    "$$\n",
    "\n",
    "$$\n",
    "a_n = \\frac{2}{\\pi} \\int_0^\\pi x^2 \\cos nx \\, \\mathrm{d}x = \\frac{2}{\\pi} \\left[\\frac{x^2}{n}\\sin nx \\Big|^\\pi_0 - \\int_0^\\pi \\frac{2x}{n} \\sin nx \\, \\mathrm{d}x \\right]\n",
    "$$\n",
    "\n",
    "La integral:\n",
    "\n",
    "$$\n",
    "\\int_0^\\pi \\frac{2x}{n} \\sin nx \\, \\mathrm{d}x = - \\frac{2x}{n^2} \\cos nx + \\int_0^\\pi \\frac{2}{n^2} \\cos nx \\, \\mathrm{d}x = -\\frac{2x}{n^2} \\cos nx + \\frac{2}{n^3} \\sin nx\n",
    "$$\n",
    "\n",
    "Como solo sobreviven los términos $\\cos nx$ en los extremos $\\pi, 0$ tenemos:\n",
    "\n",
    "$$\n",
    "a_n = \\frac{4}{n^2} \\cos n\\pi = \\frac{4}{n^2} (-1)^n \n",
    "$$\n",
    "\n",
    "La series es:\n",
    "\n",
    "$$\n",
    "S(x) = \\frac{\\pi^2}{3} + \\sum_{n=1, 2}^\\infty \\frac{4}{n^2} (-1)^n \\cos n x\n",
    "$$\n",
    "\n",
    "Si la valoramos en $x = \\pi$, $f(x) = \\pi^2$, así:\n",
    "\n",
    "$$\n",
    "\\pi^2 = \\frac{\\pi^2}{3} + \\sum_{n} \\frac{4}{n^2} (-1)^{2n}, \\;\\;\\; \\sum_n \\frac{1}{n^2} = \\frac{\\pi^2}{6}\n",
    "$$\n",
    "\n"
   ]
  },
  {
   "cell_type": "code",
   "execution_count": 8,
   "metadata": {},
   "outputs": [
    {
     "data": {
      "image/png": "[encoded data removed]",
      "text/latex": [
       "$\\displaystyle \\left( \\begin{cases} \\frac{4 \\left(-1\\right)^{n}}{n^{2}} & \\text{for}\\: n \\neq 0 \\\\\\frac{2 \\pi^{2}}{3} & \\text{otherwise} \\end{cases}, \\  0\\right)$"
      ],
      "text/plain": [
       "⎛⎧      n              ⎞\n",
       "⎜⎪4⋅(-1)               ⎟\n",
       "⎜⎪───────  for n ≠ 0   ⎟\n",
       "⎜⎪    2                ⎟\n",
       "⎜⎪   n                 ⎟\n",
       "⎜⎨                  , 0⎟\n",
       "⎜⎪    2                ⎟\n",
       "⎜⎪ 2⋅π                 ⎟\n",
       "⎜⎪ ────    otherwise   ⎟\n",
       "⎜⎪  3                  ⎟\n",
       "⎝⎩                     ⎠"
      ]
     },
     "execution_count": 8,
     "metadata": {},
     "output_type": "execute_result"
    },
    {
     "data": {
      "image/png": "[encoded data removed]",
      "text/plain": [
       "<Figure size 432x288 with 1 Axes>"
      ]
     },
     "metadata": {},
     "output_type": "display_data"
    }
   ],
   "source": [
    "fun = x**2\n",
    "xs = np.linspace(-np.pi, np.pi, 100)\n",
    "ys = np.array([fun.subs(x, xi) for xi in xs])\n",
    "plt.plot(xs, ys); plt.title(fun)\n",
    "sas, sbs = sfourier(fun)\n",
    "sas, sbs"
   ]
  },
  {
   "cell_type": "markdown",
   "metadata": {},
   "source": [
    "**Ejercicio 5** Calcula la series de Fourier $f(x) = x^4$ en el intervalo $\\-pi \\le x \\lt \\pi$, y demostrar:\n",
    "\n",
    "$$\n",
    "\\sum_{n=1, 2}^\\infty \\frac{1}{(2n-1)^4} = \\frac{\\pi^4}{96}, \\;\\;\\; \\sum_n \\frac{1}{n^4} = \\frac{\\pi^4}{90}\n",
    "$$"
   ]
  },
  {
   "cell_type": "markdown",
   "metadata": {},
   "source": [
    "Al ser una función par solo necesitamos calcular los coeficientes $a_0, a_n$\n",
    "\n",
    "$$\n",
    "a_0 = \\frac{2}{\\pi} \\int_0^\\pi x^4 \\, \\mathrm{d}x = \\frac{2}{5\\pi} x^5 \\Big|^\\pi_0 = \\frac{2 \\pi^4}{5}\n",
    "$$\n",
    "\n",
    "y\n",
    "$$\n",
    "a_n = \\frac{2}{\\pi} \\int_0^\\pi x^4 \\cos nx \\, \\mathrm{d}x \n",
    "= \\frac{2}{\\pi} \\left[ \\frac{x^4}{n} \\sin nx \\Big|^\\pi_0- \\int_0^\\pi \\frac{4x^3}{n} \\sin nx \\mathrm{d}x \\right]\n",
    "$$\n",
    "\n",
    "El primer sumando del paréntesis, al ser $\\sin nx$ en $x = \\pi, 0$ es nulo.\n",
    "\n",
    "$$\n",
    "a_n = -\\frac{8}{\\pi n} \\int_0^\\pi x^3 \\sin nx \\, \\mathrm{d}x \\\\ \n",
    "    = -\\frac{8}{\\pi n} \\left[ - \\frac{x^3}{n} \\cos nx \\Big|^\\pi_0 + \\int_0^\\pi \\frac{3x^2}{n} \\cos nx \\, \\mathrm{d}x \\right] \\\\\n",
    "    = \\frac{8 \\pi^2}{n^2} (-1)^n - \\frac{24}{n^2\\pi} \\int^\\pi_0 x^2 \\cos nx \\, \\mathrm{d}x \n",
    "$$\n",
    "\n",
    "La integral:\n",
    "\n",
    "$$\n",
    "\\int_0^\\pi x^2 \\cos nx \\, \\mathrm{d}x =  \\frac{1}{n} x^2 \\sin nx \\Big|^\\pi_0 - \\frac{2}{n} \\int^\\pi_0 x \\sin nx \\, \\mathrm{d}x = -\\frac{2}{n } \\int^\\pi_0 x \\sin nx \\, \\mathrm{d}x  \\\\\n",
    "= -\\frac{2}{n} \\left[ - \\frac{x}{n} \\cos nx \\Big|_0^\\pi + \\int_0^\\pi \\frac{\\cos nx}{n}\\right] \\\\\n",
    "= -\\frac{2}{n} \\left[ - \\frac{x}{n} \\cos nx \\Big|_0^\\pi + \\frac{\\sin nx}{n^2} \\Big|^\\pi_0\\right] = \\frac{2\\pi}{n^2} (-1)^n\n",
    "$$\n",
    "\n",
    "Por lo tanto:\n",
    "\n",
    "$$\n",
    "a_n = \\frac{8}{n^2} \\left( \\pi^2 - \\frac{6}{n^2} \\right) (-1)^n\n",
    "$$\n",
    "\n",
    "y la serie:\n",
    "\n",
    "$$\n",
    "S(x) = \\frac{\\pi^4}{5} + \\sum_n \\frac{8}{n^2} \\left( \\pi^2 - \\frac{6}{n^2} \\right) (-1)^n \\cos nx\n",
    "$$"
   ]
  },
  {
   "cell_type": "markdown",
   "metadata": {},
   "source": [
    "Si escogemos $x = \\pi$ entonces $\\cos n\\pi = (-1)^n$ y en el sumatorio tenemos $(-1)^2n$\n",
    "\n",
    "$$\n",
    "S(\\pi) = \\frac{\\pi^4}{5} + \\sum_n \\frac{8\\pi^2}{n^2} - \\sum_n \\frac{48}{n^4} = \\pi^4\n",
    "$$\n",
    "\n",
    "En el ejercicio anterior demostramos que $\\sum_n \\frac{1}{n^2} = \\frac{\\pi^2}{6}$\n",
    "\n",
    "$$\n",
    "\\frac{8\\pi^4}{6} - \\sum_n \\frac{48}{n^4} = \\frac{4\\pi^4}{5}\n",
    "$$\n",
    "\n",
    "$$\n",
    "\\sum_n \\frac{1}{n^4} = \\frac{1}{2^4 3} \\frac{24-8}{30} \\pi^4 = \\frac{1}{2^4 3} \\frac{2^4}{3 \\, 2 \\, 5} \\pi^4= \\frac{\\pi^4}{90} \n",
    "$$\n",
    "\n",
    "Si separamos $\\sum_n 1/n^2$ en términos pares e impares:\n",
    "\n",
    "$$\n",
    "\\sum_{k= 0, 1}^{\\infty} \\frac{1}{(2k+1)^4} + \\sum_n \\frac{1}{(2k)^4} = \\frac{\\pi^4}{90} \\\\\n",
    "\\sum_{k=0,1}^\\infty \\frac{1}{(2k+1)^4} = \\frac{\\pi^4}{90} \\left( 1 - \\frac{1}{16}\\right) = \\frac{3 \\, 5}{ 2^5 \\, 3^2 \\,5} \\pi^4 = \\frac{1}{2^5 \\, 3} \\pi^4 = \\frac{\\pi^4}{96}\n",
    "$$"
   ]
  },
  {
   "cell_type": "code",
   "execution_count": 9,
   "metadata": {},
   "outputs": [
    {
     "data": {
      "image/png": "[encoded data removed]",
      "text/latex": [
       "$\\displaystyle \\left( \\begin{cases} \\frac{8 \\left(-1\\right)^{n} \\left(\\pi^{2} n^{2} - 6\\right)}{n^{4}} & \\text{for}\\: n \\neq 0 \\\\\\frac{2 \\pi^{4}}{5} & \\text{otherwise} \\end{cases}, \\  0\\right)$"
      ],
      "text/plain": [
       "⎛⎧      n ⎛ 2  2    ⎞              ⎞\n",
       "⎜⎪8⋅(-1) ⋅⎝π ⋅n  - 6⎠              ⎟\n",
       "⎜⎪───────────────────  for n ≠ 0   ⎟\n",
       "⎜⎪          4                      ⎟\n",
       "⎜⎪         n                       ⎟\n",
       "⎜⎨                              , 0⎟\n",
       "⎜⎪          4                      ⎟\n",
       "⎜⎪       2⋅π                       ⎟\n",
       "⎜⎪       ────          otherwise   ⎟\n",
       "⎜⎪        5                        ⎟\n",
       "⎝⎩                                 ⎠"
      ]
     },
     "execution_count": 9,
     "metadata": {},
     "output_type": "execute_result"
    },
    {
     "data": {
      "image/png": "[encoded data removed]",
      "text/plain": [
       "<Figure size 432x288 with 1 Axes>"
      ]
     },
     "metadata": {},
     "output_type": "display_data"
    }
   ],
   "source": [
    "fun = x**4\n",
    "xs = np.linspace(-np.pi, np.pi, 100)\n",
    "ys = np.array([fun.subs(x, xi) for xi in xs])\n",
    "plt.plot(xs, ys); plt.title(fun)\n",
    "sas, sbs = sfourier(fun)\n",
    "sp.simplify(sas), sbs"
   ]
  },
  {
   "cell_type": "markdown",
   "metadata": {},
   "source": [
    "**Ejercicio 6**\n",
    "\n",
    "Calcula la seriede de fourier $f(\\theta) = |\\sin \\theta|$, en $-\\pi \\le x \\lt \\pi$ y calcula la suma de la serie en $\\theta = 0, \\pi/2$"
   ]
  },
  {
   "cell_type": "markdown",
   "metadata": {},
   "source": [
    "La función es par y por lo tanto solo calculamos $a_0, a_n$\n",
    "\n",
    "$$\n",
    "a_0 = \\frac{2}{\\pi} \\int_0^\\pi \\sin \\theta \\, \\mathrm{d}\\theta = \\frac{2}{\\pi} (-\\cos \\theta)\\Big|_0^\\pi = \\frac{4}{\\pi}\n",
    "$$\n",
    "\n",
    "$$\n",
    "a_n = \\frac{2}{\\pi} \\int_0^\\pi \\sin \\theta \\cos n \\theta \\, \\mathrm{d}\\theta \\\\ \n",
    "  = \\frac{1}{\\pi} \\int_0^\\pi \\left[ \\sin (n+1) \\theta - \\sin (n-1) \\theta \\right] \\, \\mathrm{d}\\theta \\\\\n",
    "$$\n",
    "Como $2 \\sin a \\cos b = \\sin(a+b) + \\sin(a-b)$, notar que cambiamos el signo en el segundo sumando, al colocar $n-1$!\n",
    "$$\n",
    "  = -\\frac{1}{\\pi} \\left[ \\frac{\\cos (n+1) \\theta}{(n+1)} - \\frac{\\cos (n-1) \\theta}{(n-1)}\\right]_0^\\pi \\\\\n",
    "  = -\\frac{1}{\\pi} \\left[ \\frac{(-1)^{(n+1)} -1}{(n+1)} - \\frac{(-1)^{(n-1)}-1}{(n-1)} \\right] \\\\\n",
    "  = -\\frac{1}{\\pi} \\left[ \\frac{-(-1)^n - 1}{n+1} - \\frac{-(-1)^n-1}{n-1} \\right] \\\\  \n",
    "  = \\frac{(1 + (-1)^n)}{\\pi(n^2-1)} (-2) \n",
    "$$\n",
    "\n",
    "La serie nos queda:\n",
    "\n",
    "$$\n",
    "S(\\theta) = \\frac{2}{\\pi} \\left[ 1 -  \\sum_n \\frac{1 + (-1)^2}{(n^2-1)} \\cos n\\theta \\right]\n",
    "$$\n",
    "\n",
    "Para $n$ impar la serie se anula, y para par queda:\n",
    "\n",
    "$$\n",
    "S(\\theta) = \\frac{2}{\\pi} \\left[ 1 - \\sum_{k=1}^\\infty \\frac{2}{4k^2-1} \\cos 2k \\theta \\right]\n",
    "$$\n",
    "\n",
    "En el caso $\\theta = 0$\n",
    "$$\n",
    "0 = \\frac{2}{\\pi} \\left[ 1 - \\sum_k \\frac{2}{4k^2-1}\\right], \\;\\;\\; \\sum_k \\frac{1}{4k^2-1} = \\frac{1}{2}\n",
    "$$\n",
    "\n",
    "Y para el caso $\\theta = \\pi/2$\n",
    "\n",
    "$$\n",
    "1 = \\frac{2}{\\pi} \\left[ 1 - \\sum_k \\frac{2}{4k^2-1} (-1)^k \\right], \\;\\;\\; \\sum_k \\frac{(-1)^k}{2k^2-1} = \\frac{2-\\pi}{4}\n",
    "$$"
   ]
  },
  {
   "cell_type": "code",
   "execution_count": 10,
   "metadata": {},
   "outputs": [
    {
     "data": {
      "image/png": "[encoded data removed]",
      "text/latex": [
       "$\\displaystyle \\left( \\begin{cases} 0 & \\text{for}\\: n = -1 \\vee n = 1 \\\\- \\frac{2 - 2 \\left(-1\\right)^{n + 1}}{\\pi \\left(n^{2} - 1\\right)} & \\text{otherwise} \\end{cases}, \\  0\\right)$"
      ],
      "text/plain": [
       "⎛⎧         0           for n = -1 ∨ n = 1   ⎞\n",
       "⎜⎪                                          ⎟\n",
       "⎜⎪ ⎛          n + 1⎞                        ⎟\n",
       "⎜⎨-⎝2 - 2⋅(-1)     ⎠                     , 0⎟\n",
       "⎜⎪───────────────────      otherwise        ⎟\n",
       "⎜⎪       ⎛ 2    ⎞                           ⎟\n",
       "⎝⎩     π⋅⎝n  - 1⎠                           ⎠"
      ]
     },
     "execution_count": 10,
     "metadata": {},
     "output_type": "execute_result"
    }
   ],
   "source": [
    "fun = sp.Abs(sp.sin(x))\n",
    "#xs = np.linspace(-X, X, 100)\n",
    "#ys = np.array([fun.subs(x, xi) for xi in xs])\n",
    "#plt.plot(xs, ys); plt.title(fun)\n",
    "sas, sbs = sfourier(fun)\n",
    "sp.simplify(sas), sbs"
   ]
  },
  {
   "cell_type": "markdown",
   "metadata": {},
   "source": [
    "**Ejercicio 7** Indica si son pares o impares las funciones"
   ]
  },
  {
   "cell_type": "markdown",
   "metadata": {},
   "source": [
    "7.1) $f(x) = x^5$, impar \n",
    "\n",
    "7.2) $f(x) = \\sin x$, impar \n",
    "\n",
    "7.3) $f(x) = e^x$, ninguna\n",
    "\n",
    "7.4) $f(x) = \\sin^3x$, impart\n",
    "\n",
    "7.5) $f(x) = \\sin x^2$, par\n",
    "\n",
    "7.6) $f(x) = \\cos (x + x^3)$, par\n",
    "\n",
    "7.7) $f(x) = x + x^2 + x^3$, ninguna\n",
    "\n",
    "7.8) $f(x) = \\log \\frac{1+x}{1-x}$, impar\n",
    "\n",
    "7.9) $f(x) = 1$, par\n",
    "\n",
    "7.10) $f(x) = 1+x$, ninguna"
   ]
  },
  {
   "cell_type": "markdown",
   "metadata": {},
   "source": [
    "**Ejercicio 8** Demuestra que \n",
    "$$\n",
    "\\frac{L}{2} - x = \\frac{L}{\\pi} \\sum_n \\frac{1}{n} \\sin \\frac{2\\pi n x}{L}$$\n",
    "\n",
    "en $0 \\lt x \\lt L$, a partir de la seerie de Fourier de $x$ en $[-L/2, L/2]$\n"
   ]
  },
  {
   "cell_type": "markdown",
   "metadata": {},
   "source": [
    "Desarrollamos la serie de Fourier de la función $f(x) = x$ en el intervalo $[-L/2, L/2]$.\n",
    "\n",
    "Como es una función par solo calculamos $b_n$\n",
    "\n",
    "$$\n",
    "b_n = \\frac{2}{L} \\int_{-L/2}^{L/2} x \\sin \\frac{2n\\pi x}{L} \\, \\mathrm{d}x \\\\\n",
    "    = \\frac{4}{L} \\int_0^{L/2} x \\sin \\frac{2n\\pi x}{L} \\, \\mathrm{d}x \n",
    "$$\n",
    "\n",
    "Integramos por partes:\n",
    "\n",
    "$$\n",
    "b_n = \\frac{4}{L} \\left[ -\\frac{x L}{ 2n \\pi} \\cos \\frac{2n\\pi x}{L} \\Big|_0^{L/2}+ \\int_{-L/2}^{L/2} \\frac{L}{2n\\pi} \\cos \\frac{2n\\pi x}{L} \\, \\mathrm{d}x  \\right] \\\\\n",
    "    = \\frac{4}{L} \\left[ -\\frac{x L}{ 2n \\pi} \\cos \\frac{2n\\pi x}{L} \\Big|_0^{L/2}+  \\left(\\frac{L}{2n\\pi}\\right)^2 \\sin \\frac{2n\\pi x}{L} \\Big|_0^{L/2}  \\right] \\\\\n",
    "    = -\\frac{L}{n\\pi} \\cos n\\pi = \\frac{L}{n\\pi} (-1)^{(n+1)}\n",
    "$$\n",
    "\n",
    "Dado que $\\sin n\\pi = 0$\n",
    "\n",
    "La serie queda:\n",
    "\n",
    "$$\n",
    "S(x) = \\sum_{n=1}^\\infty \\frac{L}{n\\pi} (-1)^{(n+1)} \\sin \\frac{2n\\pi x}{L}\n",
    "$$\n"
   ]
  },
  {
   "cell_type": "markdown",
   "metadata": {},
   "source": [
    "si hacemos el cambio de variable $y = x + L/2$, el intervalo de $y$ será $[0, L]$\n",
    "\n",
    "$$\n",
    "S(y-L/2) = \\sum_n \\frac{L}{n\\pi} (-1)^{(n+1)} \\sin\\frac{2n\\pi}{L} \\left( y - \\frac{L}{2}\\right)\n",
    "$$\n",
    "\n",
    "Con el cambio $\\sin (a-b) = \\sin a \\cos b - \\cos a \\sin b$\n",
    "\n",
    "la expresión:\n",
    "\n",
    "$$\n",
    "\\sin\\frac{2n\\pi}{L} \\left( y - \\frac{L}{2}\\right) = \\sin\\frac{2n\\pi y }{L} \\cos(-n\\pi) - \\cos \\frac{2n\\pi y}{L} \\sin(-n\\pi) \\\\\n",
    "= (-1)^n \\sin\\frac{2n\\pi y }{L}\n",
    "$$\n",
    "\n",
    "y por lo tanto:\n",
    "\n",
    "$$\n",
    "y - \\frac{L}{2} = - \\sum_n \\frac{L}{n\\pi} \\sin \\frac{2n\\pi y}{L}\n",
    "$$\n",
    "\n",
    "cambiamos de signo y renombramos $x \\to y$:\n",
    "\n",
    "$$\n",
    "\\frac{L}{2} - x = \\frac{L}{\\pi} \\sum_n \\frac{1}{n} \\sin \\frac{2n \\pi x}{L}\n",
    "$$\n",
    "\n"
   ]
  },
  {
   "cell_type": "markdown",
   "metadata": {},
   "source": [
    "**Ejercicio 9** Da la serie de Fourier de $f(x) = \\cos \\pi x$ en el intervalo $1 \\lt x \\le 2$"
   ]
  },
  {
   "cell_type": "markdown",
   "metadata": {},
   "source": [
    "Si hacemos el cambio de variable: $y = x - 3/2$, el intervalo de integración es: $(-1/2, 1/2]$, y podemos hacer el desarrollo de Taylor con $L = 1/2$.\n",
    "\n",
    "La función será:\n",
    "\n",
    "$$\n",
    "f(y) = \\cos \\pi (y + 3/2) = \\sin \\pi y\n",
    "$$\n",
    "\n",
    "que es una función impar, solo calculamos los términos $b_n$\n",
    "\n",
    "$$\n",
    "b_n = \\frac{1}{L} \\int_{-L}^{L} f(y) \\sin \\frac{n \\pi y}{L} \\, \\mathrm{d}y\n",
    "$$\n",
    "\n",
    "En nuestro caso con $L = 1/2$\n",
    "\n",
    "$$\n",
    "b_n = 2 \\int_{-1/2}^{1/2} \\sin \\pi y \\, \\sin 2n \\pi y \\, \\mathrm{d}y\n",
    "$$\n",
    "\n",
    "como $2 \\sin a \\sin b = \\cos (a -b) - \\cos (a + b) $\n",
    "\n",
    "$$\n",
    "b_n = 2 \\int_0^{1/2} \\left[ \\cos (2n -1) \\pi y - \\cos (2n+1) \\pi y \\right] \\, \\mathrm{d}y \\\\\n",
    "    = 2 \\left[ \\frac{\\sin (2n-1) \\pi y}{(2n-1) \\pi} - \\frac{\\sin (2n+1) \\pi y}{(2n+1) \\pi}\\right]_0^{1/2}\n",
    "$$\n",
    "\n",
    "como $\\sin (2n-1) \\pi/2 = (-1)^{n+1}$ y $\\sin (2n+1) \\pi/2 = (-1)^n$, tenemos:\n",
    "\n",
    "$$\n",
    "b_n = \\frac{2}{\\pi} \\left[ \\frac{(-1)^{(n+1)}}{(2n-1)} - \\frac{(-1)^n}{(2n+1)}\\right] \\\\\n",
    "$$\n",
    "$$\n",
    "= - \\frac{2 (-1)^n}{\\pi} \\left[ \\frac{1}{(2n+1)} + \\frac{1}{(2n-1)} \\right] =   \\frac{8n \\, (-1)^{(n+1)}}{(4n^2-1) \\pi}\n",
    "$$\n",
    "\n",
    "Asi pues la serie queda:\n",
    "\n",
    "$$\n",
    "S(y) = \\sum_n \\frac{8 n \\, (-1)^{n+1}}{(4n^2-1) \\pi} \\sin 2n\\pi y\n",
    "$$\n",
    "\n",
    "Volvemos a deshacer el cambio\n",
    "\n",
    "$$\n",
    "S(y) = \\sum_n b_n \\sin 2n \\pi (x-3/2) \n",
    "$$\n",
    "\n",
    "Como $\\sin (a + b) = \\sin a \\cos b + \\cos a \\sin b$ tenemos:\n",
    "\n",
    "$$\n",
    "S(y) = \\sum_n b_n \\left[ \\sin 2n\\pi x \\cos -3 n \\pi + \\cos 2n\\pi x \\sin -3 n \\pi \\right]\n",
    "$$\n",
    "\n",
    "como $\\cos 3 n \\pi = (-1)^n$ y $\\sin 3n \\pi = 0$, tenemos:\n",
    "\n",
    "$$\n",
    "\\cos(\\pi x) = - \\sum_n \\frac{8 n}{\\pi (4n^2-1)} \\sin 2n\\pi x\n",
    "$$"
   ]
  },
  {
   "cell_type": "code",
   "execution_count": 11,
   "metadata": {},
   "outputs": [
    {
     "data": {
      "image/png": "[encoded data removed]",
      "text/latex": [
       "$\\displaystyle \\left( 0, \\  - \\frac{8.0 \\left(-1\\right)^{n} n}{4 \\pi n^{2} - \\pi}\\right)$"
      ],
      "text/plain": [
       "⎛            n   ⎞\n",
       "⎜   -8.0⋅(-1) ⋅n ⎟\n",
       "⎜0, ─────────────⎟\n",
       "⎜          2     ⎟\n",
       "⎝     4⋅π⋅n  - π ⎠"
      ]
     },
     "execution_count": 11,
     "metadata": {},
     "output_type": "execute_result"
    },
    {
     "data": {
      "image/png": "[encoded data removed]",
      "text/plain": [
       "<Figure size 432x288 with 1 Axes>"
      ]
     },
     "metadata": {},
     "output_type": "display_data"
    }
   ],
   "source": [
    "fun = sp.sin(sp.pi * x )\n",
    "xs = np.linspace(-0.5, 0.5, 100)\n",
    "ys = np.array([fun.subs(x, xi) for xi in xs])\n",
    "plt.plot(xs, ys); plt.title(fun)\n",
    "sas, sbs = sfourier(fun, 0.5)\n",
    "sp.simplify(sas), sbs"
   ]
  },
  {
   "cell_type": "markdown",
   "metadata": {},
   "source": [
    "**Ejercicio 10**\n",
    "\n",
    "Da la serie de Fourier para la función $f(x) = e^x$ en el intervalo $-1 \\le x \\lt 1$. ¿Cuál es el valor de la extensión periódica en $x = 2$?\n"
   ]
  },
  {
   "cell_type": "markdown",
   "metadata": {},
   "source": [
    "En este caso el periodo es $T = 2$ y los coeficientes de Fourier:\n",
    "\n",
    "$$\n",
    "a_0 = \\frac{1}{L} \\int_{-L}^{L} f(x) \\, \\mathrm{d}x = \\int_{-1}^1 e^x \\, \\mathrm{d}x = e^x \\Big|_{-1}^1 = e - e^{-1} = \\frac{e^2-1}{e}\n",
    "$$\n",
    "\n",
    "para los coeficientes $a_n$\n",
    "\n",
    "$$\n",
    "a_n = \\frac{1}{L} \\int_{-L}^{L} f(x) \\cos \\frac{n \\pi x}{L} \\, \\mathrm{d}x = \\int_{-1}^1 e^x \\cos n \\pi x \\, \\mathrm{d}x \\\\\n",
    "$$\n",
    "\n",
    "por partes dos veces:\n",
    "\n",
    "$$\n",
    "a_n = \\frac{e^x}{n\\pi} \\sin n\\pi x \\Big|_{-1}^1 - \\int_{-1}^1 \\frac{e^x}{n\\pi} \\sin n\\pi x \\, \\mathrm{d}x \\\\\n",
    "    = \\frac{e^x}{n\\pi} \\sin n\\pi x \\Big|_{-1}^1 - \\frac{1}{n\\pi} \\left[ -\\frac{e^x}{n\\pi} \\cos n \\pi x \\Big|_{-1}^1+ \\frac{1}{n\\pi} a_n\\right]\n",
    "$$\n",
    "\n",
    "Si despejamos $a_n$, teniendo en cuenta que $\\sin \\pm n\\pi = 0$\n",
    "\n",
    "$$\n",
    "\\frac{[(n\\pi)^2 +1]}{(n\\pi)^2} a_n = \\frac{1}{(n\\pi)^2} \\frac{e^2-1}{e} \\cos n\\pi, \\\\\n",
    "a_n = \\frac{(-1)^2}{(n\\pi)^2 +1} \\frac{e^2-1}{e} \n",
    "$$\n",
    "\n"
   ]
  },
  {
   "cell_type": "markdown",
   "metadata": {},
   "source": [
    "Para los coeficientes $b_n$\n",
    "\n",
    "$$\n",
    "b_n = \\frac{1}{L} \\int_{-L}^L f(x) \\sin \\frac{n\\pi x}{L} \\mathrm{d}x = \\int_{-1}^1 e^x \\sin n\\pi x \\, \\mathrm{d}x\n",
    "$$\n",
    "\n",
    "De nuevo, integrando por partes dos veces:\n",
    "\n",
    "$$\n",
    "b_n = \\frac{-e^x}{n\\pi} \\cos nx \\Big|_{-1}^1 + \\int_{-1}^1 \\frac{e^x}{n\\pi} \\cos n\\pi x \\, \\mathrm{d}x \\\\\n",
    "    =  \\frac{-e^x}{n\\pi} \\cos nx \\Big|_{-1}^1 + \\frac{e^x}{(n\\pi)^2} \\sin n\\pi x \\Big|_{-1}^1 - \\frac{b_n}{(n\\pi)^2}\n",
    "$$\n",
    "\n",
    "Si despejamos $b_n$, teniendo en cuenta de nuevo que $\\sin \\pm n\\pi = 0$\n",
    "\n",
    "$$\n",
    "\\frac{(n\\pi)^2 +1}{(n\\pi)^2} b_n = \\frac{-e^x}{n\\pi} \\cos nx \\Big|_{-1}^1, \\\\\n",
    "b_n = \\frac{n\\pi}{(n\\pi)^2 +1} \\frac{e^2-1}{e} (-1)^{n+1}\n",
    "$$\n",
    "\n",
    "La serie de Fourier nos queda:\n",
    "\n",
    "$$\n",
    "S(x) = \\frac{e^2-1}{e} \\left[ \\frac{1}{2} + \\sum_{n=1}^\\infty \\frac{(-1)^n}{(n\\pi)^2 +1} \\left[ \\cos n\\pi x \n",
    "- (n\\pi) \\sin n\\pi x \\right] \\right]\n",
    "$$\n",
    "\n",
    "En este caso, en la extensión $S(2) = S(0)$\n",
    "\n",
    "$$\n",
    "S(0) = \\frac{e^2-1}{e} \\left[ \\frac{1}{2} + \\sum_{n=1}^\\infty \\frac{(-1)^n}{(n\\pi)^2 +1} \\right]\n",
    "$$"
   ]
  },
  {
   "cell_type": "code",
   "execution_count": 12,
   "metadata": {},
   "outputs": [
    {
     "data": {
      "image/png": "[encoded data removed]",
      "text/latex": [
       "$\\displaystyle \\left( \\frac{2.3504023872876 \\left(-1\\right)^{n}}{\\pi^{2} n^{2} + 1}, \\  - \\frac{2.3504023872876 \\left(-1\\right)^{n} \\pi n}{\\pi^{2} n^{2} + 1}\\right)$"
      ],
      "text/plain": [
       "⎛                    n                       n     ⎞\n",
       "⎜2.3504023872876⋅(-1)   -2.3504023872876⋅(-1) ⋅π⋅n ⎟\n",
       "⎜─────────────────────, ───────────────────────────⎟\n",
       "⎜       2  2                      2  2             ⎟\n",
       "⎝      π ⋅n  + 1                 π ⋅n  + 1         ⎠"
      ]
     },
     "execution_count": 12,
     "metadata": {},
     "output_type": "execute_result"
    },
    {
     "data": {
      "image/png": "[encoded data removed]",
      "text/plain": [
       "<Figure size 432x288 with 1 Axes>"
      ]
     },
     "metadata": {},
     "output_type": "display_data"
    }
   ],
   "source": [
    "fun = sp.exp(x)\n",
    "xs = np.linspace(-1., 1., 100)\n",
    "ys = np.array([fun.subs(x, xi) for xi in xs])\n",
    "plt.plot(xs, ys); plt.title(fun)\n",
    "sas, sbs = sfourier(fun, 1.)\n",
    "sp.simplify(sas), sbs"
   ]
  },
  {
   "cell_type": "markdown",
   "metadata": {},
   "source": [
    "**Ejercicio 11**\n",
    "\n",
    "Sea la función $f(x) = e^{-x^2}$ definida en $[0,1 ]$"
   ]
  },
  {
   "cell_type": "markdown",
   "metadata": {},
   "source": [
    "1) Extensión par: $f(x) = e^{-x^2}$ en [-1, 1]\n",
    "\n",
    "2) Extensión impar: $f(x) = e^{-x^2}$ si $0 \\le x \\le 1$, $f(x) = - e^{-x^2}$ si $-1 \\le x \\lt 0$.\n",
    "\n",
    "3) Con periodo $T = 1$, $f(x) = e^{-x^2}$ en $[0, 1]$\n",
    "\n",
    "4) con periodo $T = 2$, $f(x) = e^{-x^2}$ en $[0, 2]$\n",
    "\n",
    "5) Las dos anteriores difieren en $x=1$, ya que en la primera y segunda se aplica Dirichlet.\n"
   ]
  },
  {
   "cell_type": "markdown",
   "metadata": {},
   "source": [
    "**Ejercicio 12**\n",
    "\n",
    "Dibuja la función, indica si es par o impar, calcula los coeficientes de Fourier e indica a qué valores converge la serie en los valores $-\\pi, \\pi$\n",
    "\n",
    "$$\n",
    "f(x) = \\left\\{\n",
    "     \\begin{array}{lr}\n",
    "     -2x-\\pi, \\;\\; -\\pi \\le x \\le -\\pi/2 \\\\\n",
    "      0, \\;\\; -\\pi/2 \\lt x \\lt \\pi/2 \\\\\n",
    "     2x-\\pi, \\;\\; \\pi/2 \\le x \\lt \\pi\n",
    "     \\end{array}\n",
    "   \\right.\n",
    "$$\n"
   ]
  },
  {
   "cell_type": "markdown",
   "metadata": {},
   "source": [
    "La función es par (ver abajo), y solo calculamos los coeficientes $a_0, a_n$\n",
    "\n",
    "$$\n",
    "a_0 = \\frac{2}{\\pi} \\int_{\\pi/2}^{\\pi} (2x - \\pi) \\, \\mathrm{d}x \\\\\n",
    "    = \\frac{2}{\\pi} \\left[ x^2 - \\pi x\\right]^\\pi_{\\pi/2}  = \\frac{2}{\\pi} \\left[ \\frac{3\\pi^2}{4} - \\frac{\\pi^2}{2}\\right] = \\frac{\\pi}{2}\n",
    "$$\n",
    "\n",
    "y \n",
    "\n",
    "$$\n",
    "a_n = \\frac{2}{\\pi} \\int_{\\pi/2}^\\pi (2x - \\pi) \\, \\cos nx \\, \\mathrm{d}x\n",
    "$$\n",
    "\n",
    "$$\n",
    "\\int_{\\pi/2}^{\\pi} 2x \\cos nx \\, \\mathrm{d}x = \\left[ \\frac{2x}{n} \\sin nx  + \\frac{2}{n^2} \\cos nx \\right]_{\\pi/2}^\\pi \\\\\n",
    "= -\\frac{\\pi}{n} \\sin \\frac{n\\pi}{2} + \\frac{2}{n^2} \\cos  n \\pi - \\frac{2}{n^2} \\cos \\frac{n \\pi}{2}\n",
    " $$\n",
    " \n",
    " $$\n",
    " - \\pi \\int_{\\pi/2}^\\pi \\cos nx \\, \\mathrm{d}x = - \\frac{\\pi}{n} \\sin nx \\Big|^{\\pi}_{\\pi/2} = \\frac{\\pi}{n} \\sin \\frac{n\\pi}{2}\n",
    " $$\n",
    "\n",
    "Por lo tanto:\n",
    "\n",
    "$$\n",
    "a_n = \\frac{4}{\\pi n^2} \\left[ \\cos n \\pi - \\cos \\frac{n\\pi}{2}\\right] = \\frac{4}{\\pi n^2} \\left[ (-1)^n - \\cos \\frac{n\\pi}{2}\\right]\n",
    "$$\n",
    "\n",
    "El segundo sumando es nulo si $n$ es impar por lo tanto podemos dar:\n",
    "\n",
    "$$\n",
    "S(x) = \\frac{\\pi}{4} + \\frac{4}{\\pi} \\left[ \\sum_{n=1}^\\infty \\frac{(-1)^n}{n^2} \\cos n x - \\frac{(-1)^n}{4n^2} \\cos 2nx \\right]\n",
    "$$\n",
    "\n",
    "En los extremos la función vale $f(\\pi) = f(-\\pi) = \\pi$ y la serie también $S(\\pi) = S(-\\pi) = \\pi$."
   ]
  },
  {
   "cell_type": "code",
   "execution_count": 13,
   "metadata": {},
   "outputs": [
    {
     "data": {
      "image/png": "[encoded data removed]",
      "text/latex": [
       "$\\displaystyle \\left( \\begin{cases} \\frac{4 \\left(\\left(-1\\right)^{n} - \\cos{\\left(\\frac{\\pi n}{2} \\right)}\\right)}{\\pi n^{2}} & \\text{for}\\: n \\neq 0 \\\\\\frac{\\pi}{2} & \\text{otherwise} \\end{cases}, \\  0\\right)$"
      ],
      "text/plain": [
       "⎛⎧  ⎛    n      ⎛π⋅n⎞⎞              ⎞\n",
       "⎜⎪4⋅⎜(-1)  - cos⎜───⎟⎟              ⎟\n",
       "⎜⎪  ⎝           ⎝ 2 ⎠⎠              ⎟\n",
       "⎜⎪────────────────────  for n ≠ 0   ⎟\n",
       "⎜⎪           2                      ⎟\n",
       "⎜⎨        π⋅n                    , 0⎟\n",
       "⎜⎪                                  ⎟\n",
       "⎜⎪         π                        ⎟\n",
       "⎜⎪         ─            otherwise   ⎟\n",
       "⎜⎪         2                        ⎟\n",
       "⎝⎩                                  ⎠"
      ]
     },
     "execution_count": 13,
     "metadata": {},
     "output_type": "execute_result"
    },
    {
     "data": {
      "image/png": "[encoded data removed]",
      "text/plain": [
       "<Figure size 432x288 with 1 Axes>"
      ]
     },
     "metadata": {},
     "output_type": "display_data"
    }
   ],
   "source": [
    "fun = sp.Piecewise((-2*x - sp.pi, x <= -sp.pi/2), (0, x < sp.pi/2), (2*x - sp.pi, True))\n",
    "xs = np.linspace(-np.pi, np.pi, 100)\n",
    "ys = np.array([fun.subs(x, xi) for xi in xs])\n",
    "plt.plot(xs, ys); plt.title(fun)\n",
    "sas, sbs = sfourier(fun)\n",
    "sp.simplify(sas), sbs"
   ]
  },
  {
   "cell_type": "code",
   "execution_count": null,
   "metadata": {},
   "outputs": [],
   "source": []
  }
 ],
 "metadata": {
  "celltoolbar": "Slideshow",
  "kernelspec": {
   "display_name": "Python 3",
   "language": "python",
   "name": "python3"
  },
  "language_info": {
   "codemirror_mode": {
    "name": "ipython",
    "version": 3
   },
   "file_extension": ".py",
   "mimetype": "text/x-python",
   "name": "python",
   "nbconvert_exporter": "python",
   "pygments_lexer": "ipython3",
   "version": "3.8.8"
  }
 },
 "nbformat": 4,
 "nbformat_minor": 2
}
