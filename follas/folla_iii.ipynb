{
 "cells": [
  {
   "cell_type": "markdown",
   "metadata": {},
   "source": [
    "### Folla 1 - Conjuntos de nivel\n",
    "\n",
    "February 2020"
   ]
  },
  {
   "cell_type": "code",
   "execution_count": 61,
   "metadata": {},
   "outputs": [
    {
     "name": "stdout",
     "output_type": "stream",
     "text": [
      " Last version  Thu Mar  5 09:39:26 2020\n"
     ]
    }
   ],
   "source": [
    "import time\n",
    "print(' Last version ', time.asctime() )"
   ]
  },
  {
   "cell_type": "code",
   "execution_count": 62,
   "metadata": {},
   "outputs": [
    {
     "name": "stdout",
     "output_type": "stream",
     "text": [
      "The autoreload extension is already loaded. To reload it, use:\n",
      "  %reload_ext autoreload\n"
     ]
    }
   ],
   "source": [
    "# general imports\n",
    "%matplotlib inline\n",
    "%load_ext autoreload\n",
    "%autoreload 2\n",
    "\n",
    "# numpy and matplotlib\n",
    "from sympy import *\n",
    "import numpy as np\n",
    "import matplotlib\n",
    "import matplotlib.pyplot as plt\n",
    "from mpl_toolkits.mplot3d import Axes3D\n",
    "matplotlib.style.use('ggplot')\n",
    "import graph_utils as gf\n"
   ]
  },
  {
   "cell_type": "markdown",
   "metadata": {},
   "source": [
    "1. Calcula las derivadas parciales"
   ]
  },
  {
   "cell_type": "code",
   "execution_count": 65,
   "metadata": {
    "slideshow": {
     "slide_type": "slide"
    }
   },
   "outputs": [],
   "source": [
    "def gradiente(fun, vars):\n",
    "    grad = [simplify(diff(fun, var)) for var in vars]\n",
    "    print(grad)\n",
    "    return grad"
   ]
  },
  {
   "cell_type": "code",
   "execution_count": 70,
   "metadata": {
    "slideshow": {
     "slide_type": "slide"
    }
   },
   "outputs": [
    {
     "data": {
      "text/latex": [
       "$\\displaystyle y \\cos{\\left(x y \\right)} + \\frac{y z}{x}$"
      ],
      "text/plain": [
       "y*cos(x*y) + y*z/x"
      ]
     },
     "execution_count": 70,
     "metadata": {},
     "output_type": "execute_result"
    }
   ],
   "source": [
    "x, y, z = symbols('x y z')\n",
    "fun     = y*z*log(x*y*z)+sin(x*y)\n",
    "diff(fun, x)\n",
    "#gradiente(fun, (x, y, z))"
   ]
  },
  {
   "cell_type": "code",
   "execution_count": 33,
   "metadata": {
    "slideshow": {
     "slide_type": "slide"
    }
   },
   "outputs": [
    {
     "name": "stdout",
     "output_type": "stream",
     "text": [
      "[(2*x**2 + 1)*exp(x**2 + y**2), 2*x*y*exp(x**2 + y**2)]\n"
     ]
    }
   ],
   "source": [
    "fun     = x*exp(x**2 + y**2)\n",
    "gradiente(fun, (x, y))"
   ]
  },
  {
   "cell_type": "code",
   "execution_count": 28,
   "metadata": {},
   "outputs": [
    {
     "name": "stdout",
     "output_type": "stream",
     "text": [
      "[((2*x*sin(x) + (x**2 + y**2 + 1)*log(x**2 + y**2 + 1)*cos(x))*(x**2 + y**2 + 1)**sin(x) - 2*(x**2 + y**2 + 1)**(sin(x) + 1))*exp(-2*x - y**2)/(x**2 + y**2 + 1), -2*y*(x**2 + y**2 + 1)**(sin(x) - 1)*(x**2 + y**2 - sin(x) + 1)*exp(-2*x - y**2)]\n"
     ]
    }
   ],
   "source": [
    "fun     = ((x**2 + y**2 + 1)**sin(x))/(exp(2*x + y**2))\n",
    "gradiente(fun, (x, y))"
   ]
  },
  {
   "cell_type": "code",
   "execution_count": 29,
   "metadata": {},
   "outputs": [
    {
     "name": "stdout",
     "output_type": "stream",
     "text": [
      "[(x - y)/(x**2 + y**2), (x + y)/(x**2 + y**2)]\n"
     ]
    }
   ],
   "source": [
    "fun     = log(x**2 + y**2)/2 + atan(y/x)\n",
    "gradiente(fun, (x, y))"
   ]
  },
  {
   "cell_type": "code",
   "execution_count": 31,
   "metadata": {},
   "outputs": [
    {
     "name": "stdout",
     "output_type": "stream",
     "text": [
      "[y*cosh(x*y - z**2), x*cosh(x*y - z**2), -2*z*cosh(x*y - z**2)]\n"
     ]
    }
   ],
   "source": [
    "fun = sinh(x*y -z**2)\n",
    "gradiente(fun, (x, y, z))"
   ]
  },
  {
   "cell_type": "markdown",
   "metadata": {},
   "source": [
    "2. Calcula el gradiente"
   ]
  },
  {
   "cell_type": "code",
   "execution_count": 34,
   "metadata": {},
   "outputs": [
    {
     "name": "stdout",
     "output_type": "stream",
     "text": [
      "[y**3/(x**2 + y**2)**(3/2), x**3/(x**2 + y**2)**(3/2)]\n"
     ]
    }
   ],
   "source": [
    "fun = x*y / sqrt(x**2 + y**2)\n",
    "gradiente(fun, (x, y))"
   ]
  },
  {
   "cell_type": "code",
   "execution_count": 35,
   "metadata": {},
   "outputs": [
    {
     "name": "stdout",
     "output_type": "stream",
     "text": [
      "[(1 - 2*x**2)*exp(-x**2 - y**2 - z**2), -2*x*y*exp(-x**2 - y**2 - z**2), -2*x*z*exp(-x**2 - y**2 - z**2)]\n"
     ]
    }
   ],
   "source": [
    "fun = x * exp(-x**2 -y**2 -z**2)\n",
    "gradiente(fun, (x, y, z))"
   ]
  },
  {
   "cell_type": "code",
   "execution_count": 43,
   "metadata": {},
   "outputs": [
    {
     "name": "stdout",
     "output_type": "stream",
     "text": [
      "[y*(-8*x + y), 2*x*(-2*x + y), 2*z]\n",
      "[9, -6, 4]\n",
      "[9 -6 4]\n",
      "54\n"
     ]
    }
   ],
   "source": [
    "fun  = x * y**2 - 4* x**2 * y + z**2\n",
    "gfun = gradiente(fun, (x, y, z))\n",
    "gfx0 = [fi.subs([(x, 1), (y, -1), (z, 2)]) for fi in gfun]\n",
    "gfx0 = np.array(gfunx0)\n",
    "print(gfx0)\n",
    "v1   = np.array([6, 2, 3])\n",
    "print(np.sum(gfx0 * v1))"
   ]
  },
  {
   "cell_type": "markdown",
   "metadata": {},
   "source": [
    "3. Calculate the Jacobian matrix"
   ]
  },
  {
   "cell_type": "code",
   "execution_count": 45,
   "metadata": {},
   "outputs": [
    {
     "name": "stdout",
     "output_type": "stream",
     "text": [
      "[exp(y), x*exp(y) - sin(y)]\n",
      "[1, 0]\n",
      "[1, exp(y)]\n"
     ]
    }
   ],
   "source": [
    "fun1 = x * exp(y) + cos(y)\n",
    "fun2 = x\n",
    "fun3 = x + exp(y)\n",
    "gf1  = gradiente(fun1, (x, y))\n",
    "gf2  = gradiente(fun2, (x, y))\n",
    "gf2  = gradiente(fun3, (x, y))"
   ]
  },
  {
   "cell_type": "code",
   "execution_count": 46,
   "metadata": {},
   "outputs": [
    {
     "name": "stdout",
     "output_type": "stream",
     "text": [
      "[y*(x*y + 1)*exp(x*y), x*(x*y + 1)*exp(x*y)]\n",
      "[x*y*cos(x*y) + sin(x*y), x**2*cos(x*y)]\n"
     ]
    }
   ],
   "source": [
    "fun1 = x * y* exp(x*y)\n",
    "fun2 = x * sin(x*y)\n",
    "gf1  = gradiente(fun1, (x, y))\n",
    "gf2  = gradiente(fun2, (x, y))"
   ]
  },
  {
   "cell_type": "code",
   "execution_count": 47,
   "metadata": {},
   "outputs": [
    {
     "name": "stdout",
     "output_type": "stream",
     "text": [
      "[2/(x - y), -2/(x - y)]\n",
      "[(x/y)**x*(log(x/y) + 1), -x*(x/y)**x/y]\n"
     ]
    }
   ],
   "source": [
    "fun1 = log(x**2 - 2*x*y + y**2)\n",
    "fun2 = (x/y)**x\n",
    "gf1  = gradiente(fun1, (x, y))\n",
    "gf2  = gradiente(fun2, (x, y))"
   ]
  },
  {
   "cell_type": "markdown",
   "metadata": {},
   "source": [
    "4. Aplicar la regla de la cadea"
   ]
  },
  {
   "cell_type": "code",
   "execution_count": 48,
   "metadata": {},
   "outputs": [
    {
     "name": "stdout",
     "output_type": "stream",
     "text": [
      "[2*x*(log(x**2 + y**2) + 1), 2*y*(log(x**2 + y**2) + 1)]\n"
     ]
    }
   ],
   "source": [
    "fun1 = (x**2 + y**2) * log(x**2 + y**2)\n",
    "gf1  = gradiente(fun1, (x, y))"
   ]
  },
  {
   "cell_type": "code",
   "execution_count": 54,
   "metadata": {},
   "outputs": [
    {
     "name": "stdout",
     "output_type": "stream",
     "text": [
      "[y**2 + exp(y), x*(2*y + exp(y))]\n",
      "(exp(sin(t)) + 2*sin(t))*cos(t)**2 - (exp(sin(t)) + sin(t)**2)*sin(t)\n"
     ]
    }
   ],
   "source": [
    "t    = symbols('t') \n",
    "fun1 = x*exp(y) + x * y**2\n",
    "gf1  = gradiente(fun1, (x, y))\n",
    "gh1  = [fi.subs([(x, cos(t)), (y, sin(t))]) for fi in gf1]\n",
    "gh   = simplify(gh1[0] * (-sin(t)) + gh1[1] * cos(t))\n",
    "print(gh)"
   ]
  },
  {
   "cell_type": "code",
   "execution_count": 60,
   "metadata": {},
   "outputs": [
    {
     "name": "stdout",
     "output_type": "stream",
     "text": [
      "[2*x, -sin(y)]\n",
      "[exp(x + y), exp(x + y)]\n",
      "[2, 0]\n",
      "[E, E]\n"
     ]
    }
   ],
   "source": [
    "fun1 = cos(y) + x**2\n",
    "fun2 = exp(x + y)\n",
    "gf1  = gradiente(fun1, (x, y))\n",
    "gf2  = gradiente(fun2, (x, y))\n",
    "gf1x  = [fi.subs([(x, 1), (y, 0)]) for fi in gf1]\n",
    "gf2x  = [fi.subs([(x, 1), (y, 0)]) for fi in gf2]\n",
    "print(gf1x)\n",
    "print(gf2x)"
   ]
  },
  {
   "cell_type": "code",
   "execution_count": 59,
   "metadata": {},
   "outputs": [
    {
     "name": "stdout",
     "output_type": "stream",
     "text": [
      "[2*x*exp(x**2), 0]\n",
      "[1, -cos(y)]\n",
      "[0, 0]\n",
      "[1, -1]\n"
     ]
    }
   ],
   "source": [
    "fun1 = exp(x**2)\n",
    "fun2 = x - sin(y)\n",
    "gf1  = gradiente(fun1, (x, y))\n",
    "gf2  = gradiente(fun2, (x, y))\n",
    "gf1x  = [fi.subs([(x, 0), (y, 0)]) for fi in gf1]\n",
    "gf2x  = [fi.subs([(x, 0), (y, 0)]) for fi in gf2]\n",
    "print(gf1x)\n",
    "print(gf2x)"
   ]
  },
  {
   "cell_type": "code",
   "execution_count": null,
   "metadata": {},
   "outputs": [],
   "source": []
  }
 ],
 "metadata": {
  "celltoolbar": "Slideshow",
  "kernelspec": {
   "display_name": "Python 3",
   "language": "python",
   "name": "python3"
  },
  "language_info": {
   "codemirror_mode": {
    "name": "ipython",
    "version": 3
   },
   "file_extension": ".py",
   "mimetype": "text/x-python",
   "name": "python",
   "nbconvert_exporter": "python",
   "pygments_lexer": "ipython3",
   "version": "3.7.9"
  }
 },
 "nbformat": 4,
 "nbformat_minor": 2
}
