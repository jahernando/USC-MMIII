{
 "cells": [
  {
   "cell_type": "markdown",
   "metadata": {},
   "source": [
    "### Folla 8- Integrales en varias dimensiones\n",
    "\n",
    "Abril 2020"
   ]
  },
  {
   "cell_type": "code",
   "execution_count": 1,
   "metadata": {},
   "outputs": [
    {
     "name": "stdout",
     "output_type": "stream",
     "text": [
      " Last version  Tue Apr 27 09:15:31 2021\n"
     ]
    }
   ],
   "source": [
    "import time\n",
    "print(' Last version ', time.asctime() )"
   ]
  },
  {
   "cell_type": "code",
   "execution_count": 2,
   "metadata": {},
   "outputs": [],
   "source": [
    "# general imports\n",
    "%matplotlib inline\n",
    "%load_ext autoreload\n",
    "%autoreload 2\n",
    "\n",
    "# numpy and matplotlib\n",
    "import numpy as np\n",
    "import sympy as sp\n",
    "\n",
    "import matplotlib\n",
    "import matplotlib.pyplot as plt\n",
    "from mpl_toolkits.mplot3d import Axes3D\n",
    "\n",
    "plt.style.context('seaborn-colorblind');\n",
    "import graph_utils as gf"
   ]
  },
  {
   "cell_type": "code",
   "execution_count": 3,
   "metadata": {},
   "outputs": [],
   "source": [
    "def line(ts, xfun, yfun, name = ''):\n",
    "    xs = xfun(ts)\n",
    "    ys = yfun(ts)\n",
    "    plt.plot(xs, ys)\n",
    "    plt.grid(True); plt.xlabel(r'$x$'); plt.ylabel(r'$y$')\n",
    "    if name != '': plt.title(name)\n",
    "    return"
   ]
  },
  {
   "cell_type": "code",
   "execution_count": 4,
   "metadata": {},
   "outputs": [],
   "source": [
    "x, y, z, t = sp.symbols('x y z t')"
   ]
  },
  {
   "cell_type": "code",
   "execution_count": 5,
   "metadata": {},
   "outputs": [],
   "source": [
    "def d2int(fun, xint, yint):\n",
    "    return sp.integrate(sp.integrate(fun, xint), yint)\n",
    "\n",
    "def d3int(fun, xint, yint, zint):\n",
    "    return sp.integrate(d2int(fun, xint, yint), zint)"
   ]
  },
  {
   "cell_type": "code",
   "execution_count": 6,
   "metadata": {},
   "outputs": [],
   "source": [
    "def lineintF(F, c, tint, debug = True):\n",
    "    Fx, Fy = F\n",
    "    xt, yt = c\n",
    "    t, t0, t1 = tint\n",
    "    xpt, ypt = sp.diff(xt, t), sp.diff(yt, t)\n",
    "    fx = Fx.subs(x, xt).subs(y, yt)\n",
    "    fy = Fy.subs(x, xt).subs(y, yt)\n",
    "    ft = fx * xpt + fy * ypt\n",
    "    val = sp.integrate(ft, (t, t0, t1))\n",
    "    if (debug):\n",
    "        print('fx   ', fx)\n",
    "        print('fy   ', fy)\n",
    "        print('xp   ', xpt)\n",
    "        print('yp   ', ypt)\n",
    "        print('f(t) ', ft)\n",
    "        print('int f(t) ', val)\n",
    "    return val\n",
    "\n",
    "\n",
    "def lineintf(f, c, tint, debug = True):\n",
    "    xt, yt = c\n",
    "    t, t0, t1 = tint\n",
    "    xpt, ypt = sp.diff(xt, t), sp.diff(yt, t)\n",
    "    v        = sp.sqrt(xpt * xpt + ypt * ypt)\n",
    "    fc = f.subs(x, xt).subs(y, yt)\n",
    "    if (debug):\n",
    "        print('fc   ', fc)\n",
    "        print('xp   ', xpt)\n",
    "        print('yp   ', ypt)\n",
    "        print('v '   , v)\n",
    "        print('fc v ', fc * v)\n",
    "        print('int fc * v ', sp.integrate(fc * v))\n",
    "    val = sp.integrate(fc * v, (t, t0, t1))\n",
    "    return val"
   ]
  },
  {
   "cell_type": "markdown",
   "metadata": {},
   "source": [
    "**Ejercicio 1**\n",
    "\n",
    "Integrate\n",
    "$ \\int_{(1, 1)}^{(4, 2} (x + y, y-x) \\mathrm{d}{\\bf s}$\n",
    "\n",
    "a) $y^2 = x$"
   ]
  },
  {
   "cell_type": "code",
   "execution_count": 18,
   "metadata": {},
   "outputs": [
    {
     "name": "stdout",
     "output_type": "stream",
     "text": [
      "fx    t**2 + t\n",
      "fy    -t**2 + t\n",
      "xp    2*t\n",
      "yp    1\n",
      "f(t)  -t**2 + 2*t*(t**2 + t) + t\n",
      "int f(t)  t**4/2 + t**3/3 + t**2/2\n"
     ]
    },
    {
     "data": {
      "text/latex": [
       "$\\displaystyle \\frac{34}{3}$"
      ],
      "text/plain": [
       "34/3"
      ]
     },
     "execution_count": 18,
     "metadata": {},
     "output_type": "execute_result"
    }
   ],
   "source": [
    "Fx, Fy = x + y, y - x\n",
    "xt, yt = t * t    , t\n",
    "sp.diff(xt, t)\n",
    "lineintF((Fx, Fy), (xt, yt), (t, 1, 2))"
   ]
  },
  {
   "cell_type": "markdown",
   "metadata": {},
   "source": [
    "$$\n",
    "{\\bf c}(t) = (t^2, t), \\; t \\in [1, 2], \\;\\; {\\bf \\dot{c}}(t) = (2 t, 1)\n",
    "$$\n",
    "pasa por $(1, 1)$ y $(4, 2)$\n",
    "\n",
    "$$\n",
    "\\int_1^2 (t^2 + t, t-t^2) \\, (2t, 1) \\mathrm{d}t = \\\\\n",
    "\\int_1^2 (2t^3 + 2 t^2 + t - t^2) \\mathrm{d}t = \\\\\n",
    "\\int_1^2 (2t^3 + t^2 + t) \\mathrm{d}t = \\\\\n",
    "\\frac{1}{2} t^4 + \\frac{1}{3} t^3 + \\frac{1}{2}t^2 \\Big|_1^2 = \n",
    "8 + \\frac{8}{3} + 2 - \\frac{1}{2} - \\frac{1}{3} - \\frac{1}{2} = 9 + \\frac{7}{3} = \\frac{34}{3}\n",
    "$$"
   ]
  },
  {
   "cell_type": "code",
   "execution_count": 19,
   "metadata": {},
   "outputs": [
    {
     "name": "stdout",
     "output_type": "stream",
     "text": [
      "fx    4*t + 2\n",
      "fy    -2*t\n",
      "xp    3\n",
      "yp    1\n",
      "f(t)  10*t + 6\n",
      "int f(t)  5*t**2 + 6*t\n"
     ]
    },
    {
     "data": {
      "text/latex": [
       "$\\displaystyle 11$"
      ],
      "text/plain": [
       "11"
      ]
     },
     "execution_count": 19,
     "metadata": {},
     "output_type": "execute_result"
    }
   ],
   "source": [
    "xt, yt = 3*t + 1, t + 1 \n",
    "lineintF((Fx, Fy), (xt, yt), (t, 0, 1))"
   ]
  },
  {
   "cell_type": "markdown",
   "metadata": {},
   "source": [
    "$$\n",
    "{\\bf c}(t) = (3t +1, t+1), \\; t \\in (0, 1), \\;\\; {\\bf \\dot{c}}(t) = (3, 1)\n",
    "$$\n",
    "\n",
    "$$\n",
    "\\int_0^1 (4t+2, -2t) \\, (3, 1) \\mathrm{d}t = \\\\\n",
    "\\int_0^1 (10t + 6) \\, \\mathrm{d}t = \\\\\n",
    "5 t^2 + 6 t \\Big|_0^1 = 5 + 6 = 11\n",
    "$$"
   ]
  },
  {
   "cell_type": "code",
   "execution_count": 20,
   "metadata": {},
   "outputs": [
    {
     "name": "stdout",
     "output_type": "stream",
     "text": [
      "fx    t + 2\n",
      "fy    t\n",
      "xp    0\n",
      "yp    1\n",
      "f(t)  t\n",
      "int f(t)  t**2/2\n",
      "v1 : 1/2\n",
      "fx    3*t + 3\n",
      "fy    1 - 3*t\n",
      "xp    3\n",
      "yp    0\n",
      "f(t)  9*t + 9\n",
      "int f(t)  9*t**2/2 + 9*t\n",
      "v2 :  27/2\n",
      "total  14\n"
     ]
    }
   ],
   "source": [
    "xt, yt = 1, t+1\n",
    "v1 = lineintF((Fx, Fy), (xt, yt), (t, 0, 1))\n",
    "print('v1 :', v1)\n",
    "xt, yt = 1 + 3*t, 2\n",
    "v2 = lineintF((Fx, Fy), (xt, yt), (t, 0, 1))\n",
    "print('v2 : ', v2)\n",
    "print('total ', v1 + v2)"
   ]
  },
  {
   "cell_type": "code",
   "execution_count": 21,
   "metadata": {},
   "outputs": [
    {
     "name": "stdout",
     "output_type": "stream",
     "text": [
      "fx    3*t**2 + t + 2\n",
      "fy    -t**2 - t\n",
      "xp    4*t + 1\n",
      "yp    2*t\n",
      "f(t)  2*t*(-t**2 - t) + (4*t + 1)*(3*t**2 + t + 2)\n",
      "int f(t)  5*t**4/2 + 5*t**3/3 + 9*t**2/2 + 2*t\n"
     ]
    },
    {
     "data": {
      "text/latex": [
       "$\\displaystyle \\frac{32}{3}$"
      ],
      "text/plain": [
       "32/3"
      ]
     },
     "execution_count": 21,
     "metadata": {},
     "output_type": "execute_result"
    }
   ],
   "source": [
    "xt, yt = 2*t**2 + t +1, t**2 +1\n",
    "lineintF((Fx, Fy), (xt, yt), (t, 0, 1))"
   ]
  },
  {
   "cell_type": "markdown",
   "metadata": {},
   "source": [
    "**Ejercicio 2**\n",
    "\n",
    "$\\oint (2x - y +4, 5y + 3x -6) \\, \\mathrm{d}{\\bf s}$\n",
    "\n",
    "a) en el triángulo (0,0), (3, 0), (3, 1)\n",
    "b) en la circunferencia de radio 4, centrada en el origen"
   ]
  },
  {
   "cell_type": "code",
   "execution_count": 22,
   "metadata": {},
   "outputs": [
    {
     "name": "stdout",
     "output_type": "stream",
     "text": [
      "fx    6*t + 4\n",
      "fy    9*t - 6\n",
      "xp    3\n",
      "yp    0\n",
      "f(t)  18*t + 12\n",
      "int f(t)  9*t**2 + 12*t\n",
      "v1 : 21\n",
      "fx    10 - 2*t\n",
      "fy    10*t + 3\n",
      "xp    0\n",
      "yp    2\n",
      "f(t)  20*t + 6\n",
      "int f(t)  10*t**2 + 6*t\n",
      "v2 :  16\n",
      "fx    4*t + 4\n",
      "fy    19*t - 6\n",
      "xp    3\n",
      "yp    2\n",
      "f(t)  50*t\n",
      "int f(t)  25*t**2\n",
      "v3 :  25\n",
      "total  12\n"
     ]
    }
   ],
   "source": [
    "Fx, Fy = 2*x - y + 4, 5*y + 3*x -6\n",
    "xt, yt = 3*t, 0\n",
    "v1 = lineintF((Fx, Fy), (xt, yt), (t, 0, 1))\n",
    "print('v1 :', v1)\n",
    "xt, yt = 3, 2*t\n",
    "v2 = lineintF((Fx, Fy), (xt, yt), (t, 0, 1))\n",
    "print('v2 : ', v2)\n",
    "xt, yt = 3*t, 2*t\n",
    "v3 = lineintF((Fx, Fy), (xt, yt), (t, 0, 1))\n",
    "print('v3 : ', v3)\n",
    "print('total ', v1 + v2 - v3)"
   ]
  },
  {
   "cell_type": "code",
   "execution_count": 23,
   "metadata": {},
   "outputs": [
    {
     "name": "stdout",
     "output_type": "stream",
     "text": [
      "fx    -4*sin(t) + 8*cos(t) + 4\n",
      "fy    20*sin(t) + 12*cos(t) - 6\n",
      "xp    -4*sin(t)\n",
      "yp    4*cos(t)\n",
      "f(t)  -4*(-4*sin(t) + 8*cos(t) + 4)*sin(t) + 4*(20*sin(t) + 12*cos(t) - 6)*cos(t)\n",
      "int f(t)  32*t*sin(t)**2 + 32*t*cos(t)**2 + 16*sin(t)*cos(t) - 24*sin(t) - 24*cos(t)**2 + 16*cos(t)\n",
      "v1 : 64*pi\n"
     ]
    }
   ],
   "source": [
    "Fx, Fy = 2 * x - y + 4, 5 * y + 3 * x -6\n",
    "xt, yt = 4 * sp.cos(t), 4 * sp.sin(t)\n",
    "v1 = lineintF((Fx, Fy), (xt, yt), (t, 0, 2*sp.pi))\n",
    "print('v1 :', v1)"
   ]
  },
  {
   "cell_type": "markdown",
   "metadata": {},
   "source": [
    "**Ejercicio 4**\n",
    "\n",
    "$\\int (2x+y) \\, \\mathrm{d}s$\n",
    "\n",
    "en la curva $x^2 + y^2 = 5^2$, entre los puntos (3, 4), y (4, 3)"
   ]
  },
  {
   "cell_type": "code",
   "execution_count": 24,
   "metadata": {},
   "outputs": [
    {
     "name": "stdout",
     "output_type": "stream",
     "text": [
      "fc    5*sin(t) + 10*cos(t)\n",
      "xp    -5*sin(t)\n",
      "yp    5*cos(t)\n",
      "v  sqrt(25*sin(t)**2 + 25*cos(t)**2)\n",
      "fc v  (5*sin(t) + 10*cos(t))*sqrt(25*sin(t)**2 + 25*cos(t)**2)\n",
      "int fc * v  50*sqrt(sin(t)**2 + cos(t)**2)*sin(t) - 25*sqrt(sin(t)**2 + cos(t)**2)*cos(t)\n"
     ]
    },
    {
     "data": {
      "text/latex": [
       "$\\displaystyle 15.0$"
      ],
      "text/plain": [
       "15.0000000000000"
      ]
     },
     "execution_count": 24,
     "metadata": {},
     "output_type": "execute_result"
    }
   ],
   "source": [
    "phi1, phi0 = sp.atan(4/3), sp.atan(3/4)\n",
    "\n",
    "f      = 2*x + y\n",
    "xt, yt = 5 * sp.cos(t), 5*sp.sin(t)\n",
    "\n",
    "lineintf(f, (xt, yt), (t, phi0, phi1))"
   ]
  },
  {
   "cell_type": "markdown",
   "metadata": {},
   "source": [
    "**ejercicio 5**\n",
    "\n",
    "Verificar el teorema de Green\n",
    "\n",
    "$\\oint (x^2 - x y^3, y^2 - 2xy) \\, \\mathrm{d}{\\bf s}$\n",
    "\n",
    "en el cuadrado (0, 0), (2, 2)"
   ]
  },
  {
   "cell_type": "code",
   "execution_count": 25,
   "metadata": {},
   "outputs": [
    {
     "name": "stdout",
     "output_type": "stream",
     "text": [
      "3*x*y**2 - 2*y\n"
     ]
    },
    {
     "data": {
      "text/latex": [
       "$\\displaystyle 8.0$"
      ],
      "text/plain": [
       "8.00000000000000"
      ]
     },
     "execution_count": 25,
     "metadata": {},
     "output_type": "execute_result"
    }
   ],
   "source": [
    "Fx = x**2 - x * y**3\n",
    "Fy = y**2 - 2 * x * y\n",
    "gf = sp.diff(Fy, x) - sp.diff(Fx, y) \n",
    "print(gf)\n",
    "d2int(gf, (x, 0., 2.), (y, 0, 2.))"
   ]
  },
  {
   "cell_type": "code",
   "execution_count": 26,
   "metadata": {},
   "outputs": [
    {
     "name": "stdout",
     "output_type": "stream",
     "text": [
      "fx    4*t**2\n",
      "fy    0\n",
      "xp    2\n",
      "yp    0\n",
      "f(t)  8*t**2\n",
      "int f(t)  8*t**3/3\n",
      "v1 : 2.66666666666667\n",
      "fx    4 - 16*t**3\n",
      "fy    4*t**2 - 8*t\n",
      "xp    0\n",
      "yp    2\n",
      "f(t)  8*t**2 - 16*t\n",
      "int f(t)  8*t**3/3 - 8*t**2\n",
      "v1 : -5.33333333333333\n",
      "fx    4*t**2 - 16*t\n",
      "fy    4 - 8*t\n",
      "xp    2\n",
      "yp    0\n",
      "f(t)  8*t**2 - 32*t\n",
      "int f(t)  8*t**3/3 - 16*t**2\n",
      "v1 : -13.3333333333333\n",
      "fx    0\n",
      "fy    4*t**2\n",
      "xp    0\n",
      "yp    2\n",
      "f(t)  8*t**2\n",
      "int f(t)  8*t**3/3\n",
      "v1 : 2.66666666666667\n",
      " vtot :  8.00000000000000\n"
     ]
    }
   ],
   "source": [
    "xt, yt = 2 *t , 0\n",
    "v1 = lineintF((Fx, Fy), (xt, yt), (t, 0, 1.))\n",
    "print('v1 :', v1)\n",
    "xt, yt = 2    , 2 * t\n",
    "v2 = lineintF((Fx, Fy), (xt, yt), (t, 0, 1.))\n",
    "print('v1 :', v2)\n",
    "xt, yt = 2 * t, 2\n",
    "v3 = lineintF((Fx, Fy), (xt, yt), (t, 0, 1.))\n",
    "print('v1 :', v3)\n",
    "xt, yt = 0, 2 * t\n",
    "v4 = lineintF((Fx, Fy), (xt, yt), (t, 0, 1.))\n",
    "print('v1 :', v4)\n",
    "print(' vtot : ', v1 + v2 - v3 - v4)"
   ]
  },
  {
   "cell_type": "code",
   "execution_count": 115,
   "metadata": {},
   "outputs": [],
   "source": [
    "from sympy.physics.vector import vector, ReferenceFrame\n",
    "cbase = ReferenceFrame('e')\n",
    "\n",
    "def surfintf(f, xsigma, uint, vint, debug = True):\n",
    "    xs, ys, zs = xsigma\n",
    "    vs         = xs * cbase.x + ys * cbase.y + zs * cbase.z\n",
    "    u, v       = uint[0], vint[0]\n",
    "    tu         = vs.diff(u, cbase)\n",
    "    tv         = vs.diff(v, cbase)\n",
    "    tn         = tu.cross(tv)\n",
    "    dn         = tn.magnitude()\n",
    "    val        = sp.integrate(sp.integrate(f * dn, uint), vint)\n",
    "    if (debug):\n",
    "        print('sigma ', vs)\n",
    "        print('tu    ', tu)\n",
    "        print('tv    ', tv)\n",
    "        print('n     ', tn)\n",
    "        print('dn    ', dn)\n",
    "        print('int   ', val)\n",
    "    return val\n",
    "\n",
    "\n",
    "def surfintF(F, xsigma, uint, vint, debug = True):\n",
    "    Fx, Fy, Fz = F\n",
    "    Fv         = Fx * cbase.x + Fy * cbase.y + Fz * cbase.z\n",
    "    xs, ys, zs = xsigma\n",
    "    vs         = xs * cbase.x + ys * cbase.y + zs * cbase.z\n",
    "    u, v       = uint[0], vint[0]\n",
    "    tu         = vs.diff(u, cbase)\n",
    "    tv         = vs.diff(v, cbase)\n",
    "    tn         = tu.cross(tv)\n",
    "    fn         = Fv.dot(tn)\n",
    "    val        = sp.integrate(sp.integrate(fn, uint), vint)\n",
    "    if (debug):\n",
    "        print('F     ', Fv)\n",
    "        print('sigma ', vs)\n",
    "        print('tu    ', tu)\n",
    "        print('tv    ', tv)\n",
    "        print('n     ', tn)\n",
    "        print('F tn  ', fn)\n",
    "        print('int   ', val)\n",
    "    return val"
   ]
  },
  {
   "cell_type": "markdown",
   "metadata": {},
   "source": [
    "**Ejercicio 7** Calcular la integral $\\int_R (x^2+y^2) \\, \\mathrm{d}\\sigma$ con $z^2 = 3 (x^2 + y^2)$ en $z \\in [0, 3]$"
   ]
  },
  {
   "cell_type": "code",
   "execution_count": 93,
   "metadata": {},
   "outputs": [
    {
     "name": "stdout",
     "output_type": "stream",
     "text": [
      "sigma  r*cos(phi)*e.x + r*sin(phi)*e.y + sqrt(3)*r*e.z\n",
      "tu     cos(phi)*e.x + sin(phi)*e.y + sqrt(3)*e.z\n",
      "tv     - r*sin(phi)*e.x + r*cos(phi)*e.y\n",
      "n      - sqrt(3)*r*cos(phi)*e.x - sqrt(3)*r*sin(phi)*e.y + (r*sin(phi)**2 + r*cos(phi)**2)*e.z\n",
      "dn     sqrt(3*r**2*sin(phi)**2 + 3*r**2*cos(phi)**2 + (r*sin(phi)**2 + r*cos(phi)**2)**2)\n",
      "int    9.0*pi\n"
     ]
    },
    {
     "data": {
      "text/latex": [
       "$\\displaystyle 9.0 \\pi$"
      ],
      "text/plain": [
       "9.0*pi"
      ]
     },
     "execution_count": 93,
     "metadata": {},
     "output_type": "execute_result"
    }
   ],
   "source": [
    "r, phi, theta = sp.symbols('r phi theta')\n",
    "surfintf( r*r, (r * sp.cos(phi), r * sp.sin(phi), sp.sqrt(3) * r), \n",
    "         (r, 0, sp.sqrt(3.)), (phi, 0, 2* sp.pi))"
   ]
  },
  {
   "cell_type": "markdown",
   "metadata": {},
   "source": [
    "**Ejercicio 8** Calcular el área de la superficie do paraboloide de revolución $2z = x^2 + y^2$ que está fuera del cono de ecuación $z = \\sqrt{x^2 + y^2}$."
   ]
  },
  {
   "cell_type": "code",
   "execution_count": 94,
   "metadata": {},
   "outputs": [
    {
     "name": "stdout",
     "output_type": "stream",
     "text": [
      "sigma  r*cos(phi)*e.x + r*sin(phi)*e.y + r**2/2*e.z\n",
      "tu     cos(phi)*e.x + sin(phi)*e.y + r*e.z\n",
      "tv     - r*sin(phi)*e.x + r*cos(phi)*e.y\n",
      "n      - r**2*cos(phi)*e.x - r**2*sin(phi)*e.y + (r*sin(phi)**2 + r*cos(phi)**2)*e.z\n",
      "dn     sqrt(r**4*sin(phi)**2 + r**4*cos(phi)**2 + (r*sin(phi)**2 + r*cos(phi)**2)**2)\n",
      "int    -0.666666666666667*pi + 3.33333333333333*sqrt(5)*pi\n"
     ]
    },
    {
     "data": {
      "text/latex": [
       "$\\displaystyle - 0.666666666666667 \\pi + 3.33333333333333 \\sqrt{5} \\pi$"
      ],
      "text/plain": [
       "-0.666666666666667*pi + 3.33333333333333*sqrt(5)*pi"
      ]
     },
     "execution_count": 94,
     "metadata": {},
     "output_type": "execute_result"
    }
   ],
   "source": [
    "surfintf(1., (r * sp.cos(phi), r * sp.sin(phi), r*r/2), (r, 0., 2), (phi, 0, 2*sp.pi))"
   ]
  },
  {
   "cell_type": "markdown",
   "metadata": {},
   "source": [
    "**Ejercicio 8** Calcular el flujo de ${\\bf F} = (ax, by, cz)$ en la esfera de radio unidad"
   ]
  },
  {
   "cell_type": "code",
   "execution_count": 97,
   "metadata": {},
   "outputs": [
    {
     "name": "stdout",
     "output_type": "stream",
     "text": [
      "F      a*r*sin(theta)*cos(phi)*e.x + b*r*sin(phi)*sin(theta)*e.y + c*r*cos(theta)*e.z\n",
      "sigma  r*sin(theta)*cos(phi)*e.x + r*sin(phi)*sin(theta)*e.y + r*cos(theta)*e.z\n",
      "tu     r*cos(phi)*cos(theta)*e.x + r*sin(phi)*cos(theta)*e.y - r*sin(theta)*e.z\n",
      "tv     - r*sin(phi)*sin(theta)*e.x + r*sin(theta)*cos(phi)*e.y\n",
      "n      r**2*sin(theta)**2*cos(phi)*e.x + r**2*sin(phi)*sin(theta)**2*e.y + (r**2*sin(phi)**2*sin(theta)*cos(theta) + r**2*sin(theta)*cos(phi)**2*cos(theta))*e.z\n",
      "dn     1.73205080756888*sqrt(r**2*sin(phi)**2 + r**2*cos(phi)**2 + 0.333333333333333*(r*sin(phi)**2 + r*cos(phi)**2)**2)\n",
      "F tn   a*r**3*sin(theta)**3*cos(phi)**2 + b*r**3*sin(phi)**2*sin(theta)**3 + c*r*(r**2*sin(phi)**2*sin(theta)*cos(theta) + r**2*sin(theta)*cos(phi)**2*cos(theta))*cos(theta)\n",
      "int    1.33333333333333*pi*a*r**3 + 1.33333333333333*pi*b*r**3 + 1.33333333333333*pi*c*r**3\n"
     ]
    },
    {
     "data": {
      "text/latex": [
       "$\\displaystyle 1.33333333333333 \\pi a r^{3} + 1.33333333333333 \\pi b r^{3} + 1.33333333333333 \\pi c r^{3}$"
      ],
      "text/plain": [
       "1.33333333333333*pi*a*r**3 + 1.33333333333333*pi*b*r**3 + 1.33333333333333*pi*c*r**3"
      ]
     },
     "execution_count": 97,
     "metadata": {},
     "output_type": "execute_result"
    }
   ],
   "source": [
    "a, b, c = sp.symbols('a b c')\n",
    "F       = (a * r * sp.sin(theta) * sp.cos(phi), b * r * sp.sin(theta) * sp.sin(phi), c * r * sp.cos(theta))\n",
    "sigma   = (r * sp.sin(theta) * sp.cos(phi),  r * sp.sin(theta) * sp.sin(phi),  r * sp.cos(theta))\n",
    "surfintF(F, sigma, (theta, 0, sp.pi), (phi, 0., 2.*sp.pi))"
   ]
  },
  {
   "cell_type": "markdown",
   "metadata": {},
   "source": [
    "**Ejercicio 9** Verifica el teorema de la divergencia con ${\\bf F} = (2xy + z,  y^2, - x - 3y)$, en el volumen acotado por las superficies: $2x + 2y + z = 6, \\; x = 0, \\; y = 0, \\; z = 0$."
   ]
  },
  {
   "cell_type": "code",
   "execution_count": 100,
   "metadata": {},
   "outputs": [
    {
     "data": {
      "text/latex": [
       "$\\displaystyle 27.0$"
      ],
      "text/plain": [
       "27.0000000000000"
      ]
     },
     "execution_count": 100,
     "metadata": {},
     "output_type": "execute_result"
    }
   ],
   "source": [
    "xint = (x, 0, 3.)\n",
    "yint = (y, 0, 3 -   x)\n",
    "zint = (z, 0, 6 - 2*x - 2*y)\n",
    "difF = 4 *y\n",
    "d3int(difF, zint, yint, xint)"
   ]
  },
  {
   "cell_type": "code",
   "execution_count": 132,
   "metadata": {},
   "outputs": [
    {
     "name": "stdout",
     "output_type": "stream",
     "text": [
      "F      (2*x*y - 2*x - 2*y + 6)*e.x + y**2*e.y + (-x - 3*y)*e.z\n",
      "sigma  x*e.x + y*e.y + (-2*x - 2*y + 6)*e.z\n",
      "tu     e.x - 2*e.z\n",
      "tv     e.y - 2*e.z\n",
      "n      2*e.x + 2*e.y + e.z\n",
      "F tn   4*x*y - 5*x + 2*y**2 - 7*y + 12\n",
      "int    27.0000000000000\n",
      "arriba  27.0000000000000\n",
      "F      2*x*y*e.x + y**2*e.y + (-x - 3*y)*e.z\n",
      "sigma  x*e.x + y*e.y\n",
      "tu     e.x\n",
      "tv     e.y\n",
      "n      e.z\n",
      "F tn   -x - 3*y\n",
      "int    -18.0000000000000\n",
      "abajo z = 0 -18.0000000000000\n",
      "F      z*e.x - x*e.z\n",
      "sigma  x*e.x + z*e.z\n",
      "tu     e.x\n",
      "tv     e.z\n",
      "n      - e.y\n",
      "F tn   0\n",
      "int    0\n",
      "cara y = 0  0\n",
      "F      z*e.x + y**2*e.y - 3*y*e.z\n",
      "sigma  y*e.y + z*e.z\n",
      "tu     e.z\n",
      "tv     e.y\n",
      "n      - e.x\n",
      "F tn   -z\n",
      "int    -18\n",
      "cara x = 0  -18\n",
      "total  27.0000000000000\n"
     ]
    }
   ],
   "source": [
    "xint = (x, 0, 3. - y)\n",
    "yint = (y, 0, 3)\n",
    "\n",
    "zz = 6 - 2*x - 2*y\n",
    "F  = (2 * x * y + zz, y*y, - x - 3*y)\n",
    "s1 = (x, y, 6 - 2 * x - 2 * y)\n",
    "a1 = surfintF(F, s1, xint, yint, debug = True)\n",
    "print('arriba ', a1)\n",
    "\n",
    "zz = 0.\n",
    "F  = (2 * x * y + zz, y*y, - x - 3*y)\n",
    "s1 = (x, y, 0.)\n",
    "a2 = surfintF(F, s1, xint, yint, debug = True)\n",
    "print('abajo z = 0', a2)\n",
    "\n",
    "xint = (x, 0, 3)\n",
    "zint = (z, 0, 6 - 2* x)\n",
    "F    = (z, 0, -x)\n",
    "s1   = (x, 0, z)\n",
    "a3 = surfintF(F, s1, xint, zint, debug = True)\n",
    "print('cara y = 0 ', a3)\n",
    "\n",
    "yint = (y, 0, 3)\n",
    "zint = (z, 0, 6 - 2 * y)\n",
    "F    = (z, y*y, -3*y)\n",
    "s1   = (0, y, z)\n",
    "a4 = surfintF(F, s1, zint, yint, debug = True)\n",
    "print('cara x = 0 ', a4)\n",
    "\n",
    "print('total ', a1 + a2 + a3 - a4)"
   ]
  },
  {
   "cell_type": "code",
   "execution_count": null,
   "metadata": {},
   "outputs": [],
   "source": []
  }
 ],
 "metadata": {
  "celltoolbar": "Slideshow",
  "kernelspec": {
   "display_name": "Python 3",
   "language": "python",
   "name": "python3"
  },
  "language_info": {
   "codemirror_mode": {
    "name": "ipython",
    "version": 3
   },
   "file_extension": ".py",
   "mimetype": "text/x-python",
   "name": "python",
   "nbconvert_exporter": "python",
   "pygments_lexer": "ipython3",
   "version": "3.8.8"
  }
 },
 "nbformat": 4,
 "nbformat_minor": 2
}
